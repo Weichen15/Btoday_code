{
 "cells": [
  {
   "cell_type": "markdown",
   "id": "ad01f59f",
   "metadata": {},
   "source": [
    "# 1. Import Modules"
   ]
  },
  {
   "cell_type": "code",
   "execution_count": 1,
   "id": "885a102e",
   "metadata": {},
   "outputs": [],
   "source": [
    "from bs4 import BeautifulSoup\n",
    "import requests\n",
    "import time\n",
    "import pandas as pd\n"
   ]
  },
  {
   "cell_type": "markdown",
   "id": "f582f843",
   "metadata": {},
   "source": [
    "# 2. Read Data"
   ]
  },
  {
   "cell_type": "code",
   "execution_count": 4,
   "id": "e0a35961",
   "metadata": {},
   "outputs": [
    {
     "name": "stdout",
     "output_type": "stream",
     "text": [
      "請輸入資料區間： 20231128\n"
     ]
    }
   ],
   "source": [
    "file_date = input(\"請輸入資料區間： \")"
   ]
  },
  {
   "cell_type": "code",
   "execution_count": 5,
   "id": "e701e791",
   "metadata": {},
   "outputs": [],
   "source": [
    "df_bw_file = pd.read_csv(f'SW_BusinessWeekly_Line_{file_date}.csv')"
   ]
  },
  {
   "cell_type": "code",
   "execution_count": 6,
   "id": "c0b81072",
   "metadata": {},
   "outputs": [
    {
     "data": {
      "text/html": [
       "<div>\n",
       "<style scoped>\n",
       "    .dataframe tbody tr th:only-of-type {\n",
       "        vertical-align: middle;\n",
       "    }\n",
       "\n",
       "    .dataframe tbody tr th {\n",
       "        vertical-align: top;\n",
       "    }\n",
       "\n",
       "    .dataframe thead th {\n",
       "        text-align: right;\n",
       "    }\n",
       "</style>\n",
       "<table border=\"1\" class=\"dataframe\">\n",
       "  <thead>\n",
       "    <tr style=\"text-align: right;\">\n",
       "      <th></th>\n",
       "      <th>URL</th>\n",
       "    </tr>\n",
       "  </thead>\n",
       "  <tbody>\n",
       "    <tr>\n",
       "      <th>0</th>\n",
       "      <td>https://www.businessweekly.com.tw/Archive/Arti...</td>\n",
       "    </tr>\n",
       "    <tr>\n",
       "      <th>1</th>\n",
       "      <td>https://www.businessweekly.com.tw/Archive/Arti...</td>\n",
       "    </tr>\n",
       "    <tr>\n",
       "      <th>2</th>\n",
       "      <td>https://bwnet.pse.is/5eqfr7</td>\n",
       "    </tr>\n",
       "    <tr>\n",
       "      <th>3</th>\n",
       "      <td>https://bwnet.pse.is/5da37n</td>\n",
       "    </tr>\n",
       "    <tr>\n",
       "      <th>4</th>\n",
       "      <td>https://bwnet.pse.is/5dedrj</td>\n",
       "    </tr>\n",
       "  </tbody>\n",
       "</table>\n",
       "</div>"
      ],
      "text/plain": [
       "                                                 URL\n",
       "0  https://www.businessweekly.com.tw/Archive/Arti...\n",
       "1  https://www.businessweekly.com.tw/Archive/Arti...\n",
       "2                        https://bwnet.pse.is/5eqfr7\n",
       "3                        https://bwnet.pse.is/5da37n\n",
       "4                        https://bwnet.pse.is/5dedrj"
      ]
     },
     "execution_count": 6,
     "metadata": {},
     "output_type": "execute_result"
    }
   ],
   "source": [
    "df_bw_file.head()"
   ]
  },
  {
   "cell_type": "code",
   "execution_count": null,
   "id": "2cec9460",
   "metadata": {},
   "outputs": [],
   "source": []
  },
  {
   "cell_type": "markdown",
   "id": "19bbf177",
   "metadata": {},
   "source": [
    "### 說明：\n",
    "商周的網頁目前有兩種形式，如果是線上讀，會有'https://www.businessweekly.com.tw/Archive/'\n",
    "在網址裡面，故要另外抓取資料"
   ]
  },
  {
   "cell_type": "code",
   "execution_count": 10,
   "id": "14edec99",
   "metadata": {},
   "outputs": [
    {
     "name": "stdout",
     "output_type": "stream",
     "text": [
      "original url: https://www.businessweekly.com.tw/Archive/Article?StrId=7009163&utm_source=Line&utm_medium=social&utm_content=bw&utm_campaign=content&Ftag=a7009163\n",
      "full url: https://www.businessweekly.com.tw/Archive/Article?StrId=7009163\n",
      "title:  活絡「新40族群」  這600萬人能阻止台灣經濟空洞 - 商業周刊第1880期 - 商周線上讀\n",
      "title description:  現在，是時候翻轉我們對壯世代看法的角度了，因為它與台灣最棘手的高齡與少子化問題，息息相關。台灣將進入超高齡社會，乍聽是負分，但這裡也可以是壯世代產業的最佳孵化地，因為這裡處處皆場景。壯世代，其實擁有40歲時的活力與企圖，當大家能用全新的視野看待他們，不再傲慢歧視，就有機會踩動飛輪，讓台灣朝正向循環的未來邁進。\n",
      "main category: 封面故事\n",
      "文章發布日: 2023-11-23\n",
      "文章標籤: 壯世代,少子化,高齡化,超高齡社會,年輕人\n"
     ]
    },
    {
     "name": "stderr",
     "output_type": "stream",
     "text": [
      "C:\\Users\\JoeJian\\AppData\\Local\\Temp\\ipykernel_9272\\874214619.py:120: FutureWarning: The default dtype for empty Series will be 'object' instead of 'float64' in a future version. Specify a dtype explicitly to silence this warning.\n",
      "  series_id = pd.Series(content_id)\n"
     ]
    },
    {
     "name": "stdout",
     "output_type": "stream",
     "text": [
      "original url: https://www.businessweekly.com.tw/Archive/Article?StrId=7009176&utm_source=Line&utm_medium=social&utm_content=bw&utm_campaign=content&Ftag=a7009176\n",
      "full url: https://www.businessweekly.com.tw/Archive/Article?StrId=7009176\n",
      "title:  OK超商被蝦皮分手　三提問避當大平台時代的輸家 - 商業周刊第1880期 - 商周線上讀\n",
      "title description:  蝦皮宣布將停止與OK超商「雙向寄件」，OK坦言，這一天遲早會來。大平台時代，與大電商合作前要先釐清：你對合作者來說，是否扮演難取代的關鍵要角、有卡住價值創造過程裡的瓶頸？合作後須持續觀察：核心能力是否在其他生態系裡也有需求？是否轉移到另一個生態系？最後則要思考：是否有群死忠客，足以跟強勢合作者議價？\n",
      "main category: 火線話題\n",
      "文章發布日: 2023-11-23\n",
      "文章標籤: 蝦皮,平台,超商,ok,7-ELEVEN,物流,外送\n"
     ]
    },
    {
     "name": "stderr",
     "output_type": "stream",
     "text": [
      "C:\\Users\\JoeJian\\AppData\\Local\\Temp\\ipykernel_9272\\874214619.py:120: FutureWarning: The default dtype for empty Series will be 'object' instead of 'float64' in a future version. Specify a dtype explicitly to silence this warning.\n",
      "  series_id = pd.Series(content_id)\n"
     ]
    },
    {
     "name": "stdout",
     "output_type": "stream",
     "text": [
      "original url: https://bwnet.pse.is/5eqfr7\n",
      "full url: https://www.businessweekly.com.tw/business/blog/3014008\n",
      "title: 聯發科5個月漲40%，為什麼還會繼續漲？輾壓華為、高通\n",
      "title description:  聯發科自6月底以來已經連5月上漲，股價已飆漲近40%。同期漲勢不僅遠超費城半導體指數的2%，也優於同業高通的7%。這波漲勢主要拜採用聯發科晶片的手機需求強勁所賜，聯發科適時推出最先進的晶片、AI產品，\n",
      "main category: 財經\n",
      "sub category: 產業動態\n",
      "文章發布日: 2023/11/28\n",
      "文章標籤: 聯發科, 大摩, 高通, 天璣9300\n"
     ]
    },
    {
     "name": "stderr",
     "output_type": "stream",
     "text": [
      "C:\\Users\\JoeJian\\AppData\\Local\\Temp\\ipykernel_9272\\874214619.py:120: FutureWarning: The default dtype for empty Series will be 'object' instead of 'float64' in a future version. Specify a dtype explicitly to silence this warning.\n",
      "  series_id = pd.Series(content_id)\n"
     ]
    },
    {
     "name": "stdout",
     "output_type": "stream",
     "text": [
      "original url: https://bwnet.pse.is/5da37n\n",
      "full url: https://www.businessweekly.com.tw/business/blog/3014007\n",
      "title: 歷史：Fed結束升息一年後、標普500平均可漲17%\n",
      "title description:  過去歷史顯示，當聯準會結束升息循環，標準普爾500指數平均可在接下來一年出現雙位數漲幅。市場相信是最後一次升息，歷史暗示標普500有機會一路上漲至2024年上半年、漲幅上看17%。歷史顯示，Fed結束\n",
      "main category: 財經\n",
      "sub category: 投資理財\n",
      "文章發布日: 2023/11/28\n",
      "文章標籤:  投資, 升息, 利率,聯準會, 標普\n"
     ]
    },
    {
     "name": "stderr",
     "output_type": "stream",
     "text": [
      "C:\\Users\\JoeJian\\AppData\\Local\\Temp\\ipykernel_9272\\874214619.py:120: FutureWarning: The default dtype for empty Series will be 'object' instead of 'float64' in a future version. Specify a dtype explicitly to silence this warning.\n",
      "  series_id = pd.Series(content_id)\n"
     ]
    },
    {
     "name": "stdout",
     "output_type": "stream",
     "text": [
      "original url: https://bwnet.pse.is/5dedrj\n",
      "full url: https://www.businessweekly.com.tw/Archive/Article?StrId=7009164\n",
      "title:  閃過WeWork踩的錢坑　瑞士共享辦公室全球崛起 - 商業周刊第1880期 - 商周線上讀\n",
      "title description:  隨著WeWork宣布破產，共享辦公室領域卻在迎來新的轉機。《華爾街日報》指出，數百萬白領工作者仍迫切需要具備彈性且符合個人需求的「第3空間」。這股新浪潮中，總部位於瑞士的IWG集團成為最關鍵的玩家，以其獨特的商業模式和全球超過3千5百個據點，展現了相對穩健的營運狀態。請看商周報導。\n",
      "main category: 國際視窗\n",
      "文章發布日: 2023-11-23\n",
      "文章標籤: wework,共享辦公室\n"
     ]
    },
    {
     "name": "stderr",
     "output_type": "stream",
     "text": [
      "C:\\Users\\JoeJian\\AppData\\Local\\Temp\\ipykernel_9272\\874214619.py:120: FutureWarning: The default dtype for empty Series will be 'object' instead of 'float64' in a future version. Specify a dtype explicitly to silence this warning.\n",
      "  series_id = pd.Series(content_id)\n"
     ]
    },
    {
     "name": "stdout",
     "output_type": "stream",
     "text": [
      "original url: https://bwnet.pse.is/5e5v5k\n",
      "full url: https://www.businessweekly.com.tw/focus/blog/3013978\n",
      "title: 出現臭蟲床蝨代表環境髒亂嗎？躲在哪、被咬怎麼辦？根除靠一招才有用\n",
      "title description:  臭蟲是一種吸血昆蟲，被吸血後，身體會紅腫、發癢。臭蟲通常會在寢具的縫隙處產卵，孵出後會棲息在床板、床墊、釘孔、木材接縫、床罩邊緣等。主要在夜間活動，日間活動力弱，通常在縫隙間潛藏。被臭蟲咬到後會有搔癢\n",
      "main category: 焦點\n",
      "sub category: 時事分析\n",
      "文章發布日: 2023/11/24\n",
      "文章標籤: 法國,床蝨,臭蟲,韓國,昆蟲\n"
     ]
    },
    {
     "name": "stderr",
     "output_type": "stream",
     "text": [
      "C:\\Users\\JoeJian\\AppData\\Local\\Temp\\ipykernel_9272\\874214619.py:120: FutureWarning: The default dtype for empty Series will be 'object' instead of 'float64' in a future version. Specify a dtype explicitly to silence this warning.\n",
      "  series_id = pd.Series(content_id)\n"
     ]
    },
    {
     "name": "stdout",
     "output_type": "stream",
     "text": [
      "original url: https://bwnet.pse.is/5epphp\n",
      "full url: https://www.businessweekly.com.tw/careers/blog/3008577\n",
      "title: 外表年輕20歲、有穩定收入！77歲OL，她為何不退休？\n",
      "title description:  1.77歲珠寶店店員，每天上班8小時，每週工作5天。她不只全年無休，還有強烈的競爭意識，深怕一不小心就被淘汰。2.我們過去常說「這人七老八老，盡做些不符年紀的事」，但在長壽的社會，這個觀念恐怕要被顛覆\n",
      "main category: 職場\n",
      "sub category: 職場修練\n",
      "文章發布日: 2021/12/17\n",
      "文章標籤: 求職,工作,職涯規劃,退休,青銀共事,洪雪珍\n"
     ]
    },
    {
     "name": "stderr",
     "output_type": "stream",
     "text": [
      "C:\\Users\\JoeJian\\AppData\\Local\\Temp\\ipykernel_9272\\874214619.py:120: FutureWarning: The default dtype for empty Series will be 'object' instead of 'float64' in a future version. Specify a dtype explicitly to silence this warning.\n",
      "  series_id = pd.Series(content_id)\n"
     ]
    },
    {
     "name": "stdout",
     "output_type": "stream",
     "text": [
      "original url: https://bwnet.pse.is/5e8zf9\n",
      "full url: https://www.businessweekly.com.tw/careers/blog/3008277\n",
      "title: I only work for big names！現在的年輕人，不信這套了？\n",
      "title description:  1.剛入職場時，我們總會被大公司光環吸引，嚮往公司健身房、接駁巴士、自助餐食堂等各種好康，卻忽視了進入大公司的機會成本。2.大公司、小公司的抉擇，是一道萬年職場題，看似是體制與成長空間的抉擇，其實這樣\n",
      "main category: 職場\n",
      "sub category: 職場修練\n",
      "文章發布日: 2021/11/10\n",
      "文章標籤: 轉職,選擇,新創,小公司,職缺,大公司\n"
     ]
    },
    {
     "name": "stderr",
     "output_type": "stream",
     "text": [
      "C:\\Users\\JoeJian\\AppData\\Local\\Temp\\ipykernel_9272\\874214619.py:120: FutureWarning: The default dtype for empty Series will be 'object' instead of 'float64' in a future version. Specify a dtype explicitly to silence this warning.\n",
      "  series_id = pd.Series(content_id)\n"
     ]
    },
    {
     "name": "stdout",
     "output_type": "stream",
     "text": [
      "original url: https://www.businessweekly.com.tw/business/indep/1003959\n",
      "full url: https://www.businessweekly.com.tw/business/indep/1003959\n",
      "title: 超高齡海嘯倒數計時 前瞻「銀髮經濟」新商機\n",
      "title description:  行政院鄭文燦副院長（左四）、台灣人壽鄭泰克董事長（右三）、宏碁集團施振榮創辦人（左三）等多位重量級專家學者，齊聚2023「銀髮金融論壇」。／台灣人壽提供台灣邁入「超高齡社會」開始倒數計時，在平均餘命不\n",
      "main category: 財經\n",
      "sub category: \n",
      "文章發布日: 2023/11/27\n",
      "文章標籤: \n"
     ]
    },
    {
     "name": "stderr",
     "output_type": "stream",
     "text": [
      "C:\\Users\\JoeJian\\AppData\\Local\\Temp\\ipykernel_9272\\874214619.py:120: FutureWarning: The default dtype for empty Series will be 'object' instead of 'float64' in a future version. Specify a dtype explicitly to silence this warning.\n",
      "  series_id = pd.Series(content_id)\n"
     ]
    },
    {
     "name": "stdout",
     "output_type": "stream",
     "text": [
      "original url: https://bwnet.pse.is/5ezhsa\n",
      "full url: https://www.businessweekly.com.tw/business/blog/3014010\n",
      "title:  2023最後一個月怎麼投資？資深大戶推10檔個股：到明年Q1都有行情\n",
      "title description:  2023最後一個月怎麼投資？美股高科技仍是主角、債市進場風險不大甚至有不錯報酬。新興市場漲幅潛力大。台股有10檔到明年第一季都值得期待。\n",
      "main category: 財經\n",
      "sub category: 投資理財\n",
      "文章發布日: 2023/11/28\n",
      "文章標籤: 利率,新興市場,總統大選,2023投資,美股,債市\n"
     ]
    },
    {
     "name": "stderr",
     "output_type": "stream",
     "text": [
      "C:\\Users\\JoeJian\\AppData\\Local\\Temp\\ipykernel_9272\\874214619.py:120: FutureWarning: The default dtype for empty Series will be 'object' instead of 'float64' in a future version. Specify a dtype explicitly to silence this warning.\n",
      "  series_id = pd.Series(content_id)\n"
     ]
    },
    {
     "name": "stdout",
     "output_type": "stream",
     "text": [
      "original url: https://bwnet.pse.is/5cgdjm\n",
      "full url: https://www.businessweekly.com.tw/Archive/Article?StrId=7002105\n",
      "title:  從負評洗版到營收新高　華泰4年翻身全台outlet店王 - 商業周刊第1707期 - 商周線上讀\n",
      "title description:  商周線上讀，收錄台灣《商業周刊》雜誌歷年報導文章，包括第一桶金、金磚四國、一個台灣兩個世界、成功者的筆記本、台灣哥倫布、新零售、新製造、新物種等領先觀念，記錄台灣與世界二十年來的趨勢改變。\n",
      "main category: 商周CEO學院\n",
      "文章發布日: 2020-07-30\n",
      "文章標籤: 華泰名品城,outlet,零售業,品牌,服務\n"
     ]
    },
    {
     "name": "stderr",
     "output_type": "stream",
     "text": [
      "C:\\Users\\JoeJian\\AppData\\Local\\Temp\\ipykernel_9272\\874214619.py:120: FutureWarning: The default dtype for empty Series will be 'object' instead of 'float64' in a future version. Specify a dtype explicitly to silence this warning.\n",
      "  series_id = pd.Series(content_id)\n"
     ]
    },
    {
     "name": "stdout",
     "output_type": "stream",
     "text": [
      "original url: https://bwnet.pse.is/5blqcr\n",
      "full url: https://www.businessweekly.com.tw/careers/blog/13649\n",
      "title: 為什麼無印良品的員工都不會離職：把員工當「人」，而不是「人才」\n",
      "title description:  常有人問我：「為什麼無印良品的員工都不會離職？」確實，我們員工留在公司服務的年資，每年都在增加。雖然公司在2001年經營狀況惡化時，不斷有人離職，我們也曾經有過人手不足的慘痛經驗。但現在的無印良品，已\n",
      "main category: 職場\n",
      "sub category: 創業心法\n",
      "文章發布日: 2015/08/30\n",
      "文章標籤: 無印良品,無印良品工作,無印良品 員工,無印良品 工作,無印良品員工,無印良品 打工,無印良品工作心得\n"
     ]
    },
    {
     "name": "stderr",
     "output_type": "stream",
     "text": [
      "C:\\Users\\JoeJian\\AppData\\Local\\Temp\\ipykernel_9272\\874214619.py:120: FutureWarning: The default dtype for empty Series will be 'object' instead of 'float64' in a future version. Specify a dtype explicitly to silence this warning.\n",
      "  series_id = pd.Series(content_id)\n"
     ]
    },
    {
     "name": "stdout",
     "output_type": "stream",
     "text": [
      "original url: https://bwnet.pse.is/5dfc6b\n",
      "full url: https://www.businessweekly.com.tw/careers/blog/22105\n",
      "title: 不怕屎缺，只怕涼缺！每一份工作都「降薪跳槽」，他39歲當上科技公司總經理\n",
      "title description:  努力與膽識是你無法靠爸、靠媽時，最好的靠山。「我沒有夢想啊！我真的沒有。」阿勛這樣說時，我呆掉了。「你們的夢想是那種一輩子的追求。我真的沒有什麼東西想追求一輩子。我只想著三到五年，我要追逐什麼。我這輩\n",
      "main category: 職場\n",
      "sub category: 職場修練\n",
      "文章發布日: 2018/03/14\n",
      "文章標籤: 跳槽,工作,科技公司,降薪\n"
     ]
    },
    {
     "name": "stderr",
     "output_type": "stream",
     "text": [
      "C:\\Users\\JoeJian\\AppData\\Local\\Temp\\ipykernel_9272\\874214619.py:120: FutureWarning: The default dtype for empty Series will be 'object' instead of 'float64' in a future version. Specify a dtype explicitly to silence this warning.\n",
      "  series_id = pd.Series(content_id)\n"
     ]
    },
    {
     "name": "stdout",
     "output_type": "stream",
     "text": [
      "original url: https://bwnet.pse.is/5c9aya\n",
      "full url: https://www.businessweekly.com.tw/careers/blog/25285\n",
      "title: 他自認工作認真，想爭取加薪1萬...洪雪珍揭職場真相：老闆只願意給這種人加薪\n",
      "title description:  有個年輕人來問我，怎麼跟老闆爭取加薪？我就問他，想要爭取多少？他比了一個1，我以為1千元，心想這有什麼好來問我的？結果他搖搖頭說，不是1千元，而是1萬元。就加薪來說，以萬起跳不是小數目，我問他原來薪水\n",
      "main category: 職場\n",
      "sub category: 職場修練\n",
      "文章發布日: 2019/03/20\n",
      "文章標籤: 加薪,職場,真相,工作\n"
     ]
    },
    {
     "name": "stderr",
     "output_type": "stream",
     "text": [
      "C:\\Users\\JoeJian\\AppData\\Local\\Temp\\ipykernel_9272\\874214619.py:120: FutureWarning: The default dtype for empty Series will be 'object' instead of 'float64' in a future version. Specify a dtype explicitly to silence this warning.\n",
      "  series_id = pd.Series(content_id)\n"
     ]
    },
    {
     "name": "stdout",
     "output_type": "stream",
     "text": [
      "original url: https://bwnet.pse.is/5eymqd\n",
      "full url: https://www.businessweekly.com.tw/careers/blog/18376\n",
      "title: 一個56歲的退休外商老總：如果老年生活想快樂點，這6件事情從年輕就要開始做\n",
      "title description:  如果人生可以重來我今年56歲，年輕時學業事業大致算得上順遂，45歲即離開職場，做自己真正想做的事，過想過的生活。回看人生至今，說有遺憾太沉重，但如果可以重來，我想我會做以下幾件不一樣的事。「堅持念有興\n",
      "main category: 職場\n",
      "sub category: 心靈成長\n",
      "文章發布日: 2016/11/16\n",
      "文章標籤: 老年生活,56歲\n",
      "----------------- Finish -------------------\n"
     ]
    },
    {
     "name": "stderr",
     "output_type": "stream",
     "text": [
      "C:\\Users\\JoeJian\\AppData\\Local\\Temp\\ipykernel_9272\\874214619.py:120: FutureWarning: The default dtype for empty Series will be 'object' instead of 'float64' in a future version. Specify a dtype explicitly to silence this warning.\n",
      "  series_id = pd.Series(content_id)\n"
     ]
    }
   ],
   "source": [
    "url_number = 0\n",
    "# today_date = datetime.date.today()\n",
    "content_id = [] # 這邊不會用到\n",
    "df_bw_sw_all = pd.DataFrame()\n",
    "\n",
    "bw_column_name = ['content_id'\n",
    "                 ,'content_title_h1'\n",
    "#                  ,'content_title_h2'\n",
    "                 ,'content_title_description'\n",
    "                 ,'content_class_main'\n",
    "                 ,'content_class_sub'\n",
    "                 ,'content_date_time'\n",
    "#                  ,'content_all'\n",
    "                 ,'content_tag']\n",
    "\n",
    "for URL in df_bw_file['URL']:\n",
    "    \n",
    "    content_id = [] # 基本上不會用到，如果是舊版網頁，此欄位先放文章的url，以便之後查詢\n",
    "    \n",
    "    try:\n",
    "        time.sleep(5)\n",
    "        print(\"original url:\", URL)\n",
    "        headers={\"user-agent\":\"Mozilla/5.0 (Windows NT 10.0; Win64; x64) AppleWebKit/537.36 (KHTML, like Gecko) Chrome/113.0.0.0 Safari/537.36\"}\n",
    "        response = requests.get(URL, headers = headers)\n",
    "        bw_html = BeautifulSoup(response.text, \"lxml\")\n",
    "            \n",
    "        try:\n",
    "            url = bw_html.find(\"meta\", {\"property\":\"og:url\"}).get(\"content\")\n",
    "\n",
    "        except:\n",
    "            url = bw_html.find(\"meta\", {\"name\":\"og:url\"}).get(\"content\")\n",
    "            \n",
    "        \n",
    "        print(\"full url:\", url)\n",
    "        \n",
    "        # --- Begin 大標題 ---\n",
    "        lst_title_h1 = []\n",
    "        \n",
    "        if '/Archive/' in url:\n",
    "            \n",
    "            title_h1 = bw_html.find(\"meta\", {\"name\":\"title\"}).get(\"content\")\n",
    "            print(\"title: \", title_h1)\n",
    "            lst_title_h1.append(title_h1)\n",
    "        \n",
    "        else:\n",
    "            \n",
    "            title_h1 = bw_html.find_all(\"h1\")  # 搜尋所有h1\n",
    "            \n",
    "            for title in title_h1:\n",
    "                print('title:', title.getText())  # 只提取文字部分\n",
    "                lst_title_h1.append(title.getText())\n",
    "\n",
    "        # --- End 大標題 ---\n",
    "        \n",
    "        # --- Begin 描述 ---\n",
    "        \n",
    "        ## 改成 meta description\n",
    "\n",
    "        lst_title_description = []\n",
    "        \n",
    "        title_description = bw_html.find(\"meta\", {\"name\":\"description\"}).get(\"content\")\n",
    "        print(\"title description: \", title_description)\n",
    "        lst_title_description.append(title_description)\n",
    "\n",
    "        # --- End 描述 ---\n",
    "     \n",
    "        # --- Begin 文章分類 Main and sub ---\n",
    "        \n",
    "        lst_content_class_main = []\n",
    "        lst_content_class_sub = []\n",
    "        \n",
    "        if '/Archive/' in url:\n",
    "            \n",
    "            content_class_main = bw_html.find(\"div\", {\"class\":\"author infoList\"}).getText().replace(\"｜\",\"\").split('\\n')[1].lstrip()\n",
    "            print('main category:', content_class_main)\n",
    "            lst_content_class_main.append(content_class_main)\n",
    "\n",
    "            lst_content_class_sub.append(\" \")\n",
    "\n",
    "        else:\n",
    "            content_class_main = bw_html.find(\"meta\", {\"property\":\"article:section\"}).get(\"content\")\n",
    "            print('main category:', content_class_main)\n",
    "            lst_content_class_main.append(content_class_main)\n",
    "\n",
    "            content_class_sub = bw_html.find(\"meta\", {\"itemprop\":\"articleSection\"}).get(\"content\")\n",
    "            print('sub category:', content_class_sub)\n",
    "            lst_content_class_sub.append(content_class_sub)\n",
    "\n",
    "        # --- End 文章分類 Main and sub ---\n",
    "        \n",
    "        # --- Begin 文章發佈日 ---\n",
    "\n",
    "        lst_content_date = []\n",
    "        \n",
    "        if '/Archive/' in url:\n",
    "\n",
    "            ct_date  = bw_html.find(\"span\", {\"itemprop\":\"datePublished\"}).getText()  # 文章發佈日\n",
    "            print(\"文章發布日:\", ct_date)\n",
    "            lst_content_date.append(ct_date)\n",
    "        \n",
    "        else:\n",
    "            \n",
    "            ct_date  = bw_html.find(\"div\", {\"id\":\"AppGetDate\"})  # 文章發佈日\n",
    "            lst_content_date.append(ct_date.getText()[:10])\n",
    "            print(\"文章發布日:\", ct_date.getText()[:10])\n",
    "\n",
    "        # --- End 文章分類及文章發佈日 ---\n",
    "        \n",
    "        # --- Begin 標籤 ---\n",
    "\n",
    "        lst_content_tag = []\n",
    "        \n",
    "        content_tag = bw_html.find(\"meta\", {\"name\":\"keywords\"}).get('content')  # 標籤\n",
    "        print('文章標籤:', content_tag)\n",
    "        lst_content_tag.append(content_tag)\n",
    "        \n",
    "        # --- End 標籤 ---\n",
    "          \n",
    "        # List 轉 Series\n",
    "        series_id = pd.Series(content_id)\n",
    "        series_title_h1 = pd.Series(lst_title_h1)\n",
    "        series_title_description = pd.Series(lst_title_description)\n",
    "        series_content_class_main = pd.Series(lst_content_class_main)\n",
    "        series_content_class_sub = pd.Series(lst_content_class_sub)\n",
    "        series_content_date = pd.Series(lst_content_date)\n",
    "\n",
    "        lst_content_tag = \",\".join(lst_content_tag) # 把list中的資料用\",\"join起來\n",
    "        series_content_tag = pd.Series(lst_content_tag)\n",
    "        \n",
    "        # Series 放到 DataFrame\n",
    "        df_bw_sw_keyword = pd.concat([series_id\n",
    "                                     ,series_title_h1\n",
    "                                     ,series_title_description\n",
    "                                     ,series_content_class_main\n",
    "                                     ,series_content_class_sub\n",
    "                                     ,series_content_date\n",
    "                                     ,series_content_tag]\n",
    "                                     ,axis = 1)\n",
    "        \n",
    "        df_bw_sw_keyword.columns = bw_column_name\n",
    "\n",
    "        url_number += 1\n",
    "        \n",
    "        df_bw_sw_all = pd.concat([df_bw_sw_all, df_bw_sw_keyword], ignore_index=True)\n",
    "        \n",
    "    except:\n",
    "        print(\"Manul:\", url)\n",
    "        \n",
    "        content_id.append(url)\n",
    "        print(\"content_id\", content_id)\n",
    "        \n",
    "        series_id = pd.Series(content_id)\n",
    "        \n",
    "        df_bw_sw_keyword_except = pd.concat([series_id], axis = 1)\n",
    "        \n",
    "        df_bw_sw_keyword_except.columns = [\"content_id\"]\n",
    "        df_bw_sw_all = pd.concat([df_bw_sw_all, df_bw_sw_keyword_except], ignore_index=True)\n",
    "        \n",
    "        url_number += 1\n",
    "    \n",
    "print(\"----------------- Finish -------------------\")\n",
    "\n",
    "df_bw_sw_all.to_csv(f'{file_date}_BusinessWeekly_SimilarWeb_Keyword.csv', index = False, encoding = 'UTF-8-sig')\n"
   ]
  },
  {
   "cell_type": "code",
   "execution_count": null,
   "id": "419dc865",
   "metadata": {},
   "outputs": [],
   "source": []
  }
 ],
 "metadata": {
  "kernelspec": {
   "display_name": "Python 3 (ipykernel)",
   "language": "python",
   "name": "python3"
  },
  "language_info": {
   "codemirror_mode": {
    "name": "ipython",
    "version": 3
   },
   "file_extension": ".py",
   "mimetype": "text/x-python",
   "name": "python",
   "nbconvert_exporter": "python",
   "pygments_lexer": "ipython3",
   "version": "3.10.9"
  }
 },
 "nbformat": 4,
 "nbformat_minor": 5
}
