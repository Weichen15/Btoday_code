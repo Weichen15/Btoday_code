{
 "cells": [
  {
   "cell_type": "code",
   "execution_count": 13,
   "id": "f015ad60",
   "metadata": {},
   "outputs": [
    {
     "name": "stdout",
     "output_type": "stream",
     "text": [
      "404\n",
      "沒有取得聊天室！\n"
     ]
    }
   ],
   "source": [
    "import requests\n",
    "\n",
    "# 設定 LINE API 的 Channel ID、Channel Secret 和 Access Token\n",
    "channel_id = \"2001887743\"\n",
    "channel_secret = \"8aaf65e252f7f1811901cdc2192884cf\"\n",
    "access_token = \"Ss7egAIVdNsKB1KGbrnr/8+7dA9f3yL+Bhz/xfcwSaSI7cv1hg93IiqlLpVI6+mILZCaEvywDlHdHYOlei82eviN8RCwQ8k6jBW+gOGu/Msfb74FmAdJBOKHeOOZww3tTmCNZasVeZ7RC94k//B37gdB04t89/1O/w1cDnyilFU=\"\n",
    "\n",
    "# 取得聊天室的 Channel ID\n",
    "url = f\"https://api.line.me/v2/conversations/list\"\n",
    "headers = {\n",
    "    \"Authorization\": f\"Bearer {access_token}\",\n",
    "}\n",
    "response = requests.get(url, headers=headers)\n",
    "\n",
    "print(response.status_code)\n",
    "# 解析訊息\n",
    "if response.status_code == 200:\n",
    "    data = response.json()\n",
    "    # 取得聊天室 ID\n",
    "    channels = data[\"channels\"]\n",
    "    for channel in channels:\n",
    "        if channel[\"name\"] == \"今周刊\":\n",
    "            channel_id = channel[\"id\"]\n",
    "            break\n",
    "else:\n",
    "    print(\"沒有取得聊天室！\")\n"
   ]
  },
  {
   "cell_type": "code",
   "execution_count": 10,
   "id": "22175929",
   "metadata": {},
   "outputs": [
    {
     "name": "stdout",
     "output_type": "stream",
     "text": [
      "沒有取得訊息！\n"
     ]
    }
   ],
   "source": [
    "# import requests\n",
    "\n",
    "# 設定 LINE API 的 Channel ID、Channel Secret 和 Access Token\n",
    "channel_id = \"2001887743\"\n",
    "channel_secret = \"8aaf65e252f7f1811901cdc2192884cf\"\n",
    "access_token = \"Ss7egAIVdNsKB1KGbrnr/8+7dA9f3yL+Bhz/xfcwSaSI7cv1hg93IiqlLpVI6+mILZCaEvywDlHdHYOlei82eviN8RCwQ8k6jBW+gOGu/Msfb74FmAdJBOKHeOOZww3tTmCNZasVeZ7RC94k//B37gdB04t89/1O/w1cDnyilFU=\"\n",
    "\n",
    "# 取得聊天室的訊息\n",
    "url = f\"https://api.line.me/v2/conversations/{channel_id}/messages\"\n",
    "headers = {\n",
    "    \"Authorization\": f\"Bearer {access_token}\",\n",
    "}\n",
    "response = requests.get(url, headers=headers)\n",
    "\n",
    "# 解析訊息\n",
    "if response.status_code == 200:\n",
    "    data = response.json()\n",
    "    # 取得訊息內容\n",
    "    messages = data[\"messages\"]\n",
    "    for message in messages:\n",
    "        # 取得訊息發送者\n",
    "        sender = message[\"sender\"][\"id\"]\n",
    "        # 取得訊息內容\n",
    "        content = message[\"content\"]\n",
    "        print(f\"{sender}：{content}\")\n",
    "else:\n",
    "    print(\"沒有取得訊息！\")\n"
   ]
  },
  {
   "cell_type": "code",
   "execution_count": 11,
   "id": "4ea570c5",
   "metadata": {},
   "outputs": [
    {
     "name": "stdout",
     "output_type": "stream",
     "text": [
      "response <Response [404]>\n",
      "404\n",
      "沒有取得聊天室！\n"
     ]
    }
   ],
   "source": [
    "# import requests\n",
    "\n",
    "# 設定 LINE API 的 Channel ID、Channel Secret 和 Access Token\n",
    "channel_id = \"2001887743\"\n",
    "channel_secret = \"8aaf65e252f7f1811901cdc2192884cf\"\n",
    "access_token = \"Ss7egAIVdNsKB1KGbrnr/8+7dA9f3yL+Bhz/xfcwSaSI7cv1hg93IiqlLpVI6+mILZCaEvywDlHdHYOlei82eviN8RCwQ8k6jBW+gOGu/Msfb74FmAdJBOKHeOOZww3tTmCNZasVeZ7RC94k//B37gdB04t89/1O/w1cDnyilFU=\"\n",
    "\n",
    "\n",
    "# 取得聊天室的資訊\n",
    "url = f\"https://api.line.me/v2/conversations/{channel_id}\"\n",
    "headers = {\n",
    "    \"Authorization\": f\"Bearer {access_token}\",\n",
    "}\n",
    "response = requests.get(url, headers=headers)\n",
    "\n",
    "print('response', response)\n",
    "print(response.status_code)\n",
    "\n",
    "# 解析訊息\n",
    "if response.status_code == 200:\n",
    "    data = response.json()\n",
    "    # 取得聊天室 ID\n",
    "    channel_id = data[\"id\"]\n",
    "    channel_name = data[\"name\"]\n",
    "    channel_type = data[\"type\"]\n",
    "    channel_members = data[\"members\"]\n",
    "else:\n",
    "    print(\"沒有取得聊天室！\")\n"
   ]
  },
  {
   "cell_type": "code",
   "execution_count": null,
   "id": "9054d526",
   "metadata": {},
   "outputs": [],
   "source": []
  }
 ],
 "metadata": {
  "kernelspec": {
   "display_name": "Python 3 (ipykernel)",
   "language": "python",
   "name": "python3"
  },
  "language_info": {
   "codemirror_mode": {
    "name": "ipython",
    "version": 3
   },
   "file_extension": ".py",
   "mimetype": "text/x-python",
   "name": "python",
   "nbconvert_exporter": "python",
   "pygments_lexer": "ipython3",
   "version": "3.10.9"
  }
 },
 "nbformat": 4,
 "nbformat_minor": 5
}
