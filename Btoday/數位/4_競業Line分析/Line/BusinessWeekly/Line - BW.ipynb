{
 "cells": [
  {
   "cell_type": "markdown",
   "id": "ad01f59f",
   "metadata": {},
   "source": [
    "# 1. Import Modules"
   ]
  },
  {
   "cell_type": "code",
   "execution_count": 1,
   "id": "885a102e",
   "metadata": {},
   "outputs": [],
   "source": [
    "from bs4 import BeautifulSoup\n",
    "import requests\n",
    "import time\n",
    "import pandas as pd\n"
   ]
  },
  {
   "cell_type": "markdown",
   "id": "f582f843",
   "metadata": {},
   "source": [
    "# 2. Read Data"
   ]
  },
  {
   "cell_type": "code",
   "execution_count": 2,
   "id": "e0a35961",
   "metadata": {},
   "outputs": [
    {
     "name": "stdout",
     "output_type": "stream",
     "text": [
      "請輸入資料區間： 20240105_20240107\n"
     ]
    }
   ],
   "source": [
    "file_date = input(\"請輸入資料區間： \")"
   ]
  },
  {
   "cell_type": "code",
   "execution_count": 3,
   "id": "e701e791",
   "metadata": {},
   "outputs": [],
   "source": [
    "df_bw_file = pd.read_csv(f'BusinessWeekly_Line_{file_date}.csv')"
   ]
  },
  {
   "cell_type": "code",
   "execution_count": 4,
   "id": "c0b81072",
   "metadata": {},
   "outputs": [
    {
     "data": {
      "text/html": [
       "<div>\n",
       "<style scoped>\n",
       "    .dataframe tbody tr th:only-of-type {\n",
       "        vertical-align: middle;\n",
       "    }\n",
       "\n",
       "    .dataframe tbody tr th {\n",
       "        vertical-align: top;\n",
       "    }\n",
       "\n",
       "    .dataframe thead th {\n",
       "        text-align: right;\n",
       "    }\n",
       "</style>\n",
       "<table border=\"1\" class=\"dataframe\">\n",
       "  <thead>\n",
       "    <tr style=\"text-align: right;\">\n",
       "      <th></th>\n",
       "      <th>URL</th>\n",
       "    </tr>\n",
       "  </thead>\n",
       "  <tbody>\n",
       "    <tr>\n",
       "      <th>0</th>\n",
       "      <td>https://www.businessweekly.com.tw/Archive/Arti...</td>\n",
       "    </tr>\n",
       "    <tr>\n",
       "      <th>1</th>\n",
       "      <td>https://www.businessweekly.com.tw/Archive/Arti...</td>\n",
       "    </tr>\n",
       "    <tr>\n",
       "      <th>2</th>\n",
       "      <td>https://bwnet.pse.is/5hrsk9</td>\n",
       "    </tr>\n",
       "    <tr>\n",
       "      <th>3</th>\n",
       "      <td>https://bwnet.pse.is/5hrtqk</td>\n",
       "    </tr>\n",
       "    <tr>\n",
       "      <th>4</th>\n",
       "      <td>https://bwnet.pse.is/5hry6l</td>\n",
       "    </tr>\n",
       "  </tbody>\n",
       "</table>\n",
       "</div>"
      ],
      "text/plain": [
       "                                                 URL\n",
       "0  https://www.businessweekly.com.tw/Archive/Arti...\n",
       "1  https://www.businessweekly.com.tw/Archive/Arti...\n",
       "2                        https://bwnet.pse.is/5hrsk9\n",
       "3                        https://bwnet.pse.is/5hrtqk\n",
       "4                        https://bwnet.pse.is/5hry6l"
      ]
     },
     "execution_count": 4,
     "metadata": {},
     "output_type": "execute_result"
    }
   ],
   "source": [
    "df_bw_file.head()"
   ]
  },
  {
   "cell_type": "markdown",
   "id": "19bbf177",
   "metadata": {},
   "source": [
    "### 說明：\n",
    "商周的網頁目前有兩種形式，如果是線上讀，會有'https://www.businessweekly.com.tw/Archive/'\n",
    "在網址裡面，故要另外抓取資料"
   ]
  },
  {
   "cell_type": "code",
   "execution_count": 5,
   "id": "14edec99",
   "metadata": {},
   "outputs": [
    {
     "name": "stdout",
     "output_type": "stream",
     "text": [
      "original url: https://www.businessweekly.com.tw/Archive/Article?StrId=7009464&utm_source=Line&utm_medium=social&utm_content=bw&utm_campaign=content&Ftag=7009464\n",
      "full url: https://www.businessweekly.com.tw/Archive/Article?StrId=7009464\n",
      "title:  信義房屋接班人的AI轉型計　讓成交率多2成、離職降1成！ - 商業周刊第1886期 - 商周線上讀\n",
      "title description:  信義房屋辦人周俊吉的大兒子周耕宇，5年前接下數位轉型重任，靠著不強制全員配合、翻轉使命必達等傳統思維，在疫情、房市交易量萎縮之際，拚出一個成交轉換率高2成的AI新兵器，還靠各種數位轉型，穩住企業獲利，順利接班成為新董座。\n",
      "main category: 產業風雲\n",
      "文章發布日: 2024-01-04\n",
      "文章標籤: AI,數位轉型,周耕宇,信義房屋,房仲\n"
     ]
    },
    {
     "name": "stderr",
     "output_type": "stream",
     "text": [
      "C:\\Users\\JoeJian\\AppData\\Local\\Temp\\ipykernel_39768\\134116846.py:161: FutureWarning: The default dtype for empty Series will be 'object' instead of 'float64' in a future version. Specify a dtype explicitly to silence this warning.\n",
      "  series_id = pd.Series(content_id)\n"
     ]
    },
    {
     "name": "stdout",
     "output_type": "stream",
     "text": [
      "original url: https://www.businessweekly.com.tw/Archive/Article?StrId=7009455&utm_source=Line&utm_medium=social&utm_content=bw&utm_campaign=content&Ftag=7009455\n",
      "full url: https://www.businessweekly.com.tw/Archive/Article?StrId=7009455\n",
      "title:  一年股價漲1.9倍僅次輝達　Meta佐伯格認錯逆轉危機 - 商業周刊第1886期 - 商周線上讀\n",
      "title description:  在2023年，臉書母公司Meta經歷逆轉勝，股價上漲1.9倍，超越蘋果、微軟，在標準普爾500大企業中僅次於輝達。Meta執行長佐伯格實施裁員和財務改善，積極回應投資者擔憂，並轉變態度，開始聆聽股東意見，將公司聚焦在當下重要事務。Meta透過人工智慧、開源系統提升效率，成功應對市場變化。儘管面臨挑戰，分析師仍看好其未來發展。\n",
      "main category: 投資焦點\n",
      "文章發布日: 2024-01-04\n",
      "文章標籤: Meta,臉書,佐伯格,元宇宙,短影音,Threads,人工智慧\n"
     ]
    },
    {
     "name": "stderr",
     "output_type": "stream",
     "text": [
      "C:\\Users\\JoeJian\\AppData\\Local\\Temp\\ipykernel_39768\\134116846.py:161: FutureWarning: The default dtype for empty Series will be 'object' instead of 'float64' in a future version. Specify a dtype explicitly to silence this warning.\n",
      "  series_id = pd.Series(content_id)\n"
     ]
    },
    {
     "name": "stdout",
     "output_type": "stream",
     "text": [
      "original url: https://bwnet.pse.is/5hrsk9\n",
      "full url: https://www.businessweekly.com.tw/international/blog/3014408\n",
      "title: 全球航線大亂，航運股強勁漲停⋯收一櫃賺一櫃趁現在\n",
      "title description:  紅海危機造成全球海運航線大亂，貨櫃運價從疫後的谷底攀升，迄今漲了3~4倍。除了航商率先受惠，全球貿易需求的外溢效應爆開，讓散裝、航空、貨攬、相關業者全都得利。缺船、缺櫃的「供應鏈焦慮」大爆發，航運股成\n",
      "main category: 國際\n",
      "sub category: 全球話題\n",
      "文章發布日: 2024/01/05\n",
      "文章標籤:  長榮,紅海, 航運股, 運價\n"
     ]
    },
    {
     "name": "stderr",
     "output_type": "stream",
     "text": [
      "C:\\Users\\JoeJian\\AppData\\Local\\Temp\\ipykernel_39768\\134116846.py:161: FutureWarning: The default dtype for empty Series will be 'object' instead of 'float64' in a future version. Specify a dtype explicitly to silence this warning.\n",
      "  series_id = pd.Series(content_id)\n"
     ]
    },
    {
     "name": "stdout",
     "output_type": "stream",
     "text": [
      "original url: https://bwnet.pse.is/5hrtqk\n",
      "full url: https://www.businessweekly.com.tw/Archive/Article?StrId=7009449\n",
      "title:  AI、重電、車電帶頭攻萬八　台股旺到2024的關鍵字 - 商業周刊第1886期 - 商周線上讀\n",
      "title description:  2023年台股表現優異，1年內上漲3,800點，接近萬八歷史高，漲幅高達27％，在全球主要股市中名列前茅。台股漲幅前10大個股，主要集中在AI伺服器、汽車零組件和重電股3大族群，加上這些產業具有「汰舊換新」和「長線保護短線」2大優勢，可望在2024年繼續成為帶領大盤續攻萬八的投資熱點。\n",
      "main category: 投資焦點\n",
      "文章發布日: 2024-01-04\n",
      "文章標籤: 台股,AI,車電,重電,萬八,緯創,緯穎,華城\n"
     ]
    },
    {
     "name": "stderr",
     "output_type": "stream",
     "text": [
      "C:\\Users\\JoeJian\\AppData\\Local\\Temp\\ipykernel_39768\\134116846.py:161: FutureWarning: The default dtype for empty Series will be 'object' instead of 'float64' in a future version. Specify a dtype explicitly to silence this warning.\n",
      "  series_id = pd.Series(content_id)\n"
     ]
    },
    {
     "name": "stdout",
     "output_type": "stream",
     "text": [
      "original url: https://bwnet.pse.is/5hry6l\n",
      "full url: https://www.businessweekly.com.tw/business/blog/3014407\n",
      "title: 不甜的飲料最好賣？可口可樂、麥當勞怎麼放下身段打「低糖戰」\n",
      "title description:  全球飲料市場持續以每年11.9％的複合成長率成長，其中商機就在於更精準了解消費者對「健康」的想法——尤其是甜度。包括可口可樂、麥當勞這些過去在「含糖飲料」稱霸的品牌，現在都推出無糖、低糖甚至甜度客製化\n",
      "main category: 財經\n",
      "sub category: 產業動態\n",
      "文章發布日: 2024/01/05\n",
      "文章標籤: 可口可樂,誠實茶,麥當勞,低糖,飲料\n"
     ]
    },
    {
     "name": "stderr",
     "output_type": "stream",
     "text": [
      "C:\\Users\\JoeJian\\AppData\\Local\\Temp\\ipykernel_39768\\134116846.py:161: FutureWarning: The default dtype for empty Series will be 'object' instead of 'float64' in a future version. Specify a dtype explicitly to silence this warning.\n",
      "  series_id = pd.Series(content_id)\n"
     ]
    },
    {
     "name": "stdout",
     "output_type": "stream",
     "text": [
      "original url: https://bwnet.pse.is/5hrvpd\n",
      "full url: https://www.businessweekly.com.tw/business/blog/3008225\n",
      "title: 年輕人努力也買不起房！Dcard林裕欽：若不能幫他們成長，他們就會開除公司\n",
      "title description:  1.Dcard執行長林裕欽，堅持每天5點多起床，利用早上最清醒的時間閱讀。他認為管理觀念可以在短時間內快速成長，但公司的長遠發展卻需要領導人不斷學習、累積、行動。2.林裕欽提供Dcard員工各種學習補\n",
      "main category: 財經\n",
      "sub category: 焦點人物\n",
      "文章發布日: 2021/11/05\n",
      "文章標籤: Dcard,補助,林裕欽,教育訓練\n"
     ]
    },
    {
     "name": "stderr",
     "output_type": "stream",
     "text": [
      "C:\\Users\\JoeJian\\AppData\\Local\\Temp\\ipykernel_39768\\134116846.py:161: FutureWarning: The default dtype for empty Series will be 'object' instead of 'float64' in a future version. Specify a dtype explicitly to silence this warning.\n",
      "  series_id = pd.Series(content_id)\n"
     ]
    },
    {
     "name": "stdout",
     "output_type": "stream",
     "text": [
      "original url: https://bwnet.pse.is/5hrwrt\n",
      "full url: https://www.businessweekly.com.tw/careers/blog/3010048\n",
      "title: 台積電10年主管：升遷速度快的人⋯開會時，不會做這5件事\n",
      "title description:  1.開會沒效率、開會頻率過高，是許多工作者共有的經驗；會議管理也是許多企業顧問授課的項目。2.不論是會議參與者、會議主持人，都要注意以下5點：提早15分鐘進會議室、準備會議議程、通知相關決策者參與、充\n",
      "main category: 職場\n",
      "sub category: 職場修練\n",
      "文章發布日: 2023/03/17\n",
      "文章標籤: 準備資料,台積電,主持人,禁忌,會議,議程\n"
     ]
    },
    {
     "name": "stderr",
     "output_type": "stream",
     "text": [
      "C:\\Users\\JoeJian\\AppData\\Local\\Temp\\ipykernel_39768\\134116846.py:161: FutureWarning: The default dtype for empty Series will be 'object' instead of 'float64' in a future version. Specify a dtype explicitly to silence this warning.\n",
      "  series_id = pd.Series(content_id)\n"
     ]
    },
    {
     "name": "stdout",
     "output_type": "stream",
     "text": [
      "original url: https://bwnet.pse.is/5hryz4\n",
      "full url: https://www.businessweekly.com.tw/careers/blog/3003623\n",
      "title: 想退休又怕錢不夠？比「先苦後甘」更聰明的生活模式：迷你退休\n",
      "title description:  迷你退休的概念，就是「製作蛋糕，並享用蛋糕」。與其將休息和享樂一再延遲、統統放到退休之後，不如將工作和休息交替進行，只在身體機能處於最高效的時候工作，生活才會更充實和愉悅。\n",
      "main category: 職場\n",
      "sub category: 職場修練\n",
      "文章發布日: 2020/08/21\n",
      "文章標籤: 迷你退休,退休,退休金\n"
     ]
    },
    {
     "name": "stderr",
     "output_type": "stream",
     "text": [
      "C:\\Users\\JoeJian\\AppData\\Local\\Temp\\ipykernel_39768\\134116846.py:161: FutureWarning: The default dtype for empty Series will be 'object' instead of 'float64' in a future version. Specify a dtype explicitly to silence this warning.\n",
      "  series_id = pd.Series(content_id)\n"
     ]
    },
    {
     "name": "stdout",
     "output_type": "stream",
     "text": [
      "original url: https://www.businessweekly.com.tw/style/indep/1004076\n",
      "full url: https://www.businessweekly.com.tw/style/indep/1004076\n",
      "title: 沿著多瑙河漫遊風華絕代的歷史軌跡，置身「水上豪華旅店」UNIWORLD寰宇河輪，「精品慢旅」細細品味中世紀美學風采\n",
      "title description:  在風光明媚的秋天午後，搭乘河輪，沿著多瑙河一路順流，穿梭在歐陸四國的核心地帶，在古都城堡間遊歷，盡賞皇室貴族們氣派的巍峨宮殿，如巴洛克式的華麗莊嚴、洛可可式的優雅柔美。下了船，信步走入古老小鎮的石階步\n",
      "main category: 生活\n",
      "sub category: 旅遊\n",
      "文章發布日: 2023/12/18\n",
      "文章標籤: 鳳凰,寰宇精品,河輪,多瑙河,深度旅遊\n"
     ]
    },
    {
     "name": "stderr",
     "output_type": "stream",
     "text": [
      "C:\\Users\\JoeJian\\AppData\\Local\\Temp\\ipykernel_39768\\134116846.py:161: FutureWarning: The default dtype for empty Series will be 'object' instead of 'float64' in a future version. Specify a dtype explicitly to silence this warning.\n",
      "  series_id = pd.Series(content_id)\n"
     ]
    },
    {
     "name": "stdout",
     "output_type": "stream",
     "text": [
      "original url: https://www.businessweekly.com.tw/business/blog/3014394?utm_source=Line&utm_medium=social&utm_content=bw&utm_campaign=content\n",
      "full url: https://www.businessweekly.com.tw/business/blog/3014394\n",
      "title: 2024總統大選》房產專家對3組候選人「住房政策」的最犀利提問\n",
      "title description:  2024年總統大選即將投票，隨著總統、副總統候選人政見發表會結束，三黨提出的住宅政策越來越清晰。「高房價下的居住正義」是三黨候選人有志一同想解決的命題。以下就政見落實的可行性，從我長期參與房地產資本市\n",
      "main category: 財經\n",
      "sub category: 地產風雲\n",
      "文章發布日: 2024/01/03\n",
      "文章標籤: 2024總統大選,賴清德,柯文哲,住房政策,侯友宜,居住正義,總統候選人政見,總統大選\n"
     ]
    },
    {
     "name": "stderr",
     "output_type": "stream",
     "text": [
      "C:\\Users\\JoeJian\\AppData\\Local\\Temp\\ipykernel_39768\\134116846.py:161: FutureWarning: The default dtype for empty Series will be 'object' instead of 'float64' in a future version. Specify a dtype explicitly to silence this warning.\n",
      "  series_id = pd.Series(content_id)\n"
     ]
    },
    {
     "name": "stdout",
     "output_type": "stream",
     "text": [
      "original url: https://bwnet.pse.is/5hsmv7\n",
      "full url: https://www.businessweekly.com.tw/business/blog/3014394\n",
      "title: 2024總統大選》房產專家對3組候選人「住房政策」的最犀利提問\n",
      "title description:  2024年總統大選即將投票，隨著總統、副總統候選人政見發表會結束，三黨提出的住宅政策越來越清晰。「高房價下的居住正義」是三黨候選人有志一同想解決的命題。以下就政見落實的可行性，從我長期參與房地產資本市\n",
      "main category: 財經\n",
      "sub category: 地產風雲\n",
      "文章發布日: 2024/01/03\n",
      "文章標籤: 2024總統大選,賴清德,柯文哲,住房政策,侯友宜,居住正義,總統候選人政見,總統大選\n"
     ]
    },
    {
     "name": "stderr",
     "output_type": "stream",
     "text": [
      "C:\\Users\\JoeJian\\AppData\\Local\\Temp\\ipykernel_39768\\134116846.py:161: FutureWarning: The default dtype for empty Series will be 'object' instead of 'float64' in a future version. Specify a dtype explicitly to silence this warning.\n",
      "  series_id = pd.Series(content_id)\n"
     ]
    },
    {
     "name": "stdout",
     "output_type": "stream",
     "text": [
      "original url: https://bwnet.pse.is/5hsnke\n",
      "full url: https://www.businessweekly.com.tw/business/blog/3014193\n",
      "title: 降息、新青安房貸、大選將落幕...都是利多，台灣房價怎麼會跌\n",
      "title description:  美國聯準會釋出降息訊號，全球股價大漲，房價也蠢蠢欲懂。專家預測，降息、新青安、大選即將落幕等利多助攻，明年房市恐價量齊漲。…美國聯準會維持利率不斷，並暗示明年降息3次，全球股市應聲大漲，台股大漲百點慶祝\n",
      "main category: 財經\n",
      "sub category: 地產風雲\n",
      "文章發布日: 2023/12/14\n",
      "文章標籤: 房貸補助,房市,預售屋,新青年安心成家房貸,新青安,青安貸款,降息\n"
     ]
    },
    {
     "name": "stderr",
     "output_type": "stream",
     "text": [
      "C:\\Users\\JoeJian\\AppData\\Local\\Temp\\ipykernel_39768\\134116846.py:161: FutureWarning: The default dtype for empty Series will be 'object' instead of 'float64' in a future version. Specify a dtype explicitly to silence this warning.\n",
      "  series_id = pd.Series(content_id)\n"
     ]
    },
    {
     "name": "stdout",
     "output_type": "stream",
     "text": [
      "original url: https://bwnet.pse.is/5hsmdv\n",
      "full url: https://www.businessweekly.com.tw/business/blog/3013680\n",
      "title: 新天龍國是它！9間小學額滿有錢還讀不到，周邊學區宅3年漲42％\n",
      "title description:  「新天龍國」新竹縣竹北市2022年人口成長超過14‰，但新建校舍速度卻趕不上就學人口增長，18間國小中，有９所為額滿學校，帶動學校周邊學區宅跟著搶手。根據台灣房屋實價資料，位於高鐵特區的東興國小周邊學\n",
      "main category: 財經\n",
      "sub category: 地產風雲\n",
      "文章發布日: 2023/10/27\n",
      "文章標籤:  房價,新竹, 房市\n"
     ]
    },
    {
     "name": "stderr",
     "output_type": "stream",
     "text": [
      "C:\\Users\\JoeJian\\AppData\\Local\\Temp\\ipykernel_39768\\134116846.py:161: FutureWarning: The default dtype for empty Series will be 'object' instead of 'float64' in a future version. Specify a dtype explicitly to silence this warning.\n",
      "  series_id = pd.Series(content_id)\n"
     ]
    },
    {
     "name": "stdout",
     "output_type": "stream",
     "text": [
      "original url: https://bwnet.pse.is/5hslpc\n",
      "full url: https://www.businessweekly.com.tw/Archive/Article?StrId=7005168\n",
      "title:  打房大將公開四度購屋經驗　張金鶚：房價要跌，難！ - 商業周刊第1782期 - 商周線上讀\n",
      "title description:  商周線上讀，收錄台灣《商業周刊》雜誌歷年報導文章，包括第一桶金、金磚四國、一個台灣兩個世界、成功者的筆記本、台灣哥倫布、新零售、新製造、新物種等領先觀念，記錄台灣與世界二十年來的趨勢改變。\n",
      "main category: 封面故事\n",
      "文章發布日: 2022-01-06\n",
      "文章標籤: 張金鶚,房價,房市,打房,囤房稅\n"
     ]
    },
    {
     "name": "stderr",
     "output_type": "stream",
     "text": [
      "C:\\Users\\JoeJian\\AppData\\Local\\Temp\\ipykernel_39768\\134116846.py:161: FutureWarning: The default dtype for empty Series will be 'object' instead of 'float64' in a future version. Specify a dtype explicitly to silence this warning.\n",
      "  series_id = pd.Series(content_id)\n"
     ]
    },
    {
     "name": "stdout",
     "output_type": "stream",
     "text": [
      "original url: https://podcasts.apple.com/tw/podcast/%E5%95%86%E5%91%A8%E8%AE%80%E6%9B%B8%E6%9C%83-%E7%BE%8E%E5%9C%8B%E5%A4%A7%E5%AD%B8%E9%82%8F%E8%BC%AF%E6%80%9D%E8%BE%A8%E8%81%96%E7%B6%93-%E5%B8%B6%E4%BD%A0%E7%9C%8B%E7%A9%BF%E5%81%87%E8%B1%A1-%E8%B5%B0%E5%87%BA%E8%AB%96%E9%BB%9E%E8%BF%B7%E9%9C%A7/id1537748440?i=1000640594001\n",
      "full url: https://podcasts.apple.com/tw/podcast/%E5%95%86%E5%91%A8%E8%AE%80%E6%9B%B8%E6%9C%83-%E7%BE%8E%E5%9C%8B%E5%A4%A7%E5%AD%B8%E9%82%8F%E8%BC%AF%E6%80%9D%E8%BE%A8%E8%81%96%E7%B6%93-%E5%B8%B6%E4%BD%A0%E7%9C%8B%E7%A9%BF%E5%81%87%E8%B1%A1-%E8%B5%B0%E5%87%BA%E8%AB%96%E9%BB%9E%E8%BF%B7%E9%9C%A7/id1537748440?i=1000640594001\n",
      "title: \n",
      "\n",
      "                  ãåå¨è®æ¸æãç¾åå¤§å­¸éè¼¯æè¾¨èç¶ãå¸¶ä½ çç©¿åè±¡ãèµ°åºè«é»è¿·âªé§â¬\n",
      "                \n",
      "\n",
      "\n",
      "                      åå¨Bar\n",
      "                    \n",
      "\n",
      "\n",
      "title description:  è³è¨çç¸ãåæ¶æ¯å",
      "",
      "æ¥ç¤¾ç¾¤åªé«ï¼ç¤¾æèè«ä¹è®äººä¸æ¢ãéé¢¨ãç¼è¨ãæ³è¦è¾¨å¥çåãååºçæ§æ±ºç­ï¼æåéè¦ä»ç´°æª¢è¦è¨æ¯ï¼å¾ä¸­è­ç ´è¬¬èª¤ãæ¬é #åå¨è®æ¸æ éè«åæ¥­å¨åè³æ·±ç·¨è¼¯ æäºè± èå¤§å®¶åäº«å¦ä½å­¸æç¨ç«æèï¼çç©¿åè±¡ï¼ä¸åäººäºäº¦äºã\n",
      "\n",
      "æ¬æèè½éé»ã\n",
      "âÂ å",
      "¨çé·é·40å¹´ï¼ç¾åå¤§å°é¢æ ¡éè¼¯ãæè¾¨ç­èª²ç¨æå®ç¨æ¸\n",
      "âÂ å¾ç¶æ¿å­¸è§åº¦ãå¿çå­¸èæ¯ï¼ç²¾ç",
      "åºæ¹å¤æ§æèç10å¤§æ¡æ¶\n",
      "âÂ å¦ä½ç ´è§£ãæè¦çµ¦ä½ å¹¸ç¦ç¾å¥½çæªä¾ãéé¡ææ§ä¸æãæ½è±¡çç¨è©\n",
      "âÂ è¶æ¯æ½è±¡çå­è©ï¼è¶æå¯è½åºç¾å¤ç¨®è§£éï¼å¯ç¨ãè§è²äºæãçæ¹å¼ä¾ç¢ºèª\n",
      "âÂ è¾¯è­·å¾å¸«éå¸¸ä½¿ç¨ç®¡çå¼æ¨è«ï¼å",
      "æçµè«(ç¡ç½ª)ï¼åå»æ¾è½æ¯æçµè«ççç±(è­æ)\n",
      "âÂ éæ¸",
      "è­°é¡ãçµâ¦\n",
      "Manul: https://podcasts.apple.com/tw/podcast/%E5%95%86%E5%91%A8%E8%AE%80%E6%9B%B8%E6%9C%83-%E7%BE%8E%E5%9C%8B%E5%A4%A7%E5%AD%B8%E9%82%8F%E8%BC%AF%E6%80%9D%E8%BE%A8%E8%81%96%E7%B6%93-%E5%B8%B6%E4%BD%A0%E7%9C%8B%E7%A9%BF%E5%81%87%E8%B1%A1-%E8%B5%B0%E5%87%BA%E8%AB%96%E9%BB%9E%E8%BF%B7%E9%9C%A7/id1537748440?i=1000640594001\n",
      "content_id ['https://podcasts.apple.com/tw/podcast/%E5%95%86%E5%91%A8%E8%AE%80%E6%9B%B8%E6%9C%83-%E7%BE%8E%E5%9C%8B%E5%A4%A7%E5%AD%B8%E9%82%8F%E8%BC%AF%E6%80%9D%E8%BE%A8%E8%81%96%E7%B6%93-%E5%B8%B6%E4%BD%A0%E7%9C%8B%E7%A9%BF%E5%81%87%E8%B1%A1-%E8%B5%B0%E5%87%BA%E8%AB%96%E9%BB%9E%E8%BF%B7%E9%9C%A7/id1537748440?i=1000640594001']\n",
      "original url: https://bwnet.pse.is/5hsq7n\n",
      "full url: https://www.businessweekly.com.tw/business/blog/3014411\n",
      "title: 台股上看2萬點，資深投資人卻把錢放到債券現金⋯有錢人看到什麼苗頭？\n",
      "title description:  2024年一開始，全球股市仍牛氣沖天。不過，避險代表的黃金價格也往上衝，意味著投資人對於經濟前景是又愛又怕。在股市方面，一派人追逐報酬率較高的標的，也有富人階級將資產分配到現金及債券，充分顯示保守與積\n",
      "main category: 財經\n",
      "sub category: 投資理財\n",
      "文章發布日: 2024/01/05\n",
      "文章標籤: 債券,投資,降息,牛市,現金\n"
     ]
    },
    {
     "name": "stderr",
     "output_type": "stream",
     "text": [
      "C:\\Users\\JoeJian\\AppData\\Local\\Temp\\ipykernel_39768\\134116846.py:161: FutureWarning: The default dtype for empty Series will be 'object' instead of 'float64' in a future version. Specify a dtype explicitly to silence this warning.\n",
      "  series_id = pd.Series(content_id)\n"
     ]
    },
    {
     "name": "stdout",
     "output_type": "stream",
     "text": [
      "original url: https://bwnet.pse.is/5hsr6h\n",
      "full url: https://www.businessweekly.com.tw/Archive/Article?StrId=7006877\n",
      "title:  能貸多少錢？要繳很多稅？海外置產隱藏成本全揭露 - 商業周刊第1826期 - 商周線上讀\n",
      "title description:  商周線上讀，收錄台灣《商業周刊》雜誌歷年報導文章，包括第一桶金、金磚四國、一個台灣兩個世界、成功者的筆記本、台灣哥倫布、新零售、新製造、新物種等領先觀念，記錄台灣與世界二十年來的趨勢改變。\n",
      "main category: 封面故事\n",
      "文章發布日: 2022-11-10\n",
      "文章標籤: 海外置產,移民,四八六,泰國,馬來西亞,澳洲\n"
     ]
    },
    {
     "name": "stderr",
     "output_type": "stream",
     "text": [
      "C:\\Users\\JoeJian\\AppData\\Local\\Temp\\ipykernel_39768\\134116846.py:161: FutureWarning: The default dtype for empty Series will be 'object' instead of 'float64' in a future version. Specify a dtype explicitly to silence this warning.\n",
      "  series_id = pd.Series(content_id)\n"
     ]
    },
    {
     "name": "stdout",
     "output_type": "stream",
     "text": [
      "original url: https://bwnet.pse.is/5hsq52\n",
      "full url: https://www.businessweekly.com.tw/Archive/Article?StrId=7009466\n",
      "title:  蝴蝶結影片吸40億次瀏覽　背後藏泰勒絲狂賣秘密 - 商業周刊第1886期 - 商周線上讀\n",
      "title description:  38歲歌手拉娜．德芮一支用粉紅色蝴蝶結拍的8秒短影音，在TikTok上掀起風潮，類似風格的影片，在TikTok的瀏覽已達40億次。德芮加上粉紅蝴蝶結，象徵的是女性自覺，是一種名為coquette的風格。原本該詞帶有賣弄風騷的貶義，《紐約時報》解釋，現在已用來表達女性特質，更帶著柔軟、精緻的感覺。不少原本具備coquette風格的時尚品牌，討論度也逐漸增溫。\n",
      "main category: 國際視窗\n",
      "文章發布日: 2024-01-04\n",
      "文章標籤: TikTok,Z世代,蝴蝶結,千禧世代,prada,miumiu,芭比,泰勒絲,女性\n"
     ]
    },
    {
     "name": "stderr",
     "output_type": "stream",
     "text": [
      "C:\\Users\\JoeJian\\AppData\\Local\\Temp\\ipykernel_39768\\134116846.py:161: FutureWarning: The default dtype for empty Series will be 'object' instead of 'float64' in a future version. Specify a dtype explicitly to silence this warning.\n",
      "  series_id = pd.Series(content_id)\n"
     ]
    },
    {
     "name": "stdout",
     "output_type": "stream",
     "text": [
      "original url: https://bwnet.pse.is/5hss5l\n",
      "full url: https://www.businessweekly.com.tw/business/blog/3014301\n",
      "title: 2024勞工紓困貸款1/5開放登記！4個符合資格、線上申請教學一次看\n",
      "title description:  為協助勞工朋友度過農曆年前經濟困難，勞動部2024年「勞工保險被保險人紓困貸款」已於1月5日開放辦理！至1月19日截止。只要符合4個申請條件，每人最高可貸10萬元，貸款期間3年、年利率目前2.04，前\n",
      "main category: 財經\n",
      "sub category: 投資理財\n",
      "文章發布日: 2024/01/05\n",
      "文章標籤: 勞保紓困貸款,勞工紓困貸款申請,勞工紓困貸款利率,貸款,勞工紓困貸款,勞工\n"
     ]
    },
    {
     "name": "stderr",
     "output_type": "stream",
     "text": [
      "C:\\Users\\JoeJian\\AppData\\Local\\Temp\\ipykernel_39768\\134116846.py:161: FutureWarning: The default dtype for empty Series will be 'object' instead of 'float64' in a future version. Specify a dtype explicitly to silence this warning.\n",
      "  series_id = pd.Series(content_id)\n"
     ]
    },
    {
     "name": "stdout",
     "output_type": "stream",
     "text": [
      "original url: https://bwnet.pse.is/5hsq97\n",
      "full url: https://www.businessweekly.com.tw/business/blog/3014415\n",
      "title: 「我先付，再給我錢就好！」為何搶著墊錢的朋友很聰明？\n",
      "title description:  聚會、分攤付款時，先刷卡幫大家墊付其實好處多多。目的當然不是要貪小便宜，也不是想過過領導統御的乾癮，真正的目的在於搞好「現金流量」。這種充分發揮信用卡付款的優點，以創造利益的手法，有人稱為「分攤付款金\n",
      "main category: 財經\n",
      "sub category: 投資理財\n",
      "文章發布日: 2024/01/05\n",
      "文章標籤: 刷卡,理財,現金流,利息,投資\n"
     ]
    },
    {
     "name": "stderr",
     "output_type": "stream",
     "text": [
      "C:\\Users\\JoeJian\\AppData\\Local\\Temp\\ipykernel_39768\\134116846.py:161: FutureWarning: The default dtype for empty Series will be 'object' instead of 'float64' in a future version. Specify a dtype explicitly to silence this warning.\n",
      "  series_id = pd.Series(content_id)\n"
     ]
    },
    {
     "name": "stdout",
     "output_type": "stream",
     "text": [
      "original url: https://bwnet.pse.is/5hryaf\n",
      "full url: https://www.businessweekly.com.tw/careers/blog/3005976\n",
      "title: 相遇是緣分，深交卻要看人品⋯一個人值不值得深交，就看他如何回訊息\n",
      "title description:  1.人與人的交談中，讓對方覺得舒服，是一個人最基本的修養。而一個人的言談，往往最能暴露他的人品。2.本文整理了4個人與人之間的交談重點：凡事有交代，是可靠；出言有尺度，是分寸；在上不傲人、在下不悲人，\n",
      "main category: 職場\n",
      "sub category: 職場修練\n",
      "文章發布日: 2021/03/29\n",
      "文章標籤: 值得,交情,尊重,傳訊息,朋友,LINE\n"
     ]
    },
    {
     "name": "stderr",
     "output_type": "stream",
     "text": [
      "C:\\Users\\JoeJian\\AppData\\Local\\Temp\\ipykernel_39768\\134116846.py:161: FutureWarning: The default dtype for empty Series will be 'object' instead of 'float64' in a future version. Specify a dtype explicitly to silence this warning.\n",
      "  series_id = pd.Series(content_id)\n"
     ]
    },
    {
     "name": "stdout",
     "output_type": "stream",
     "text": [
      "original url: https://bwnet.psee.ly/5hsgld\n",
      "Manul: https://www.businessweekly.com.tw/careers/blog/3005976\n",
      "content_id ['https://www.businessweekly.com.tw/careers/blog/3005976']\n",
      "original url: https://bwnet.pse.is/5htw3q\n",
      "full url: https://www.businessweekly.com.tw/Archive/Article?StrId=7008207\n",
      "title:  超級藥局來了！全台店數直逼小七＋全家，掌握電商沒法搶的市場，下個零售之王誕生 - 商業周刊第1858期 - 商周線上讀\n",
      "title description:  全台藥局數量，已接近7-Eleven和全家便利商店的總和，這也讓藥學系學生成為大熱門，再加上口罩實名制、快篩實名制、送藥到府等政策，像是一股股推力，讓消費者開始主動踏進藥局。量變，質也變，新式藥局商品組合跳脫想像，能蝦皮取貨，雞蛋、寵物生日蛋糕都賣，與超商、超市越來越像，儼然成為萬能超級商店。這商機熱到連零售巨頭統一、科技大廠佳世達都大動作布局。\n",
      "main category: 封面故事\n",
      "文章發布日: 2023-06-21\n",
      "文章標籤: 藥局,藥學系,藥師,丁丁藥局,零售業,寶雅,電商\n"
     ]
    },
    {
     "name": "stderr",
     "output_type": "stream",
     "text": [
      "C:\\Users\\JoeJian\\AppData\\Local\\Temp\\ipykernel_39768\\134116846.py:161: FutureWarning: The default dtype for empty Series will be 'object' instead of 'float64' in a future version. Specify a dtype explicitly to silence this warning.\n",
      "  series_id = pd.Series(content_id)\n"
     ]
    },
    {
     "name": "stdout",
     "output_type": "stream",
     "text": [
      "original url: https://bwnet.pse.is/5htw8d\n",
      "full url: https://www.businessweekly.com.tw/Archive/Article?StrId=7008208\n",
      "title:  桃園小藥局翻身全台第一！大樹董座獨家專訪：「不要講創新，講改善就好」 - 商業周刊第1858期 - 商周線上讀\n",
      "title description:  藥局龍頭大樹曾經只是桃園小藥局，為何能翻身全台第一？商周獨家專訪董座鄭明龍，他說秘訣在「不要講創新，講改善就好」，他以零售業為師，拆解全家、阿里巴巴等成功企業心法，幫員工職涯規畫，把他們從專才變通才，營收、店數、股價遠勝同業，旗下更有全台最多藥師，還跨界寵物、進軍馬來西亞、中國，跳脫人們對傳統藥局的想像。\n",
      "main category: 封面故事\n",
      "文章發布日: 2023-06-21\n",
      "文章標籤: 大樹,藥局,連鎖藥局,藥師,零售,加盟\n"
     ]
    },
    {
     "name": "stderr",
     "output_type": "stream",
     "text": [
      "C:\\Users\\JoeJian\\AppData\\Local\\Temp\\ipykernel_39768\\134116846.py:161: FutureWarning: The default dtype for empty Series will be 'object' instead of 'float64' in a future version. Specify a dtype explicitly to silence this warning.\n",
      "  series_id = pd.Series(content_id)\n"
     ]
    },
    {
     "name": "stdout",
     "output_type": "stream",
     "text": [
      "original url: https://bwnet.pse.is/5htwav\n",
      "full url: https://www.businessweekly.com.tw/Archive/Article?StrId=7008236\n",
      "title:  大樹藥局砸錢養才拚規模，挑戰還沒完！董座預言，全聯切入機率是百分之百 - 商業周刊第1858期 - 商周線上讀\n",
      "title description:  大樹藥局董事長鄭明龍以零售業為師，打破規則，更打破產業天花板，讓大樹營收、店數、股價都遠勝同業。但這背後卻得犧牲短期獲利，甚至沒法買任何房地產，從店面到總部都用租的！他說，最大的挑戰在未來，新玩家將變更多，全聯暫時退出，但最終仍會切入，連好市多、沃爾瑪都可能是對手。\n",
      "main category: 封面故事\n",
      "文章發布日: 2023-06-21\n",
      "文章標籤: 大樹,全聯,林敏雄,好市多,零售業\n"
     ]
    },
    {
     "name": "stderr",
     "output_type": "stream",
     "text": [
      "C:\\Users\\JoeJian\\AppData\\Local\\Temp\\ipykernel_39768\\134116846.py:161: FutureWarning: The default dtype for empty Series will be 'object' instead of 'float64' in a future version. Specify a dtype explicitly to silence this warning.\n",
      "  series_id = pd.Series(content_id)\n"
     ]
    },
    {
     "name": "stdout",
     "output_type": "stream",
     "text": [
      "original url: https://www.youtube.com/watch?v=juA6-h5gJSc\n",
      "full url: https://www.youtube.com/watch?v=juA6-h5gJSc\n",
      "title description:  謝謝觀眾、讀者的支持，我們在聖誕節一早收到了15萬訂閱！2024，別再被演算法侷限視野！加入商周 Line：https://bwnet.pse.is/5b4k7m _____________________________________________歡迎回到《商業周刊》的 #懂商業看商周，看完這支影片，你會知...\n",
      "Manul: https://www.youtube.com/watch?v=juA6-h5gJSc\n",
      "content_id ['https://www.youtube.com/watch?v=juA6-h5gJSc']\n",
      "original url: https://www.businessweekly.com.tw/Archive/Article?StrId=7008388&utm_source=Line&utm_medium=social&utm_content=bw&utm_campaign=content&Ftag=7008388\n",
      "full url: https://www.businessweekly.com.tw/Archive/Article?StrId=7008388\n",
      "title:  「越反常越成功」賺到日泰星馬，南漂原民返鄉如何變身億元豪車旅遊王？ - 商業周刊第1862期 - 商周線上讀\n",
      "title description:  一位花蓮原民部落的青年，南漂到大城市闖蕩卻一事無成，回鄉後竟發光發熱，變身東台灣賓士9人座旅遊車隊霸主，還一路賺到日泰星馬！他是永津國際旅行社總經理黃文政，靠著「越反常越成功」的破框力，不到四年兩度成功創業，從開怪便當店到豪華車隊旅行社，今年營收上看兩億元。失敗魯蛇如何大翻身，一起來看他的故事。\n",
      "main category: 人物特寫\n",
      "文章發布日: 2023-07-20\n",
      "文章標籤: 黃文政,永津國際旅行社,張安平,創業,賓士旅遊車隊,鬼頭刀便當\n"
     ]
    },
    {
     "name": "stderr",
     "output_type": "stream",
     "text": [
      "C:\\Users\\JoeJian\\AppData\\Local\\Temp\\ipykernel_39768\\134116846.py:161: FutureWarning: The default dtype for empty Series will be 'object' instead of 'float64' in a future version. Specify a dtype explicitly to silence this warning.\n",
      "  series_id = pd.Series(content_id)\n"
     ]
    },
    {
     "name": "stdout",
     "output_type": "stream",
     "text": [
      "original url: https://www.businessweekly.com.tw/Archive/Article?StrId=7006777&utm_source=Line&utm_medium=social&utm_content=bw&utm_campaign=content&Ftag=7006777\n",
      "full url: https://www.businessweekly.com.tw/Archive/Article?StrId=7006777\n",
      "title:  鹿特丹靈魂融入台南新化　開箱全台最美果菜市場 - 商業周刊第1824期 - 商周線上讀\n",
      "title description:  商周線上讀，收錄台灣《商業周刊》雜誌歷年報導文章，包括第一桶金、金磚四國、一個台灣兩個世界、成功者的筆記本、台灣哥倫布、新零售、新製造、新物種等領先觀念，記錄台灣與世界二十年來的趨勢改變。\n",
      "main category: 生活新鮮事\n",
      "文章發布日: 2022-10-27\n",
      "文章標籤: 果菜市場,台南,鹿特丹,建築\n"
     ]
    },
    {
     "name": "stderr",
     "output_type": "stream",
     "text": [
      "C:\\Users\\JoeJian\\AppData\\Local\\Temp\\ipykernel_39768\\134116846.py:161: FutureWarning: The default dtype for empty Series will be 'object' instead of 'float64' in a future version. Specify a dtype explicitly to silence this warning.\n",
      "  series_id = pd.Series(content_id)\n"
     ]
    },
    {
     "name": "stdout",
     "output_type": "stream",
     "text": [
      "original url: https://www.businessweekly.com.tw/focus/indep/1004094\n",
      "full url: https://www.businessweekly.com.tw/focus/indep/1004094\n",
      "title: 無盡探索 勇於開創 侯劭諺帶領喜特麗往下一個經典三十年持續前行\n",
      "title description:  喜特麗國際總經理侯劭諺，秉持「超越已知，無盡探索」帶領企業成功擴展新格局，從內銷到外銷乃至電商，將父親創建的廚電品牌，精進轉型跟上時代腳步，更洞悉品牌未來發展的無限可能。在他的帶領下，品牌以累積而來的\n",
      "main category: 焦點\n",
      "sub category: \n",
      "文章發布日: 2023/12/26\n",
      "文章標籤: \n"
     ]
    },
    {
     "name": "stderr",
     "output_type": "stream",
     "text": [
      "C:\\Users\\JoeJian\\AppData\\Local\\Temp\\ipykernel_39768\\134116846.py:161: FutureWarning: The default dtype for empty Series will be 'object' instead of 'float64' in a future version. Specify a dtype explicitly to silence this warning.\n",
      "  series_id = pd.Series(content_id)\n"
     ]
    },
    {
     "name": "stdout",
     "output_type": "stream",
     "text": [
      "original url: https://www.businessweekly.com.tw/focus/blog/3013546?utm_source=Line&utm_medium=social&utm_content=bw&utm_campaign=content\n",
      "full url: https://www.businessweekly.com.tw/focus/blog/3013546\n",
      "title: 2024總統大選》候選人「能源」政見總整理，核電怎麼解決？誰能讓台灣不缺電？\n",
      "title description:  2024總統大選進入倒數階段，最受矚目的民眾黨候選人柯文哲、國民黨候選人侯友宜、民進黨候選人賴清德，針對核能、再生能源，各提出哪些政見，怎麼推動台灣能源轉型同時確保不缺電？\n",
      "main category: 焦點\n",
      "sub category: 時事分析\n",
      "文章發布日: 2024/01/04\n",
      "文章標籤:  郭台銘, 賴清德, 總統大選,2024總統大選, 柯文哲, 國民黨, 能源, 民眾黨, 民進黨, 核能, 侯友宜, 缺電\n"
     ]
    },
    {
     "name": "stderr",
     "output_type": "stream",
     "text": [
      "C:\\Users\\JoeJian\\AppData\\Local\\Temp\\ipykernel_39768\\134116846.py:161: FutureWarning: The default dtype for empty Series will be 'object' instead of 'float64' in a future version. Specify a dtype explicitly to silence this warning.\n",
      "  series_id = pd.Series(content_id)\n"
     ]
    },
    {
     "name": "stdout",
     "output_type": "stream",
     "text": [
      "original url: https://www.businessweekly.com.tw/Archive/Article?StrId=67447%20&utm_source=Line&utm_medium=social&utm_content=bw&utm_campaign=content&Ftag=67447\n",
      "full url: https://www.businessweekly.com.tw/Archive/Article?StrId=67447 \n",
      "title:  台灣麥當勞前總裁　人生三度重開機告白 - 商業周刊第1598期 - 商周線上讀\n",
      "title description:  商周線上讀，收錄台灣《商業周刊》雜誌歷年報導文章，包括第一桶金、金磚四國、一個台灣兩個世界、成功者的筆記本、台灣哥倫布、新零售、新製造、新物種等領先觀念，記錄台灣與世界二十年來的趨勢改變。\n",
      "main category: 人物特寫\n",
      "文章發布日: 2018-06-28\n",
      "文章標籤: \n"
     ]
    },
    {
     "name": "stderr",
     "output_type": "stream",
     "text": [
      "C:\\Users\\JoeJian\\AppData\\Local\\Temp\\ipykernel_39768\\134116846.py:161: FutureWarning: The default dtype for empty Series will be 'object' instead of 'float64' in a future version. Specify a dtype explicitly to silence this warning.\n",
      "  series_id = pd.Series(content_id)\n"
     ]
    },
    {
     "name": "stdout",
     "output_type": "stream",
     "text": [
      "original url: https://www.businessweekly.com.tw/international/blog/3011709?utm_source=Line&utm_medium=social&utm_content=bw&utm_campaign=content\n",
      "full url: https://www.businessweekly.com.tw/international/blog/3011709\n",
      "title: 中國年輕人瘋線上付費馬拉松，卻又花錢找人代跑⋯是為了什麼？\n",
      "title description:  在運動App上完成目標運動、領虛擬徽章，已經沒辦法滿足一些年輕人了。中國自2022年開始，興起「買」獎牌的活動：年輕人付費參加虛擬路跑，以獲取平台頒發的實體獎牌。以健身App––Keep為例，2022\n",
      "main category: 國際\n",
      "sub category: 趨勢中國\n",
      "文章發布日: 2023/02/14\n",
      "文章標籤: 健身App,代跑,馬拉松\n"
     ]
    },
    {
     "name": "stderr",
     "output_type": "stream",
     "text": [
      "C:\\Users\\JoeJian\\AppData\\Local\\Temp\\ipykernel_39768\\134116846.py:161: FutureWarning: The default dtype for empty Series will be 'object' instead of 'float64' in a future version. Specify a dtype explicitly to silence this warning.\n",
      "  series_id = pd.Series(content_id)\n"
     ]
    },
    {
     "name": "stdout",
     "output_type": "stream",
     "text": [
      "original url: https://www.youtube.com/watch?v=o-fuaCMyFCw\n",
      "full url: https://www.youtube.com/watch?v=o-fuaCMyFCw\n",
      "title description:  ✔️本集陣容：主持人 《良醫健康網》編輯 陳宛欣客座主持人 醫學權威 陳保仁醫師重量級來賓 三軍總醫院牙周病科科主任 黃仁勇醫師✔️本集重點：1️⃣ 刷牙５大迷思！大小、款式、時間好難懂？2️⃣ 口腔清潔也有懶人包！掌握３大重點不馬虎3️⃣ 想告別黃牙！美齒貼片、冷光美白很傷牙？✔️聽更多健康問良醫：《商周Bar...\n",
      "Manul: https://www.youtube.com/watch?v=o-fuaCMyFCw\n",
      "content_id ['https://www.youtube.com/watch?v=o-fuaCMyFCw']\n",
      "original url: https://bwnet.pse.is/5hud3v\n",
      "Manul: https://www.youtube.com/watch?v=o-fuaCMyFCw\n",
      "content_id ['https://www.youtube.com/watch?v=o-fuaCMyFCw']\n",
      "original url: https://bwnet.pse.is/5htvsk\n",
      "full url: https://www.businessweekly.com.tw/careers/blog/22331\n",
      "title: 吳淡如：到了40歲，還告訴自己「再撐一下」，代表你沒學會「人生取捨」\n",
      "title description:  到了中年，最慘的莫過於是不能「去蕪存菁」的人。我有位友人，小我3、4歲，身掛5家公司的總經理。飯從來沒有準時吃過，覺也從來沒有睡飽過，運動也從來沒有過，10年來，我眼看著他像吹氣球一般，虛胖到百公斤以\n",
      "main category: 職場\n",
      "sub category: 心靈成長\n",
      "文章發布日: 2018/03/27\n",
      "文章標籤: 吳淡如,代表,吴淡如,到了,再撐一下,site:www.businessweekly.com.tw,撐一下\n"
     ]
    },
    {
     "name": "stderr",
     "output_type": "stream",
     "text": [
      "C:\\Users\\JoeJian\\AppData\\Local\\Temp\\ipykernel_39768\\134116846.py:161: FutureWarning: The default dtype for empty Series will be 'object' instead of 'float64' in a future version. Specify a dtype explicitly to silence this warning.\n",
      "  series_id = pd.Series(content_id)\n"
     ]
    },
    {
     "name": "stdout",
     "output_type": "stream",
     "text": [
      "original url: https://bwnet.pse.is/5hudml\n",
      "full url: https://www.businessweekly.com.tw/business/blog/17417\n",
      "title: 掃地，掃到世界第一！羽田機場首席清潔婦：什麼工作都用心去做，就是專家\n",
      "title description:  我非常喜歡清潔工作前幾天有機會和年輕的同事聊天，有人問我：「新津女士，您沒有想過要辭掉現在的工作，或去做別的工作嗎？」我毫不猶豫回答：「沒有。」廣告到底在什麼情況下，會讓人想要辭掉工作呢？比如和公司裡\n",
      "main category: 財經\n",
      "sub category: 焦點人物\n",
      "文章發布日: 2017/02/04\n",
      "文章標籤: 羽田機場 清潔\n"
     ]
    },
    {
     "name": "stderr",
     "output_type": "stream",
     "text": [
      "C:\\Users\\JoeJian\\AppData\\Local\\Temp\\ipykernel_39768\\134116846.py:161: FutureWarning: The default dtype for empty Series will be 'object' instead of 'float64' in a future version. Specify a dtype explicitly to silence this warning.\n",
      "  series_id = pd.Series(content_id)\n"
     ]
    },
    {
     "name": "stdout",
     "output_type": "stream",
     "text": [
      "original url: https://bwnet.pse.is/5huea9\n",
      "full url: https://www.businessweekly.com.tw/careers/blog/3013140\n",
      "title: 年過45歲，才發現自己除了工作什麼都沒有⋯過來人：人生有更值得的事\n",
      "title description:  年過45歲還繼續工作的人，如果沒有擔任管理職，應該多少會出現「自己好像不是主角的感覺」。你可以努力在職場上，再次提升自己的存在感；可以嘗試運用以往建立的交際能力，重新思考自己在職場上的定位。也可以試著\n",
      "main category: 職場\n",
      "sub category: 心靈成長\n",
      "文章發布日: 2023/08/25\n",
      "文章標籤: 職涯,人生,選擇,平衡,職場,工作\n"
     ]
    },
    {
     "name": "stderr",
     "output_type": "stream",
     "text": [
      "C:\\Users\\JoeJian\\AppData\\Local\\Temp\\ipykernel_39768\\134116846.py:161: FutureWarning: The default dtype for empty Series will be 'object' instead of 'float64' in a future version. Specify a dtype explicitly to silence this warning.\n",
      "  series_id = pd.Series(content_id)\n"
     ]
    },
    {
     "name": "stdout",
     "output_type": "stream",
     "text": [
      "original url: https://bwnet.pse.is/5hugad\n",
      "full url: https://www.businessweekly.com.tw/careers/blog/3003919\n",
      "title: 好好生活，工作真的會變順！5個方法避免每天起床就心累\n",
      "title description:  許多職業倦怠，都是因為忘記「好好生活」。作者提供五個解方，幫你從改善工作開始，理解工作和生活如何相輔相成。…一、設立界線：下班後，就不要想工作對你來說，這可能關乎工作量與工作行程表。要是你每天工作十個小\n",
      "main category: 職場\n",
      "sub category: 職場修練\n",
      "文章發布日: 2020/09/16\n",
      "文章標籤: 工作日程調整,好好生活,上班好累\n"
     ]
    },
    {
     "name": "stderr",
     "output_type": "stream",
     "text": [
      "C:\\Users\\JoeJian\\AppData\\Local\\Temp\\ipykernel_39768\\134116846.py:161: FutureWarning: The default dtype for empty Series will be 'object' instead of 'float64' in a future version. Specify a dtype explicitly to silence this warning.\n",
      "  series_id = pd.Series(content_id)\n"
     ]
    },
    {
     "name": "stdout",
     "output_type": "stream",
     "text": [
      "original url: X\n",
      "Manul: https://www.businessweekly.com.tw/careers/blog/3003919\n",
      "content_id ['https://www.businessweekly.com.tw/careers/blog/3003919']\n",
      "original url: https://www.businessweekly.com.tw/Archive/Article?StrId=7009469&utm_source=Line&utm_medium=social&utm_content=bw&utm_campaign=content&Ftag=7009469\n",
      "full url: https://www.businessweekly.com.tw/Archive/Article?StrId=7009469\n",
      "title:  辦電競世界盃、挖角C羅　看懂石油霸主不得不的轉型（下） - 商業周刊第1886期 - 商周線上讀\n",
      "title description:  2024電競世界盃、2029年冬奧、2030世界博覽會，都將在這裡發生。這個由皇室宗族統治的沙烏地阿拉伯，正放鬆管制，吸引外資與觀光客。以總預算達5千億美元、號稱機器人將比人多的「新未來城」NEOM為例，它將在紅海邊蓋出線性城市，砸錢沒有極限。更開3倍薪挖人才、招足球巨星C羅。憑藉油元、人口紅利與轉型決心，沙烏地再次成為全球焦點。\n",
      "main category: 封面故事\n",
      "文章發布日: 2024-01-04\n",
      "文章標籤: 沙烏地,阿拉伯,杜拜,利雅德,中東,c羅,奧運\n"
     ]
    },
    {
     "name": "stderr",
     "output_type": "stream",
     "text": [
      "C:\\Users\\JoeJian\\AppData\\Local\\Temp\\ipykernel_39768\\134116846.py:161: FutureWarning: The default dtype for empty Series will be 'object' instead of 'float64' in a future version. Specify a dtype explicitly to silence this warning.\n",
      "  series_id = pd.Series(content_id)\n"
     ]
    },
    {
     "name": "stdout",
     "output_type": "stream",
     "text": [
      "original url: https://www.businessweekly.com.tw/Archive/Article?StrId=7009457&utm_source=Line&utm_medium=social&utm_content=bw&utm_campaign=content&Ftag=7009457\n",
      "full url: https://www.businessweekly.com.tw/Archive/Article?StrId=7009457\n",
      "title:  千萬別輕信「我認識中東王子」潛力堪比印度的淘金3眉角 - 商業周刊第1886期 - 商周線上讀\n",
      "title description:  商周前進野心新中東，在這裡採訪台商及台幹，他們眼中看到什麼機會使他們趨之若鶩？同時，經濟、文化、管理等實際落地問題，也成為風險及考驗。\n",
      "main category: 封面故事\n",
      "文章發布日: 2024-01-04\n",
      "文章標籤: 中東,台商,落地,機會,風險\n"
     ]
    },
    {
     "name": "stderr",
     "output_type": "stream",
     "text": [
      "C:\\Users\\JoeJian\\AppData\\Local\\Temp\\ipykernel_39768\\134116846.py:161: FutureWarning: The default dtype for empty Series will be 'object' instead of 'float64' in a future version. Specify a dtype explicitly to silence this warning.\n",
      "  series_id = pd.Series(content_id)\n"
     ]
    },
    {
     "name": "stdout",
     "output_type": "stream",
     "text": [
      "original url: https://bwnet.psee.ly/5hvx9p\n",
      "Manul: https://www.businessweekly.com.tw/Archive/Article?StrId=7009457\n",
      "content_id ['https://www.businessweekly.com.tw/Archive/Article?StrId=7009457']\n",
      "original url: https://www.youtube.com/watch?v=ld3Tp_DPfso&utm_source=Line&utm_medium=social&utm_content=bw&utm_campaign=content\n",
      "full url: https://www.youtube.com/watch?v=ld3Tp_DPfso\n",
      "title description:  【 本集乾爹 】商周圓桌論壇購票網址：https://bwnet.psee.io/5h4bxn懂商業看商周讀者限定！點擊「使用折價券」輸入「RT300」可再折300元官方網站：https://bwnet.psee.io/5h4bug 【 2024不被演算法侷限視野 】加入商周 Line：https://bwnet...\n",
      "Manul: https://www.youtube.com/watch?v=ld3Tp_DPfso\n",
      "content_id ['https://www.youtube.com/watch?v=ld3Tp_DPfso']\n",
      "original url: https://www.businessweekly.com.tw/careers/blog/3003501?utm_source=Line&utm_medium=social&utm_content=bw&utm_campaign=content\n",
      "full url: https://www.businessweekly.com.tw/careers/blog/3003501\n",
      "title: 勸你直接撕掉邀請函！哈佛商院教授的忠告：參加校友聚會很「危險」\n",
      "title description:  我一再看到許多學生遇到這種情形。由於生怕昔日同窗好友個個闖出一番成績，自己卻落得既無錢財又沒出息，還得苦哈哈地為生活四處奔波，剛出爐的畢業生都會選擇表面上看來最安全的一條出路，接受起薪最高的工作，這樣\n",
      "main category: 職場\n",
      "sub category: 職場修練\n",
      "文章發布日: 2020/08/13\n",
      "文章標籤: 畢業生,職涯,校友會,同學會,哈佛\n"
     ]
    },
    {
     "name": "stderr",
     "output_type": "stream",
     "text": [
      "C:\\Users\\JoeJian\\AppData\\Local\\Temp\\ipykernel_39768\\134116846.py:161: FutureWarning: The default dtype for empty Series will be 'object' instead of 'float64' in a future version. Specify a dtype explicitly to silence this warning.\n",
      "  series_id = pd.Series(content_id)\n"
     ]
    },
    {
     "name": "stdout",
     "output_type": "stream",
     "text": [
      "original url: https://www.businessweekly.com.tw/business/blog/3003922?utm_source=Line&utm_medium=social&utm_content=bw&utm_campaign=content\n",
      "full url: https://www.businessweekly.com.tw/business/blog/3003922\n",
      "title: 朋友聚會，你花多少錢吃飯？一個觀念，比理財、進修更能帶動「人生晉級」\n",
      "title description:  1.湯姆．歐尼爾是紐約知名律師事務所的律師，妻子瑪格麗特在紐約大學主修物理治療，兩人養育三個孩子；隔壁的約翰．維柏林也是一位成功的律師，他的太太瓊恩是法律事務所的秘書，同樣過著一家五口的生活。2.這兩\n",
      "main category: 財經\n",
      "sub category: 投資理財\n",
      "文章發布日: 2020/09/16\n",
      "文章標籤: 同儕影響,習慣致富,人生晉級,社交支出\n"
     ]
    },
    {
     "name": "stderr",
     "output_type": "stream",
     "text": [
      "C:\\Users\\JoeJian\\AppData\\Local\\Temp\\ipykernel_39768\\134116846.py:161: FutureWarning: The default dtype for empty Series will be 'object' instead of 'float64' in a future version. Specify a dtype explicitly to silence this warning.\n",
      "  series_id = pd.Series(content_id)\n"
     ]
    },
    {
     "name": "stdout",
     "output_type": "stream",
     "text": [
      "original url: https://www.businessweekly.com.tw/careers/blog/3005960?utm_source=Line&utm_medium=social&utm_content=bw&utm_campaign=content\n",
      "full url: https://www.businessweekly.com.tw/careers/blog/3005960\n",
      "title:  旅遊該不該帶伴手禮給同事？多做一個動作差很多\n",
      "title description:  1.買一份伴手禮分送同事可做順水人情，慰勞「留守」的同事，別應付了事。2.親自送到手上，代表「我把你們放心上」。3.選擇分別的小包裝，也是一種貼心的展現。…出差旅遊，別再買整盒伴手禮回來了我們之前已經談\n",
      "main category: 職場\n",
      "sub category: 職場修練\n",
      "文章發布日: 2021/03/26\n",
      "文章標籤: 出差,小包裝,伴手禮,親送\n"
     ]
    },
    {
     "name": "stderr",
     "output_type": "stream",
     "text": [
      "C:\\Users\\JoeJian\\AppData\\Local\\Temp\\ipykernel_39768\\134116846.py:161: FutureWarning: The default dtype for empty Series will be 'object' instead of 'float64' in a future version. Specify a dtype explicitly to silence this warning.\n",
      "  series_id = pd.Series(content_id)\n"
     ]
    },
    {
     "name": "stdout",
     "output_type": "stream",
     "text": [
      "original url: https://www.businessweekly.com.tw/focus/indep/1004049?utm_source=Line&utm_medium=Social&utm_content=bw&utm_campaign=2023TTY\n",
      "full url: https://www.businessweekly.com.tw/focus/indep/1004049\n",
      "title: 耕著東洋挺健康 – 譜寫公益四季組曲 吹奏利他熱情樂章\n",
      "title description:  2022年4月侯靜蘭上任台灣東洋總經理後積極推動公益，展開為期三年的「耕著東洋挺健康」公益計畫，以「吃得健康」為出發點，第一年與桃園大溪堅持無毒耕種的小農合作契作「東洋田」，第二年從初春的農耕寫生，盛\n",
      "main category: 焦點\n",
      "sub category: \n",
      "文章發布日: 2024/01/02\n",
      "文章標籤:  ESG,公益\n"
     ]
    },
    {
     "name": "stderr",
     "output_type": "stream",
     "text": [
      "C:\\Users\\JoeJian\\AppData\\Local\\Temp\\ipykernel_39768\\134116846.py:161: FutureWarning: The default dtype for empty Series will be 'object' instead of 'float64' in a future version. Specify a dtype explicitly to silence this warning.\n",
      "  series_id = pd.Series(content_id)\n"
     ]
    },
    {
     "name": "stdout",
     "output_type": "stream",
     "text": [
      "original url: https://www.businessweekly.com.tw/focus/blog/3013533?utm_source=Line&utm_medium=social&utm_content=bw&utm_campaign=content\n",
      "full url: https://www.businessweekly.com.tw/focus/blog/3013533\n",
      "title: 2024總統大選》候選人「民生問題」政見總整理，誰能解決少子化、長照危機？\n",
      "title description:  面對「少子化是國安危機」，台灣將邁入超高齡社會、長照體系該怎麼因應等問題，2024總統大選國民黨候選人侯友宜、民眾黨候選人柯文哲、連署參選人郭台銘、民進黨候選人賴清德等4人，各提出哪些政見因應？生育／\n",
      "main category: 焦點\n",
      "sub category: 時事分析\n",
      "文章發布日: 2023/12/18\n",
      "文章標籤: 2024總統大選,民進黨,總統大選,改變世界的一票,民眾黨,國民黨\n"
     ]
    },
    {
     "name": "stderr",
     "output_type": "stream",
     "text": [
      "C:\\Users\\JoeJian\\AppData\\Local\\Temp\\ipykernel_39768\\134116846.py:161: FutureWarning: The default dtype for empty Series will be 'object' instead of 'float64' in a future version. Specify a dtype explicitly to silence this warning.\n",
      "  series_id = pd.Series(content_id)\n"
     ]
    },
    {
     "name": "stdout",
     "output_type": "stream",
     "text": [
      "original url: https://bwnet.pse.is/5hw39h\n",
      "full url: https://www.businessweekly.com.tw/Archive/Article?StrId=7009161\n",
      "title:  小宅、公設4成 「獨立但不孤獨」將翻轉房市 - 商業周刊第1880期 - 商周線上讀\n",
      "title description:  如今「新40代」跟誰住、住哪裡全反邏輯！他們的夢幻宅要獨立但不孤獨、小坪數且高公設。與伴侶遠走他鄉或與好友同住、入住共生宅、養生村都成新選擇。健康智慧宅也因此崛起，讓豪宅、三代宅逐步退出主流。\n",
      "main category: 封面故事\n",
      "文章發布日: 2023-11-23\n",
      "文章標籤: 共生宅,養生村,長照機構,壯世代\n"
     ]
    },
    {
     "name": "stderr",
     "output_type": "stream",
     "text": [
      "C:\\Users\\JoeJian\\AppData\\Local\\Temp\\ipykernel_39768\\134116846.py:161: FutureWarning: The default dtype for empty Series will be 'object' instead of 'float64' in a future version. Specify a dtype explicitly to silence this warning.\n",
      "  series_id = pd.Series(content_id)\n"
     ]
    },
    {
     "name": "stdout",
     "output_type": "stream",
     "text": [
      "original url: https://bwnet.pse.is/5hw4ek\n",
      "full url: https://www.businessweekly.com.tw/focus/blog/3013533\n",
      "title: 2024總統大選》候選人「民生問題」政見總整理，誰能解決少子化、長照危機？\n",
      "title description:  面對「少子化是國安危機」，台灣將邁入超高齡社會、長照體系該怎麼因應等問題，2024總統大選國民黨候選人侯友宜、民眾黨候選人柯文哲、連署參選人郭台銘、民進黨候選人賴清德等4人，各提出哪些政見因應？生育／\n",
      "main category: 焦點\n",
      "sub category: 時事分析\n",
      "文章發布日: 2023/12/18\n",
      "文章標籤: 2024總統大選,民進黨,總統大選,改變世界的一票,民眾黨,國民黨\n"
     ]
    },
    {
     "name": "stderr",
     "output_type": "stream",
     "text": [
      "C:\\Users\\JoeJian\\AppData\\Local\\Temp\\ipykernel_39768\\134116846.py:161: FutureWarning: The default dtype for empty Series will be 'object' instead of 'float64' in a future version. Specify a dtype explicitly to silence this warning.\n",
      "  series_id = pd.Series(content_id)\n"
     ]
    },
    {
     "name": "stdout",
     "output_type": "stream",
     "text": [
      "original url: https://bwnet.pse.is/5hw2cu\n",
      "full url: https://www.businessweekly.com.tw/Archive/Article?StrId=7003193\n",
      "title:  鄒開蓮對談簡立峰 45歲部署第二人生的名片 - 商業周刊第1734期 - 商周線上讀\n",
      "title description:  商周線上讀，收錄台灣《商業周刊》雜誌歷年報導文章，包括第一桶金、金磚四國、一個台灣兩個世界、成功者的筆記本、台灣哥倫布、新零售、新製造、新物種等領先觀念，記錄台灣與世界二十年來的趨勢改變。\n",
      "main category: 特別企劃\n",
      "文章發布日: 2021-02-04\n",
      "文章標籤: Google,簡立峰,職場,鄒開蓮,職涯,雅虎,退休\n"
     ]
    },
    {
     "name": "stderr",
     "output_type": "stream",
     "text": [
      "C:\\Users\\JoeJian\\AppData\\Local\\Temp\\ipykernel_39768\\134116846.py:161: FutureWarning: The default dtype for empty Series will be 'object' instead of 'float64' in a future version. Specify a dtype explicitly to silence this warning.\n",
      "  series_id = pd.Series(content_id)\n"
     ]
    },
    {
     "name": "stdout",
     "output_type": "stream",
     "text": [
      "original url: https://bwnet.pse.is/5hufcb\n",
      "full url: https://www.businessweekly.com.tw/careers/blog/3013618\n",
      "title: 工作快30年、當到校長退休才知道：原來上班工作，好處那麼多\n",
      "title description:  一位退休校長自述，過去工作時，覺得工作的意義不外乎是「實現自我價值」、「服務人群」，或是「賺錢養家付房貸」、「和其他人產生社交連結」。但從準退休到退休，他發現，原來有地方上班、有個工作，還有更多好處。\n",
      "main category: 職場\n",
      "sub category: 職場修練\n",
      "文章發布日: 2023/10/22\n",
      "文章標籤: 退休,工作,職場\n"
     ]
    },
    {
     "name": "stderr",
     "output_type": "stream",
     "text": [
      "C:\\Users\\JoeJian\\AppData\\Local\\Temp\\ipykernel_39768\\134116846.py:161: FutureWarning: The default dtype for empty Series will be 'object' instead of 'float64' in a future version. Specify a dtype explicitly to silence this warning.\n",
      "  series_id = pd.Series(content_id)\n"
     ]
    },
    {
     "name": "stdout",
     "output_type": "stream",
     "text": [
      "original url: https://bwnet.pse.is/5hwggx\n",
      "full url: https://www.businessweekly.com.tw/Archive/Article?StrId=7009445\n",
      "title:  世博推手專訪》沙國用KPI管公務員，沒達標就丟官！ - 商業周刊第1886期 - 商周線上讀\n",
      "title description:  沙烏地阿拉伯利雅德以超過6成票數奪下2030世界博覽會主辦權，為何它勢在必得？商周專訪幕後推手，他說王儲用KPI衡量政府績效。這比較像是私人企業的邏輯，如果你不能（繳出成果）就無法留下。KPI是從上到下，從部長一直到基層職員都適用。如果你說，這也許會失敗，那就永遠不會開始。\n",
      "main category: 封面故事\n",
      "文章發布日: 2024-01-04\n",
      "文章標籤: 世博,kpi,利雅德,沙烏地,阿拉伯\n"
     ]
    },
    {
     "name": "stderr",
     "output_type": "stream",
     "text": [
      "C:\\Users\\JoeJian\\AppData\\Local\\Temp\\ipykernel_39768\\134116846.py:161: FutureWarning: The default dtype for empty Series will be 'object' instead of 'float64' in a future version. Specify a dtype explicitly to silence this warning.\n",
      "  series_id = pd.Series(content_id)\n"
     ]
    },
    {
     "name": "stdout",
     "output_type": "stream",
     "text": [
      "original url: https://bwnet.pse.is/5hwgws\n",
      "full url: https://www.businessweekly.com.tw/careers/blog/3000103\n",
      "title: 同學都去考公務員，他卻去學修摩托車，20年後坐擁3家店...好工作，是做出來的\n",
      "title description:  這世界上，沒有工作是完美的。一旦未能認清這點，就會在求職或轉職時，搖擺不定，下不了決心。Tony是一個典型案例，退伍3年，換過1個工作，目前工作做得不好不壞，想要趁著30歲前確定人生方向，於是再度站到\n",
      "main category: 職場\n",
      "sub category: 職場修練\n",
      "文章發布日: 2019/09/04\n",
      "文章標籤: 工作,公務員\n"
     ]
    },
    {
     "name": "stderr",
     "output_type": "stream",
     "text": [
      "C:\\Users\\JoeJian\\AppData\\Local\\Temp\\ipykernel_39768\\134116846.py:161: FutureWarning: The default dtype for empty Series will be 'object' instead of 'float64' in a future version. Specify a dtype explicitly to silence this warning.\n",
      "  series_id = pd.Series(content_id)\n"
     ]
    },
    {
     "name": "stdout",
     "output_type": "stream",
     "text": [
      "original url: https://bwnet.pse.is/5hwhms\n",
      "full url: https://www.businessweekly.com.tw/business/blog/3014401\n",
      "title: 開店2年慘賠四百多萬，改開Uber還清債務⋯認清定位，選做哪一行沒有好壞\n",
      "title description:  一位Uber司機靠開uber還清開咖啡廳欠下的債務，還每天只要工作2個時段。不少上班族對創業當老闆有很多想像，覺得當老闆好像很賺，但現實往往不是如此，做生意的學問，真的要走一遭才會知道。每個人都應該要\n",
      "main category: 財經\n",
      "sub category: 投資理財\n",
      "文章發布日: 2024/01/04\n",
      "文章標籤: 職涯,計程車,人生,uber,工作\n"
     ]
    },
    {
     "name": "stderr",
     "output_type": "stream",
     "text": [
      "C:\\Users\\JoeJian\\AppData\\Local\\Temp\\ipykernel_39768\\134116846.py:161: FutureWarning: The default dtype for empty Series will be 'object' instead of 'float64' in a future version. Specify a dtype explicitly to silence this warning.\n",
      "  series_id = pd.Series(content_id)\n"
     ]
    },
    {
     "name": "stdout",
     "output_type": "stream",
     "text": [
      "original url: https://bwnet.pse.is/5htv73\n",
      "full url: https://www.businessweekly.com.tw/careers/blog/23660\n",
      "title: 寫字方正者好服從、偏長的人愛出風頭...從筆跡洞悉12種同事、情人的心理性格\n",
      "title description:  你最近在想什麼，筆跡知道書寫是現代人記錄和傳遞資訊的交流活動，而筆跡是書寫留下的痕跡。根據筆跡的特點判斷某些字為何人所寫，稱作筆跡鑑定；透過筆跡了解書寫者的個性和書寫時的生理、心理狀態，稱作筆跡分析。\n",
      "main category: 職場\n",
      "sub category: 心靈成長\n",
      "文章發布日: 2018/09/03\n",
      "文章標籤: 寫字,服從,同事,方正\n"
     ]
    },
    {
     "name": "stderr",
     "output_type": "stream",
     "text": [
      "C:\\Users\\JoeJian\\AppData\\Local\\Temp\\ipykernel_39768\\134116846.py:161: FutureWarning: The default dtype for empty Series will be 'object' instead of 'float64' in a future version. Specify a dtype explicitly to silence this warning.\n",
      "  series_id = pd.Series(content_id)\n"
     ]
    },
    {
     "name": "stdout",
     "output_type": "stream",
     "text": [
      "original url: https://bwnet.pse.is/5hwg4e\n",
      "full url: https://www.businessweekly.com.tw/careers/blog/3014412\n",
      "title: 出國旅行遇大雨⋯計程車司機一句話，教會我什麼叫正向思考\n",
      "title description:  心態，是你選擇看待事情的角度，就算是一樣的事物，每個人看到的也會有所不同。小小的心態差異，就會決定我們是否能主導自己的人生，或是受到環境支配；會決定我們能否產生動力和決心，或因位阻力和擔憂變得軟弱。\n",
      "main category: 職場\n",
      "sub category: 心靈成長\n",
      "文章發布日: 2024/01/05\n",
      "文章標籤: 司機,成功,心態,計程車,旅遊\n"
     ]
    },
    {
     "name": "stderr",
     "output_type": "stream",
     "text": [
      "C:\\Users\\JoeJian\\AppData\\Local\\Temp\\ipykernel_39768\\134116846.py:161: FutureWarning: The default dtype for empty Series will be 'object' instead of 'float64' in a future version. Specify a dtype explicitly to silence this warning.\n",
      "  series_id = pd.Series(content_id)\n"
     ]
    },
    {
     "name": "stdout",
     "output_type": "stream",
     "text": [
      "original url: https://bwnet.pse.is/5hwgn8\n",
      "full url: https://www.businessweekly.com.tw/careers/blog/3014413\n",
      "title: 一份讓老闆秒懂重點的「進度報告」怎麼寫？\n",
      "title description:  管理偌大的團隊，每天日理萬機，主管關切的，不是我們每天「已經做」的流水帳，這就是我們的本份。他更仰賴我們，能提出業務上有哪些「應該做」、甚至是「做更多」的部分。找到之所以現在「還沒做」的癥結，有效動員\n",
      "main category: 職場\n",
      "sub category: 職場修練\n",
      "文章發布日: 2024/01/05\n",
      "文章標籤: 進度報告,職場,向上管理,主管,溝通技巧\n",
      "----------------- Finish -------------------\n"
     ]
    },
    {
     "name": "stderr",
     "output_type": "stream",
     "text": [
      "C:\\Users\\JoeJian\\AppData\\Local\\Temp\\ipykernel_39768\\134116846.py:161: FutureWarning: The default dtype for empty Series will be 'object' instead of 'float64' in a future version. Specify a dtype explicitly to silence this warning.\n",
      "  series_id = pd.Series(content_id)\n"
     ]
    }
   ],
   "source": [
    "url_number = 0\n",
    "\n",
    "content_id = [] # 這邊不會用到\n",
    "df_bw_sw_all = pd.DataFrame()\n",
    "\n",
    "bw_column_name = ['content_id'\n",
    "                 ,'content_title_h1'\n",
    "                 ,'content_title_description'\n",
    "                 ,'content_class_main'\n",
    "                 ,'content_class_sub'\n",
    "                 ,'content_date_time'\n",
    "                 ,'content_tag']\n",
    "\n",
    "for URL in df_bw_file['URL']:\n",
    "    \n",
    "    content_id = [] # 基本上不會用到，如果是舊版網頁，此欄位先放文章的url，以便之後查詢\n",
    "    \n",
    "    try:\n",
    "        time.sleep(5)\n",
    "        print(\"original url:\", URL)\n",
    "        headers={\"user-agent\":\"Mozilla/5.0 (Windows NT 10.0; Win64; x64) AppleWebKit/537.36 (KHTML, like Gecko) Chrome/113.0.0.0 Safari/537.36\"}\n",
    "        response = requests.get(URL, headers = headers)\n",
    "        bw_html = BeautifulSoup(response.text, \"lxml\")\n",
    "            \n",
    "        try:\n",
    "            url = bw_html.find(\"meta\", {\"property\":\"og:url\"}).get(\"content\")\n",
    "\n",
    "        except:\n",
    "            url = bw_html.find(\"meta\", {\"name\":\"og:url\"}).get(\"content\")\n",
    "            \n",
    "        \n",
    "        print(\"full url:\", url)\n",
    "        \n",
    "        # --- Begin 大標題 ---\n",
    "        lst_title_h1 = []\n",
    "        \n",
    "        if '/Archive/' in url:\n",
    "            \n",
    "            title_h1 = bw_html.find(\"meta\", {\"name\":\"title\"}).get(\"content\")\n",
    "            print(\"title: \", title_h1)\n",
    "            lst_title_h1.append(title_h1)\n",
    "            \n",
    "        elif \"alive.businessweekly\" in url:\n",
    "            \n",
    "            title_h1 = bw_html.find(\"meta\", {\"property\":\"og:title\"}).get(\"content\")\n",
    "            print(\"alive_title: \", title_h1)\n",
    "            lst_title_h1.append(title_h1)\n",
    "        \n",
    "        else:\n",
    "            \n",
    "            title_h1 = bw_html.find_all(\"h1\")  # 搜尋所有h1\n",
    "            \n",
    "            for title in title_h1:\n",
    "                print('title:', title.getText())  # 只提取文字部分\n",
    "                lst_title_h1.append(title.getText())\n",
    "\n",
    "        # --- End 大標題 ---\n",
    "        \n",
    "        # --- Begin 描述 ---\n",
    "        \n",
    "        ## 改成 meta description\n",
    "\n",
    "        lst_title_description = []\n",
    "        \n",
    "        title_description = bw_html.find(\"meta\", {\"name\":\"description\"}).get(\"content\")\n",
    "        print(\"title description: \", title_description)\n",
    "        lst_title_description.append(title_description)\n",
    "\n",
    "        # --- End 描述 ---\n",
    "     \n",
    "        # --- Begin 文章分類 Main and sub ---\n",
    "        \n",
    "        lst_content_class_main = []\n",
    "        lst_content_class_sub = []\n",
    "        \n",
    "        if '/Archive/' in url:\n",
    "            \n",
    "            content_class_main = bw_html.find(\"div\", {\"class\":\"author infoList\"}).getText().replace(\"｜\",\"\").split('\\n')[1].lstrip()\n",
    "            print('main category:', content_class_main)\n",
    "            lst_content_class_main.append(content_class_main)\n",
    "\n",
    "            lst_content_class_sub.append(\" \")\n",
    "        \n",
    "        elif \"alive.businessweekly\" in url:\n",
    "            \n",
    "            article_h2 = bw_html.find_all(\"h2\")  # 搜尋所有h2\n",
    "            \n",
    "            h2_num = 1\n",
    "            \n",
    "            for h2 in article_h2:\n",
    "                print('alive_class:', h2.getText())  # 只提取文字部分\n",
    "                \n",
    "                if h2_num == 1:\n",
    "                    lst_content_class_main.append(h2.getText())\n",
    "                    lst_content_class_sub.append(\" \")\n",
    "                \n",
    "                h2_num += 1\n",
    "\n",
    "        else:\n",
    "            content_class_main = bw_html.find(\"meta\", {\"property\":\"article:section\"}).get(\"content\")\n",
    "            print('main category:', content_class_main)\n",
    "            lst_content_class_main.append(content_class_main)\n",
    "\n",
    "            content_class_sub = bw_html.find(\"meta\", {\"itemprop\":\"articleSection\"}).get(\"content\")\n",
    "            print('sub category:', content_class_sub)\n",
    "            lst_content_class_sub.append(content_class_sub)\n",
    "\n",
    "        # --- End 文章分類 Main and sub ---\n",
    "        \n",
    "        # --- Begin 文章發佈日 ---\n",
    "\n",
    "        lst_content_date = []\n",
    "        \n",
    "        if '/Archive/' in url:\n",
    "\n",
    "            ct_date  = bw_html.find(\"span\", {\"itemprop\":\"datePublished\"}).getText()  # 文章發佈日\n",
    "            print(\"文章發布日:\", ct_date)\n",
    "            lst_content_date.append(ct_date)\n",
    "        \n",
    "        elif \"alive.businessweekly\" in url:\n",
    "            \n",
    "            # Find the div with class \"annotation\"\n",
    "            annotation_div = bw_html.find('div', class_='annotation')\n",
    "            \n",
    "            # Find the paragraph with class \"text-grey\" inside the annotation div\n",
    "            date_paragraph = annotation_div.find('p', class_='text-grey')\n",
    "\n",
    "            # Extract the text content (date)\n",
    "            ct_date = date_paragraph.get_text(strip=True)\n",
    "            \n",
    "            print(\"alive_文章發布日:\", ct_date)\n",
    "            lst_content_date.append(ct_date)\n",
    "        \n",
    "        else:\n",
    "            \n",
    "            ct_date  = bw_html.find(\"div\", {\"id\":\"AppGetDate\"})  # 文章發佈日\n",
    "            lst_content_date.append(ct_date.getText()[:10])\n",
    "            print(\"文章發布日:\", ct_date.getText()[:10])\n",
    "\n",
    "        # --- End 文章分類及文章發佈日 ---\n",
    "        \n",
    "        # --- Begin 標籤 ---\n",
    "\n",
    "        lst_content_tag = []\n",
    "        \n",
    "        if \"alive.businessweekly\" in url:\n",
    "            \n",
    "            content_tag = bw_html.find(\"input\", {\"name\":\"gtm_keywords_hidden\"}).get('value')  # 標籤\n",
    "            print('alive_文章標籤:', content_tag)\n",
    "            lst_content_tag.append(content_tag)\n",
    "            \n",
    "        else:\n",
    "        \n",
    "            content_tag = bw_html.find(\"meta\", {\"name\":\"keywords\"}).get('content')  # 標籤\n",
    "            print('文章標籤:', content_tag)\n",
    "            lst_content_tag.append(content_tag)\n",
    "        \n",
    "        # --- End 標籤 ---\n",
    "          \n",
    "        # List 轉 Series\n",
    "        series_id = pd.Series(content_id)\n",
    "        series_title_h1 = pd.Series(lst_title_h1)\n",
    "        series_title_description = pd.Series(lst_title_description)\n",
    "        series_content_class_main = pd.Series(lst_content_class_main)\n",
    "        series_content_class_sub = pd.Series(lst_content_class_sub)\n",
    "        series_content_date = pd.Series(lst_content_date)\n",
    "\n",
    "        lst_content_tag = \",\".join(lst_content_tag) # 把list中的資料用\",\"join起來\n",
    "        series_content_tag = pd.Series(lst_content_tag)\n",
    "        \n",
    "        # Series 放到 DataFrame\n",
    "        df_bw_sw_keyword = pd.concat([series_id\n",
    "                                     ,series_title_h1\n",
    "                                     ,series_title_description\n",
    "                                     ,series_content_class_main\n",
    "                                     ,series_content_class_sub\n",
    "                                     ,series_content_date\n",
    "                                     ,series_content_tag]\n",
    "                                     ,axis = 1)\n",
    "        \n",
    "        df_bw_sw_keyword.columns = bw_column_name\n",
    "\n",
    "        url_number += 1\n",
    "        \n",
    "        df_bw_sw_all = pd.concat([df_bw_sw_all, df_bw_sw_keyword], ignore_index=True)\n",
    "        \n",
    "    except:\n",
    "        print(\"Manul:\", url)\n",
    "        \n",
    "        content_id.append(url)\n",
    "        print(\"content_id\", content_id)\n",
    "        \n",
    "        series_id = pd.Series(content_id)\n",
    "        \n",
    "        df_bw_sw_keyword_except = pd.concat([series_id], axis = 1)\n",
    "        \n",
    "        df_bw_sw_keyword_except.columns = [\"content_id\"]\n",
    "        df_bw_sw_all = pd.concat([df_bw_sw_all, df_bw_sw_keyword_except], ignore_index=True)\n",
    "        \n",
    "        url_number += 1\n",
    "    \n",
    "print(\"----------------- Finish -------------------\")\n",
    "\n",
    "df_bw_sw_all.to_csv(f'{file_date}_BusinessWeekly_LINE.csv', index = False, encoding = 'UTF-8-sig')\n"
   ]
  },
  {
   "cell_type": "code",
   "execution_count": null,
   "id": "419dc865",
   "metadata": {},
   "outputs": [],
   "source": []
  },
  {
   "cell_type": "code",
   "execution_count": null,
   "id": "90a9bc34",
   "metadata": {},
   "outputs": [],
   "source": []
  }
 ],
 "metadata": {
  "kernelspec": {
   "display_name": "Python 3 (ipykernel)",
   "language": "python",
   "name": "python3"
  },
  "language_info": {
   "codemirror_mode": {
    "name": "ipython",
    "version": 3
   },
   "file_extension": ".py",
   "mimetype": "text/x-python",
   "name": "python",
   "nbconvert_exporter": "python",
   "pygments_lexer": "ipython3",
   "version": "3.10.9"
  }
 },
 "nbformat": 4,
 "nbformat_minor": 5
}
