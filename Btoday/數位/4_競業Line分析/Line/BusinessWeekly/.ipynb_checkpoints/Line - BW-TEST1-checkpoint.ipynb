{
 "cells": [
  {
   "cell_type": "markdown",
   "id": "ad01f59f",
   "metadata": {},
   "source": [
    "# 1. Import Modules"
   ]
  },
  {
   "cell_type": "code",
   "execution_count": 2,
   "id": "885a102e",
   "metadata": {},
   "outputs": [],
   "source": [
    "from bs4 import BeautifulSoup\n",
    "import requests\n",
    "import time\n",
    "import pandas as pd\n",
    "# import datetime"
   ]
  },
  {
   "cell_type": "markdown",
   "id": "f582f843",
   "metadata": {},
   "source": [
    "# 2. Read Data"
   ]
  },
  {
   "cell_type": "code",
   "execution_count": 2,
   "id": "69d78b4a",
   "metadata": {},
   "outputs": [],
   "source": [
    "## URL1\n",
    "\n",
    "URL = 'https://www.businessweekly.com.tw/business/blog/3014008?utm_source=Line&utm_medium=social&utm_content=bw&utm_campaign=content'"
   ]
  },
  {
   "cell_type": "code",
   "execution_count": 3,
   "id": "13e10886",
   "metadata": {},
   "outputs": [],
   "source": [
    "## URL2\n",
    "\n",
    "# URL = 'https://www.businessweekly.com.tw/Archive/Article?StrId=7009163&ftag=a7009163&rf=google'\n",
    "URL = 'https://bwnet.pse.is/5cgdjm'"
   ]
  },
  {
   "cell_type": "code",
   "execution_count": null,
   "id": "49bb5ae4",
   "metadata": {},
   "outputs": [],
   "source": [
    "if '/Archive/' in URL:\n",
    "    print(URL)"
   ]
  },
  {
   "cell_type": "code",
   "execution_count": 5,
   "id": "6a86edd7",
   "metadata": {
    "scrolled": true
   },
   "outputs": [
    {
     "name": "stdout",
     "output_type": "stream",
     "text": [
      "original url: https://www.cw.com.tw/article/5128230?utm_campaign=line_cw-social-daily-231128-5128230&utm_source=line_cw&utm_medium=social\n"
     ]
    }
   ],
   "source": [
    "print(\"original url:\", URL)\n",
    "headers={\"user-agent\":\"Mozilla/5.0 (Windows NT 10.0; Win64; x64) AppleWebKit/537.36 (KHTML, like Gecko) Chrome/113.0.0.0 Safari/537.36\"}\n",
    "response = requests.get(URL, headers = headers)\n",
    "bw_html = BeautifulSoup(response.text, \"lxml\")\n",
    "# url = bw_html.find(\"meta\", {\"property\":\"og:url\"}).get(\"content\")\n",
    "# print(\"full url:\", url)"
   ]
  },
  {
   "cell_type": "code",
   "execution_count": 6,
   "id": "affa83c5",
   "metadata": {},
   "outputs": [
    {
     "data": {
      "text/plain": [
       "<!DOCTYPE html>\n",
       "<html lang=\"en-US\"><head><title>Just a moment...</title><meta content=\"text/html; charset=utf-8\" http-equiv=\"Content-Type\"/><meta content=\"IE=Edge\" http-equiv=\"X-UA-Compatible\"/><meta content=\"noindex,nofollow\" name=\"robots\"/><meta content=\"width=device-width,initial-scale=1\" name=\"viewport\"/><link href=\"/cdn-cgi/styles/challenges.css\" rel=\"stylesheet\"/><meta content=\"375\" http-equiv=\"refresh\"/></head><body class=\"no-js\"><div class=\"main-wrapper\" role=\"main\"><div class=\"main-content\"><noscript><div id=\"challenge-error-title\"><div class=\"h2\"><span class=\"icon-wrapper\"><div class=\"heading-icon warning-icon\"></div></span><span id=\"challenge-error-text\">Enable JavaScript and cookies to continue</span></div></div></noscript></div></div><script>(function(){window._cf_chl_opt={cvId: '2',cZone: \"www.cw.com.tw\",cType: 'managed',cNounce: '99596',cRay: '82da28a5db124a18',cHash: '014f3d88cea41e8',cUPMDTk: \"\\/article\\/5128230?utm_campaign=line_cw-social-daily-231128-5128230&utm_source=line_cw&utm_medium=social&__cf_chl_tk=7TNGqgA7RbQl4QRpSZwu1Z68zPhFn0_iJ9S.srVYsz8-1701253653-0-gaNycGzNDBA\",cFPWv: 'g',cTTimeMs: '1000',cMTimeMs: '375000',cTplV: 5,cTplB: 'cf',cK: \"visitor-time\",fa: \"\\/article\\/5128230?utm_campaign=line_cw-social-daily-231128-5128230&utm_source=line_cw&utm_medium=social&__cf_chl_f_tk=7TNGqgA7RbQl4QRpSZwu1Z68zPhFn0_iJ9S.srVYsz8-1701253653-0-gaNycGzNDBA\",md: \"CYXGmaSkXOlI1hRzMWIYhYPOlKxEqOFc4KxNWpUfF24-1701253653-0-AbmLOciyuQZweNQTnyBnYVlijL4F7RFUMtj_qvGqV5eZO8c31y_cIm2eqeUAR0LTeXD-gHgHkjP2EJJJtYo3NrDrA80cfqx4x8UWViJnZVazsuhhYXZEZ0YDMU60EZ7OBTTyUPrUtOnfvfh2TOWtNXTHYTbiEfbWw2SEfnolnOaRDi-FCMS4421ZvTUlYMmHWq4T49aoxdmneosrNQEgqzLLf5J-8apXhyeVg6lCs3CdT77yak2_zsSrVP8Q2dW0YHb8pTpTHw0y5MzYiaPRimDvHxeiad4fXH3FO-97Qr6CXJ5wFbVbXBV2ZuRajvzvB-NrSotQMOkM9tfAP3Ce_XWxK8kpNfFDiY_Lg9Q7wbD0PvMWVJToBp80x6SlKpAfs04-bBlpx8s_ZAiJCw7dvWd3WO3TSsT1rwBVKTBF_9JkunWqnkH1TjkeEXwDbZx2O5_9n04XsLDL3Ty0SAuP3Gqaxox6msuyiqh2KKD8w1mpWboDXqo6KaZEFeVr9dJ3mT8SKGw1KOTD4WXCYNi7HXmiY7fAu1JmSbGRMvDZbpaACNZXsH9-_g-X2xC5G970uIR4Dbtll9BniilMAI-1QQ77s3XeldE1qazsX6vo1euQg11zqc_y7Fdxs2_yua3odPH9e6Ei7rc7XzOawgjt4L7L6b_7ROfpKlO6EReLtkJlA4DEeaz3XXRk24FwLklY8_gVBd_BFQSZFFJPuINo5Q1aPJDpecneAwZr6-u40k6RvUejHgCCYih2BCTtJDHjxmjoD_ZgvArLDX8GLddHtQhKJdLBgF_9b7KJQAccnoFrRKGlzsuLBvQZyKGjgRlCJtODALGskAnvpIPO6WsJ6TC6SaTNJ7HKJ0BFUL_QWSoPLEDSn3Xp0UDVuGdL3FmSxa3I1OUZOifR1Un1T8iPlwoSEDEtwfOpM_503P09_CTVZTpEE6izKWYvEwz_0jouLJBqSOaxyf72qCZnMsdWeB0CcwPWI8xKY2TvFaYdhpCS2ozKO6IbPIU-zYm5vWDWlZVJVAgjPU6q4LdxcOoYTEaz-d9LyPpwNjWHg549eDzMbkErY_9lx_4xUK_vWaX0hsf7Epak8DNMqhq4HenD3lvJ3i7tkx9frIQQoOIeZnHMbrsza3ZmHUrwjI8CHkGuefam-JCa5I-Akykhge7Me6106RzRxeiUq74L2llNzuOCk5yLb73iajAbBpZt-8D8fWA3N7Ehj12j_Jb728wzgjUSxlUHR4PPne9To3sI1c5b25VN5V0tXoSVZ2V9G_-Bj_MLwejagtM8PjzTOFPhc2FiS8wcGp-1flkeWv5H7Sat9Agay6MmMaVhftzOrTOLvAxismrVT6dTrKeCPgEUGSg3FcmSmDE0IJupW4g85Sg8_hsvmjkDaOlyUVtthfJXLn7WCMUGCp2rwGCkqtRA0HibXqcyBoacfRyCfBId4fOONyLfCkJKwLnUU1UTdoNovtNEi1SPhIfrHxq-mvxrk__rFMYZbHSTyv4kFni-6yYa-PrI13y2ztKMkAhU8curskbVPrkjxlUQ2IjsDLJeU_2X1X5c5mbLNRsJ_IlXsQO8g1OQjSknhovf6F-FITMUwaszXeEKm3o6qFfHJWM4YAWqaEDs3Y4pq9u5TRYk7HWYAJOpYCJtgv_OIuR0_v8IZDe8rQfqFgmTvZ4g9FZHOnFvShZdqy31jk9ugHodJO9XapXdYa6Wbm-Da9P7oQhqFbVzH_j-ZyaMcSxGk4D8LZ4TrH4hgU5zbciIDEfGAHD4NxDmpu8VU1VXlY630Q9HAF3X8YsRvg1CyKUtjMwaKzZL6qMdVYfIKCQxO-w4jvkFCHwnBrDgvbcSQmDdDmnZewRzoB6jm1ePJ2PVh0AKc5671VoZ20HoKVR0Ke-my9kpvBsl7U81n_tBy4GrsngSNDDlOj3llqRFoFNx802dEtMb6_HA3-8DR2bzdw6vgIdPNHrRhoisgwTplwOP0btWbprjoNZb9OscGMPUDETs07lv_aR4KH157utBDh0IEO2-eeQWhS1cxq4hb9ZLZGvIV6a81mDmN-jCPe_z1I7XM2rbAbMdQDDi9oyM-fCBM4QgbLzp-2zbLRTbBUNjrXAZuueT5q4jJtf9jL_er-3St3Y0Mi2MPrMeH7fP3DX6zeUXgI1ZAQAmQgZNBQeIrtOmbNTY-_DKV5ZevmWc49jqFL8AAjtklcBmj8XI41qcGRS6YqZPvAtU5nUt2nvWgf0wipOsN44tcpRQmXW3XyMTpcLteutfNoyrWyWdISQuwkNSRGeQLF6n4myQLV5YQwodFEpsehjTPyg1qo_hcQxQmcGBAux0Xuf_4Gt-d9p2IXLYKWHDlryJdxzwm78TUH40wJ1vE7XyjFnMgC4m-ZRdyZ6VO0kbAojPLP6nBz0syI7Wg_crZHZ7QyVI6q-x73dXCRyCa3oYRbHGtZRWB4Crjkf2aBlkz2rVa5i-7LR_QwimpVa-DvLA6Bj8fNVAcyyjSs594AJ6efHJN49CJwkzaj9I9dmXO9oSJM_MC88l7fBiOJPj-GPNpKhfbNEN0Ek9E7g6HjwVhp-SiqGNLiJ51OtwP6FrJ_zZwGNqwCyPcmTFqo0F_vTtkBU1uqFKH5E_KTjCDIxfYVlGrhmU9CywWzQM2Yf1q3n3_vbHlWuqCCJBxY7PDKadgijsVSZIyshCX-H4zUBd8ScpqNgc88XBN83VjLxue1t3e_4Uw6_LdnRQrmpVDYTVYDfg56dvRTstcCMdoV2-I-jiqHOgiw3ZzceI5SVNnwsRKmoV0wUrLrcee7uUwPoxClbJuboCIkDV8nHJBma054ijdm9Yp3Mo01LJYWiEfHKxp_uEHq9wRdhacCVPj7OCQR6SLqUVKlyxjvb6BAYFJlelUm0evr1FSB10cUIyfPAOOk6BtapTBFtbdUHbS4Jm2zuFOwTQUEMcuLZCQdfmFClGuEb9b28YJqbiRGpUxRHux6zBG8ivwvSAHv-GRmnXxYnGanvmoHCTNDE1uPNqOyBAzxCLHbEaS5Q\",cRq: {ru: 'aHR0cHM6Ly93d3cuY3cuY29tLnR3L2FydGljbGUvNTEyODIzMD91dG1fY2FtcGFpZ249bGluZV9jdy1zb2NpYWwtZGFpbHktMjMxMTI4LTUxMjgyMzAmdXRtX3NvdXJjZT1saW5lX2N3JnV0bV9tZWRpdW09c29jaWFs',ra: 'TW96aWxsYS81LjAgKFdpbmRvd3MgTlQgMTAuMDsgV2luNjQ7IHg2NCkgQXBwbGVXZWJLaXQvNTM3LjM2IChLSFRNTCwgbGlrZSBHZWNrbykgQ2hyb21lLzExMy4wLjAuMCBTYWZhcmkvNTM3LjM2',rm: 'R0VU',d: 'RHQTmfKo89J11mmTG5mskfORoCEGRDudc3XvT4BtBItTQsa6Fr5cOmvYI4AGeaUlzMWtorAjD3E3giIcU1ODlMEOi8GN76A92rVpp3vsnsR9jbj0wW+qnvAKaeEO1zIleJ33Y03or6xE0mwIhOBmd4zZ6xPmykVevEVIJSvAn7KyOEFa5pv4rAqluuJ6Xcfns3Awz90QKafjlnyFTd69BJ/rDdutxEeE2sU19mTzOWBszP2a+GU5fgd+2M/RctlAphG0OOCBDnnd3HjoMb9wrovcumLsuQW9po7ciExPxastEyUXsRv7GzGdD/Djcmcg/6GoLxXT80op5AFV8CCh1QF5n3Z1C5++xEYPoDBVvYB4m0Yl+cgJsLnLOZvv/YI00n0uLtdFov0rCx6PncMzWAMOCutTUWBtpcBhAOs2hL9eOIFpwyy7M7XHg6VEcqlZfQhUM6lZchOnBEWeQZzBSOCpqOlSkQzLpt2gi27Yd8g/+UAVNzuJ/ujC+j6R90s/JxaeGRQ0ww6M155Gb0sDf5YWRWWNzoLshad3/hku1qy3JPh/CKmUIhF/cNt8id22UCOtvofy3VA7F6GtCi1DqoW6WLQ+0FDKj6c1pPLplDI=',t: 'MTcwMTI1MzY1My40MjIwMDA=',cT: Math.floor(Date.now() / 1000),m: 'F5rai3J7ZxA6Hzo61Sx9u6ZaO/F3r9dR3qqFsednPm8=',i1: '6WFpGEBku7jOWAIgHXgMyw==',i2: '+VjXPHTXIHjOhM8nEP2Kkg==',zh: 'g8D3sTYxjVGrsz9gJRiVJ3Zo0PBMSbHllHjtmgAzoLc=',uh: 'JCB3jAEjzVavFCrcYbiVbiyDV87HWusJ0oHo48gbZpk=',hh: 'M7OGGpKOufSiiMiMmro/Wfu7XF8Ab/VPOIGl7JhhcsE=',}};var cpo = document.createElement('script');cpo.src = '/cdn-cgi/challenge-platform/h/g/orchestrate/chl_page/v1?ray=82da28a5db124a18';window._cf_chl_opt.cOgUHash = location.hash === '' && location.href.indexOf('#') !== -1 ? '#' : location.hash;window._cf_chl_opt.cOgUQuery = location.search === '' && location.href.slice(0, location.href.length - window._cf_chl_opt.cOgUHash.length).indexOf('?') !== -1 ? '?' : location.search;if (window.history && window.history.replaceState) {var ogU = location.pathname + window._cf_chl_opt.cOgUQuery + window._cf_chl_opt.cOgUHash;history.replaceState(null, null, \"\\/article\\/5128230?utm_campaign=line_cw-social-daily-231128-5128230&utm_source=line_cw&utm_medium=social&__cf_chl_rt_tk=7TNGqgA7RbQl4QRpSZwu1Z68zPhFn0_iJ9S.srVYsz8-1701253653-0-gaNycGzNDBA\" + window._cf_chl_opt.cOgUHash);cpo.onload = function() {history.replaceState(null, null, ogU);}}document.getElementsByTagName('head')[0].appendChild(cpo);}());</script></body></html>"
      ]
     },
     "execution_count": 6,
     "metadata": {},
     "output_type": "execute_result"
    }
   ],
   "source": [
    "bw_html"
   ]
  },
  {
   "cell_type": "code",
   "execution_count": null,
   "id": "59112536",
   "metadata": {},
   "outputs": [],
   "source": [
    "## URL1\n",
    "\n",
    "lst_title_h1 = []\n",
    "title_h1 = bw_html.find_all(\"h1\")  # 搜尋所有h1\n",
    "\n",
    "# print('all h1', title_h1)\n",
    "for title in title_h1:\n",
    "    print(title.getText())  # 只提取文字部分\n",
    "    lst_title_h1.append(title.getText())"
   ]
  },
  {
   "cell_type": "code",
   "execution_count": null,
   "id": "490fd3ff",
   "metadata": {},
   "outputs": [],
   "source": [
    "## URL2\n",
    "\n",
    "lst_title_h1 = []\n",
    "title_h1 = bw_html.find_all(\"h1\")  # 搜尋所有h1\n",
    "\n",
    "print('title: ', bw_html.find('meta', {'name':'title'}).get('content'))\n"
   ]
  },
  {
   "cell_type": "code",
   "execution_count": null,
   "id": "56f9ea97",
   "metadata": {},
   "outputs": [],
   "source": [
    "## URL1、URL2\n",
    "\n",
    "lst_title_description = []\n",
    "        \n",
    "title_description = bw_html.find(\"meta\", {\"name\":\"description\"}).get(\"content\")\n",
    "print(\"title description: \", title_description)\n",
    "lst_title_description.append(title_description)"
   ]
  },
  {
   "cell_type": "code",
   "execution_count": null,
   "id": "fa43e1dc",
   "metadata": {},
   "outputs": [],
   "source": [
    "## URL1\n",
    "lst_content_class_main = []\n",
    "lst_content_class_sub = []\n",
    "content_class_main = bw_html.find(\"meta\", {\"property\":\"article:section\"}).get(\"content\")\n",
    "print('main category:', content_class_main)\n",
    "lst_content_class_main.append(content_class_main)\n",
    "\n",
    "content_class_sub = bw_html.find(\"meta\", {\"itemprop\":\"articleSection\"}).get(\"content\")\n",
    "print('sub category:', content_class_sub)\n",
    "lst_content_class_sub.append(content_class_sub)"
   ]
  },
  {
   "cell_type": "code",
   "execution_count": null,
   "id": "5df86123",
   "metadata": {},
   "outputs": [],
   "source": [
    "## URL2\n",
    "lst_content_class_main = []\n",
    "lst_content_class_sub = []\n",
    "\n",
    "content_class_main = bw_html.find(\"div\", {\"class\":\"author infoList\"}).getText().replace(\"｜\",\"\").split('\\n')[1].lstrip()\n",
    "print('main category:', content_class_main)\n",
    "lst_content_class_main.append(content_class_main)\n",
    "\n",
    "lst_content_class_sub.append(\" \")"
   ]
  },
  {
   "cell_type": "code",
   "execution_count": null,
   "id": "1816b8ac",
   "metadata": {},
   "outputs": [],
   "source": []
  },
  {
   "cell_type": "code",
   "execution_count": null,
   "id": "17d795a2",
   "metadata": {},
   "outputs": [],
   "source": [
    "## URL1\n",
    "lst_content_date = []\n",
    "\n",
    "ct_date  = bw_html.find(\"div\", {\"id\":\"AppGetDate\"})  # 文章發佈日\n",
    "lst_content_date.append(ct_date.getText()[:10])\n",
    "print(\"文章發布日:\", ct_date.getText()[:10])"
   ]
  },
  {
   "cell_type": "code",
   "execution_count": null,
   "id": "9925017d",
   "metadata": {},
   "outputs": [],
   "source": [
    "## URL2\n",
    "lst_content_date = []\n",
    "\n",
    "ct_date  = bw_html.find(\"span\", {\"itemprop\":\"datePublished\"}).getText()  # 文章發佈日\n",
    "print(\"文章發布日:\", ct_date)\n",
    "\n",
    "lst_content_date.append(ct_date)\n"
   ]
  },
  {
   "cell_type": "code",
   "execution_count": null,
   "id": "619a59ab",
   "metadata": {},
   "outputs": [],
   "source": [
    "## URL1、URL2\n",
    "\n",
    "lst_content_tag_temp = []\n",
    "lst_content_tag = []\n",
    "content_tag = bw_html.find(\"meta\", {\"name\":\"keywords\"}).get('content')  # 標籤\n",
    "print('文章標籤:', content_tag)\n"
   ]
  },
  {
   "cell_type": "markdown",
   "id": "d813c133",
   "metadata": {},
   "source": [
    "## 測試縮網址"
   ]
  },
  {
   "cell_type": "code",
   "execution_count": null,
   "id": "7a898796",
   "metadata": {},
   "outputs": [],
   "source": []
  }
 ],
 "metadata": {
  "kernelspec": {
   "display_name": "Python 3 (ipykernel)",
   "language": "python",
   "name": "python3"
  },
  "language_info": {
   "codemirror_mode": {
    "name": "ipython",
    "version": 3
   },
   "file_extension": ".py",
   "mimetype": "text/x-python",
   "name": "python",
   "nbconvert_exporter": "python",
   "pygments_lexer": "ipython3",
   "version": "3.10.9"
  }
 },
 "nbformat": 4,
 "nbformat_minor": 5
}
