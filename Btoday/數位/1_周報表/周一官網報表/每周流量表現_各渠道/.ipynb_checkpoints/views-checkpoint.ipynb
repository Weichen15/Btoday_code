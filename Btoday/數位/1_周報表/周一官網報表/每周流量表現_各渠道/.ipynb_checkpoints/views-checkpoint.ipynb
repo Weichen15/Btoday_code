{
 "cells": [
  {
   "cell_type": "code",
   "execution_count": 1,
   "id": "e7b5515e",
   "metadata": {},
   "outputs": [],
   "source": [
    "import numpy as np\n",
    "import pandas as pd"
   ]
  },
  {
   "cell_type": "code",
   "execution_count": 20,
   "id": "6d608c69",
   "metadata": {},
   "outputs": [
    {
     "data": {
      "text/html": [
       "<div>\n",
       "<style scoped>\n",
       "    .dataframe tbody tr th:only-of-type {\n",
       "        vertical-align: middle;\n",
       "    }\n",
       "\n",
       "    .dataframe tbody tr th {\n",
       "        vertical-align: top;\n",
       "    }\n",
       "\n",
       "    .dataframe thead th {\n",
       "        text-align: right;\n",
       "    }\n",
       "</style>\n",
       "<table border=\"1\" class=\"dataframe\">\n",
       "  <thead>\n",
       "    <tr style=\"text-align: right;\">\n",
       "      <th></th>\n",
       "      <th>Date</th>\n",
       "      <th>Session source / medium</th>\n",
       "      <th>Views</th>\n",
       "    </tr>\n",
       "  </thead>\n",
       "  <tbody>\n",
       "    <tr>\n",
       "      <th>0</th>\n",
       "      <td>20240122</td>\n",
       "      <td>google / organic</td>\n",
       "      <td>288837</td>\n",
       "    </tr>\n",
       "    <tr>\n",
       "      <th>1</th>\n",
       "      <td>20240125</td>\n",
       "      <td>google / organic</td>\n",
       "      <td>256772</td>\n",
       "    </tr>\n",
       "    <tr>\n",
       "      <th>2</th>\n",
       "      <td>20240124</td>\n",
       "      <td>google / organic</td>\n",
       "      <td>255552</td>\n",
       "    </tr>\n",
       "    <tr>\n",
       "      <th>3</th>\n",
       "      <td>20240123</td>\n",
       "      <td>google / organic</td>\n",
       "      <td>255363</td>\n",
       "    </tr>\n",
       "    <tr>\n",
       "      <th>4</th>\n",
       "      <td>20240126</td>\n",
       "      <td>google / organic</td>\n",
       "      <td>242777</td>\n",
       "    </tr>\n",
       "  </tbody>\n",
       "</table>\n",
       "</div>"
      ],
      "text/plain": [
       "       Date Session source / medium   Views\n",
       "0  20240122        google / organic  288837\n",
       "1  20240125        google / organic  256772\n",
       "2  20240124        google / organic  255552\n",
       "3  20240123        google / organic  255363\n",
       "4  20240126        google / organic  242777"
      ]
     },
     "execution_count": 20,
     "metadata": {},
     "output_type": "execute_result"
    }
   ],
   "source": [
    "df_views = pd.read_csv(\"views.csv\", encoding = \"big5\")\n",
    "\n",
    "df_views.head()"
   ]
  },
  {
   "cell_type": "code",
   "execution_count": 22,
   "id": "fa6b9349",
   "metadata": {},
   "outputs": [
    {
     "data": {
      "text/plain": [
       "Date\n",
       "20240122    617994\n",
       "20240123    534014\n",
       "20240124    530503\n",
       "20240125    547520\n",
       "20240126    517936\n",
       "20240127    401045\n",
       "20240128    476875\n",
       "Name: Views, dtype: int64"
      ]
     },
     "execution_count": 22,
     "metadata": {},
     "output_type": "execute_result"
    }
   ],
   "source": [
    "df_views.groupby(by = \"Date\")[\"Views\"].sum().sort_index(ascending = True)"
   ]
  },
  {
   "cell_type": "code",
   "execution_count": null,
   "id": "8c17b777",
   "metadata": {},
   "outputs": [],
   "source": [
    "df_daily_views = df_views.groupby(by = \"Date\")[\"Views\"].sum().sort_index(ascending = True)"
   ]
  }
 ],
 "metadata": {
  "kernelspec": {
   "display_name": "Python 3 (ipykernel)",
   "language": "python",
   "name": "python3"
  },
  "language_info": {
   "codemirror_mode": {
    "name": "ipython",
    "version": 3
   },
   "file_extension": ".py",
   "mimetype": "text/x-python",
   "name": "python",
   "nbconvert_exporter": "python",
   "pygments_lexer": "ipython3",
   "version": "3.10.9"
  }
 },
 "nbformat": 4,
 "nbformat_minor": 5
}
