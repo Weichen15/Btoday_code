{
 "cells": [
  {
   "cell_type": "code",
   "execution_count": 1,
   "id": "f5e214c5",
   "metadata": {},
   "outputs": [],
   "source": [
    "import pandas as pd"
   ]
  },
  {
   "cell_type": "code",
   "execution_count": 20,
   "id": "1caf0bba",
   "metadata": {},
   "outputs": [
    {
     "name": "stdout",
     "output_type": "stream",
     "text": [
      "Please enter file date: 20240206\n"
     ]
    }
   ],
   "source": [
    "file_date = input(\"Please enter file date: \")"
   ]
  },
  {
   "cell_type": "code",
   "execution_count": 3,
   "id": "312add40",
   "metadata": {},
   "outputs": [
    {
     "data": {
      "text/html": [
       "<div>\n",
       "<style scoped>\n",
       "    .dataframe tbody tr th:only-of-type {\n",
       "        vertical-align: middle;\n",
       "    }\n",
       "\n",
       "    .dataframe tbody tr th {\n",
       "        vertical-align: top;\n",
       "    }\n",
       "\n",
       "    .dataframe thead th {\n",
       "        text-align: right;\n",
       "    }\n",
       "</style>\n",
       "<table border=\"1\" class=\"dataframe\">\n",
       "  <thead>\n",
       "    <tr style=\"text-align: right;\">\n",
       "      <th></th>\n",
       "      <th>顯示名稱</th>\n",
       "      <th>原始名稱平台</th>\n",
       "      <th>平台</th>\n",
       "      <th>加入時間</th>\n",
       "      <th>封鎖時間</th>\n",
       "      <th>客戶狀態</th>\n",
       "      <th>標籤</th>\n",
       "      <th>電子信箱</th>\n",
       "      <th>電話/手機</th>\n",
       "      <th>性別</th>\n",
       "      <th>...</th>\n",
       "      <th>地址</th>\n",
       "      <th>位置（現居城市）</th>\n",
       "      <th>關於</th>\n",
       "      <th>Super 8 用戶 ID</th>\n",
       "      <th>平台 ID</th>\n",
       "      <th>自訂1</th>\n",
       "      <th>自訂2</th>\n",
       "      <th>自訂3</th>\n",
       "      <th>隱藏1</th>\n",
       "      <th>隱藏2</th>\n",
       "    </tr>\n",
       "  </thead>\n",
       "  <tbody>\n",
       "    <tr>\n",
       "      <th>0</th>\n",
       "      <td>Summer Hsia</td>\n",
       "      <td>Summer Hsia</td>\n",
       "      <td>Messenger</td>\n",
       "      <td>2021-08-25 16:47:50</td>\n",
       "      <td>無</td>\n",
       "      <td>有效會員</td>\n",
       "      <td>無</td>\n",
       "      <td>無</td>\n",
       "      <td>無</td>\n",
       "      <td>無</td>\n",
       "      <td>...</td>\n",
       "      <td>無</td>\n",
       "      <td>無</td>\n",
       "      <td>無</td>\n",
       "      <td>7ec46b3ca7a15825f95714ce738c558e</td>\n",
       "      <td>4241188672629779 \\t</td>\n",
       "      <td>無</td>\n",
       "      <td>無</td>\n",
       "      <td>無</td>\n",
       "      <td>無</td>\n",
       "      <td>無</td>\n",
       "    </tr>\n",
       "    <tr>\n",
       "      <th>1</th>\n",
       "      <td>張正穎</td>\n",
       "      <td>張正穎</td>\n",
       "      <td>Messenger</td>\n",
       "      <td>2021-08-25 18:18:35</td>\n",
       "      <td>無</td>\n",
       "      <td>有效會員</td>\n",
       "      <td>無</td>\n",
       "      <td>無</td>\n",
       "      <td>無</td>\n",
       "      <td>無</td>\n",
       "      <td>...</td>\n",
       "      <td>無</td>\n",
       "      <td>無</td>\n",
       "      <td>無</td>\n",
       "      <td>15b1e22cf7322d12c8aa2b896803e457</td>\n",
       "      <td>4464297753621985 \\t</td>\n",
       "      <td>無</td>\n",
       "      <td>無</td>\n",
       "      <td>無</td>\n",
       "      <td>無</td>\n",
       "      <td>無</td>\n",
       "    </tr>\n",
       "    <tr>\n",
       "      <th>2</th>\n",
       "      <td>張惠秋</td>\n",
       "      <td>張惠秋</td>\n",
       "      <td>Messenger</td>\n",
       "      <td>2021-08-26 14:58:20</td>\n",
       "      <td>無</td>\n",
       "      <td>有效會員</td>\n",
       "      <td>無</td>\n",
       "      <td>無</td>\n",
       "      <td>無</td>\n",
       "      <td>無</td>\n",
       "      <td>...</td>\n",
       "      <td>無</td>\n",
       "      <td>無</td>\n",
       "      <td>無</td>\n",
       "      <td>4dab5fde763510d5b60f75fa69267311</td>\n",
       "      <td>4350706844952421 \\t</td>\n",
       "      <td>無</td>\n",
       "      <td>無</td>\n",
       "      <td>無</td>\n",
       "      <td>無</td>\n",
       "      <td>無</td>\n",
       "    </tr>\n",
       "    <tr>\n",
       "      <th>3</th>\n",
       "      <td>吳珍儀</td>\n",
       "      <td>吳珍儀</td>\n",
       "      <td>Messenger</td>\n",
       "      <td>2021-08-27 10:06:14</td>\n",
       "      <td>無</td>\n",
       "      <td>有效會員</td>\n",
       "      <td>無</td>\n",
       "      <td>無</td>\n",
       "      <td>無</td>\n",
       "      <td>無</td>\n",
       "      <td>...</td>\n",
       "      <td>無</td>\n",
       "      <td>無</td>\n",
       "      <td>無</td>\n",
       "      <td>6645d3e5d7d5a0282e12e6f6fc664644</td>\n",
       "      <td>4195496517178365 \\t</td>\n",
       "      <td>無</td>\n",
       "      <td>無</td>\n",
       "      <td>無</td>\n",
       "      <td>無</td>\n",
       "      <td>無</td>\n",
       "    </tr>\n",
       "    <tr>\n",
       "      <th>4</th>\n",
       "      <td>Rui Chen</td>\n",
       "      <td>Rui Chen</td>\n",
       "      <td>Messenger</td>\n",
       "      <td>2021-08-27 10:17:25</td>\n",
       "      <td>無</td>\n",
       "      <td>有效會員</td>\n",
       "      <td>無</td>\n",
       "      <td>無</td>\n",
       "      <td>無</td>\n",
       "      <td>無</td>\n",
       "      <td>...</td>\n",
       "      <td>無</td>\n",
       "      <td>無</td>\n",
       "      <td>無</td>\n",
       "      <td>87bfdef0193d478b5cb339386e014027</td>\n",
       "      <td>4735806176431569 \\t</td>\n",
       "      <td>無</td>\n",
       "      <td>無</td>\n",
       "      <td>無</td>\n",
       "      <td>無</td>\n",
       "      <td>無</td>\n",
       "    </tr>\n",
       "  </tbody>\n",
       "</table>\n",
       "<p>5 rows × 22 columns</p>\n",
       "</div>"
      ],
      "text/plain": [
       "          顯示名稱       原始名稱平台         平台                 加入時間 封鎖時間  客戶狀態 標籤  \\\n",
       "0  Summer Hsia  Summer Hsia  Messenger  2021-08-25 16:47:50    無  有效會員  無   \n",
       "1          張正穎          張正穎  Messenger  2021-08-25 18:18:35    無  有效會員  無   \n",
       "2          張惠秋          張惠秋  Messenger  2021-08-26 14:58:20    無  有效會員  無   \n",
       "3          吳珍儀          吳珍儀  Messenger  2021-08-27 10:06:14    無  有效會員  無   \n",
       "4     Rui Chen     Rui Chen  Messenger  2021-08-27 10:17:25    無  有效會員  無   \n",
       "\n",
       "  電子信箱 電話/手機 性別  ...  地址 位置（現居城市） 關於                     Super 8 用戶 ID  \\\n",
       "0    無     無  無  ...   無        無  無  7ec46b3ca7a15825f95714ce738c558e   \n",
       "1    無     無  無  ...   無        無  無  15b1e22cf7322d12c8aa2b896803e457   \n",
       "2    無     無  無  ...   無        無  無  4dab5fde763510d5b60f75fa69267311   \n",
       "3    無     無  無  ...   無        無  無  6645d3e5d7d5a0282e12e6f6fc664644   \n",
       "4    無     無  無  ...   無        無  無  87bfdef0193d478b5cb339386e014027   \n",
       "\n",
       "                 平台 ID 自訂1 自訂2 自訂3 隱藏1 隱藏2  \n",
       "0  4241188672629779 \\t   無   無   無   無   無  \n",
       "1  4464297753621985 \\t   無   無   無   無   無  \n",
       "2  4350706844952421 \\t   無   無   無   無   無  \n",
       "3  4195496517178365 \\t   無   無   無   無   無  \n",
       "4  4735806176431569 \\t   無   無   無   無   無  \n",
       "\n",
       "[5 rows x 22 columns]"
      ]
     },
     "execution_count": 3,
     "metadata": {},
     "output_type": "execute_result"
    }
   ],
   "source": [
    "df_member = pd.read_csv(f\"Super8_{file_date}.csv\")\n",
    "\n",
    "df_member_backup = df_member.copy()\n",
    "\n",
    "df_member.head()"
   ]
  },
  {
   "cell_type": "markdown",
   "id": "55f43404",
   "metadata": {},
   "source": [
    "## 統計標籤"
   ]
  },
  {
   "cell_type": "code",
   "execution_count": 4,
   "id": "e8a44660",
   "metadata": {},
   "outputs": [
    {
     "data": {
      "text/html": [
       "<div>\n",
       "<style scoped>\n",
       "    .dataframe tbody tr th:only-of-type {\n",
       "        vertical-align: middle;\n",
       "    }\n",
       "\n",
       "    .dataframe tbody tr th {\n",
       "        vertical-align: top;\n",
       "    }\n",
       "\n",
       "    .dataframe thead th {\n",
       "        text-align: right;\n",
       "    }\n",
       "</style>\n",
       "<table border=\"1\" class=\"dataframe\">\n",
       "  <thead>\n",
       "    <tr style=\"text-align: right;\">\n",
       "      <th></th>\n",
       "      <th>標籤</th>\n",
       "    </tr>\n",
       "  </thead>\n",
       "  <tbody>\n",
       "    <tr>\n",
       "      <th>0</th>\n",
       "      <td>無</td>\n",
       "    </tr>\n",
       "    <tr>\n",
       "      <th>1</th>\n",
       "      <td>無</td>\n",
       "    </tr>\n",
       "    <tr>\n",
       "      <th>2</th>\n",
       "      <td>無</td>\n",
       "    </tr>\n",
       "    <tr>\n",
       "      <th>3</th>\n",
       "      <td>無</td>\n",
       "    </tr>\n",
       "    <tr>\n",
       "      <th>4</th>\n",
       "      <td>無</td>\n",
       "    </tr>\n",
       "  </tbody>\n",
       "</table>\n",
       "</div>"
      ],
      "text/plain": [
       "  標籤\n",
       "0  無\n",
       "1  無\n",
       "2  無\n",
       "3  無\n",
       "4  無"
      ]
     },
     "execution_count": 4,
     "metadata": {},
     "output_type": "execute_result"
    }
   ],
   "source": [
    "df_tag = df_member[[\"標籤\"]]\n",
    "\n",
    "df_tag.head()"
   ]
  },
  {
   "cell_type": "code",
   "execution_count": 5,
   "id": "77d928ba",
   "metadata": {},
   "outputs": [
    {
     "data": {
      "text/plain": [
       "標籤                                                                                   \n",
       "無                                                                                        15143\n",
       "健康                                                                                         691\n",
       "政治社會                                                                                       642\n",
       "理財                                                                                         484\n",
       "生活消費                                                                                       477\n",
       "                                                                                         ...  \n",
       "台股,職場,投資,理財,房地產,國際總經,健康,生活消費,退休,情感關係,ETF,科技,政治社會,保險,傳產                                       1\n",
       "台股,職場,投資,理財,國際總經,健康,科技,傳產,退休,職場學習,房地產,政治社會,品味收藏,教育,情感關係,生活消費,產業動態,美食旅遊                       1\n",
       "台股,職場,投資,理財,國際總經,ETF,退休,債券基金,健康,科技,房地產,品味收藏,傳產,稅制,生活消費,ESG,投資理財,情感關係,政治社會,金融,勞保勞退,信用卡        1\n",
       "台股,職場,投資,理財,傳產,科技,國際總經                                                                       1\n",
       "金融,退休,職場,理財,美食旅遊,生活消費,政治社會,情感關係                                                              1\n",
       "Length: 113442, dtype: int64"
      ]
     },
     "execution_count": 5,
     "metadata": {},
     "output_type": "execute_result"
    }
   ],
   "source": [
    "df_tag.value_counts()"
   ]
  },
  {
   "cell_type": "code",
   "execution_count": 6,
   "id": "87b56244",
   "metadata": {},
   "outputs": [
    {
     "name": "stdout",
     "output_type": "stream",
     "text": [
      "140600\n"
     ]
    }
   ],
   "source": [
    "print(len(df_tag))"
   ]
  },
  {
   "cell_type": "markdown",
   "id": "31785582",
   "metadata": {},
   "source": [
    "### 去除空值"
   ]
  },
  {
   "cell_type": "code",
   "execution_count": 7,
   "id": "4669080b",
   "metadata": {},
   "outputs": [
    {
     "name": "stderr",
     "output_type": "stream",
     "text": [
      "C:\\Users\\JoeJian\\AppData\\Local\\Temp\\ipykernel_13556\\4211538322.py:1: SettingWithCopyWarning: \n",
      "A value is trying to be set on a copy of a slice from a DataFrame\n",
      "\n",
      "See the caveats in the documentation: https://pandas.pydata.org/pandas-docs/stable/user_guide/indexing.html#returning-a-view-versus-a-copy\n",
      "  df_tag.dropna(inplace = True)\n"
     ]
    }
   ],
   "source": [
    "df_tag.dropna(inplace = True)"
   ]
  },
  {
   "cell_type": "code",
   "execution_count": 8,
   "id": "d260649e",
   "metadata": {},
   "outputs": [
    {
     "name": "stdout",
     "output_type": "stream",
     "text": [
      "140562\n"
     ]
    }
   ],
   "source": [
    "print(len(df_tag))"
   ]
  },
  {
   "cell_type": "markdown",
   "id": "09c4ddc6",
   "metadata": {},
   "source": [
    "### 去除標籤為「無」的值"
   ]
  },
  {
   "cell_type": "code",
   "execution_count": 9,
   "id": "5a541fd8",
   "metadata": {},
   "outputs": [],
   "source": [
    "tag_none_index = []\n",
    "\n",
    "for index, tag in df_tag.itertuples():\n",
    "    # (index, Page path, Views, article_id)\n",
    "    if tag == \"無\":\n",
    "        tag_none_index.append(index)"
   ]
  },
  {
   "cell_type": "code",
   "execution_count": 10,
   "id": "ad61f829",
   "metadata": {},
   "outputs": [
    {
     "name": "stdout",
     "output_type": "stream",
     "text": [
      "15143\n"
     ]
    },
    {
     "data": {
      "text/plain": [
       "[0, 1, 2, 3, 4, 5, 6, 7, 8, 9]"
      ]
     },
     "execution_count": 10,
     "metadata": {},
     "output_type": "execute_result"
    }
   ],
   "source": [
    "print(len(tag_none_index))\n",
    "tag_none_index[:10]"
   ]
  },
  {
   "cell_type": "code",
   "execution_count": 11,
   "id": "d8036f12",
   "metadata": {},
   "outputs": [
    {
     "name": "stdout",
     "output_type": "stream",
     "text": [
      "調整前資料筆數: 140562\n",
      "調整後資料筆數: 125419\n"
     ]
    },
    {
     "name": "stderr",
     "output_type": "stream",
     "text": [
      "C:\\Users\\JoeJian\\AppData\\Local\\Temp\\ipykernel_13556\\453257382.py:3: SettingWithCopyWarning: \n",
      "A value is trying to be set on a copy of a slice from a DataFrame\n",
      "\n",
      "See the caveats in the documentation: https://pandas.pydata.org/pandas-docs/stable/user_guide/indexing.html#returning-a-view-versus-a-copy\n",
      "  df_tag.drop(tag_none_index, inplace = True)\n"
     ]
    }
   ],
   "source": [
    "print(\"調整前資料筆數:\", len(df_tag))\n",
    "\n",
    "df_tag.drop(tag_none_index, inplace = True)\n",
    "\n",
    "print(\"調整後資料筆數:\", len(df_tag))"
   ]
  },
  {
   "cell_type": "code",
   "execution_count": 12,
   "id": "534b9362",
   "metadata": {},
   "outputs": [],
   "source": [
    "df_tag = df_tag.reset_index(drop = True)"
   ]
  },
  {
   "cell_type": "code",
   "execution_count": 13,
   "id": "91a11710",
   "metadata": {},
   "outputs": [
    {
     "name": "stdout",
     "output_type": "stream",
     "text": [
      "125419\n"
     ]
    },
    {
     "data": {
      "text/html": [
       "<div>\n",
       "<style scoped>\n",
       "    .dataframe tbody tr th:only-of-type {\n",
       "        vertical-align: middle;\n",
       "    }\n",
       "\n",
       "    .dataframe tbody tr th {\n",
       "        vertical-align: top;\n",
       "    }\n",
       "\n",
       "    .dataframe thead th {\n",
       "        text-align: right;\n",
       "    }\n",
       "</style>\n",
       "<table border=\"1\" class=\"dataframe\">\n",
       "  <thead>\n",
       "    <tr style=\"text-align: right;\">\n",
       "      <th></th>\n",
       "      <th>標籤</th>\n",
       "    </tr>\n",
       "  </thead>\n",
       "  <tbody>\n",
       "    <tr>\n",
       "      <th>0</th>\n",
       "      <td>情感關係,全球股市,投資,房地產,台股,政治社會,健康,退休,ESG,科技,理財,投資理財,...</td>\n",
       "    </tr>\n",
       "    <tr>\n",
       "      <th>1</th>\n",
       "      <td>政治社會,國際總經,健康</td>\n",
       "    </tr>\n",
       "    <tr>\n",
       "      <th>2</th>\n",
       "      <td>健康,科技,政治社會,教育,生活消費</td>\n",
       "    </tr>\n",
       "    <tr>\n",
       "      <th>3</th>\n",
       "      <td>台股,健康,美食旅遊,國際總經,政治社會,科技,理財,退休,情感關係,生活消費,投資,房地產,傳產</td>\n",
       "    </tr>\n",
       "    <tr>\n",
       "      <th>4</th>\n",
       "      <td>傳產,理財,投資,台股,政治社會,房地產,職場,ETF,生活消費,教育,金融,國際總經,勞保...</td>\n",
       "    </tr>\n",
       "  </tbody>\n",
       "</table>\n",
       "</div>"
      ],
      "text/plain": [
       "                                                  標籤\n",
       "0  情感關係,全球股市,投資,房地產,台股,政治社會,健康,退休,ESG,科技,理財,投資理財,...\n",
       "1                                       政治社會,國際總經,健康\n",
       "2                                 健康,科技,政治社會,教育,生活消費\n",
       "3  台股,健康,美食旅遊,國際總經,政治社會,科技,理財,退休,情感關係,生活消費,投資,房地產,傳產\n",
       "4  傳產,理財,投資,台股,政治社會,房地產,職場,ETF,生活消費,教育,金融,國際總經,勞保..."
      ]
     },
     "execution_count": 13,
     "metadata": {},
     "output_type": "execute_result"
    }
   ],
   "source": [
    "print(len(df_tag))\n",
    "df_tag.head()"
   ]
  },
  {
   "cell_type": "code",
   "execution_count": 14,
   "id": "2d0a735a",
   "metadata": {},
   "outputs": [],
   "source": [
    "# df_tag[\"標籤\"] = df_tag[\"標籤\"].apply(lambda X: X.strip())\n",
    "tag = df_tag[\"標籤\"].apply(lambda X: X.split(\",\"))"
   ]
  },
  {
   "cell_type": "code",
   "execution_count": 15,
   "id": "18eb1ca3",
   "metadata": {},
   "outputs": [
    {
     "data": {
      "text/plain": [
       "0         [情感關係, 全球股市, 投資, 房地產, 台股, 政治社會, 健康, 退休, ESG, 科...\n",
       "1                                          [政治社會, 國際總經, 健康]\n",
       "2                                  [健康, 科技, 政治社會, 教育, 生活消費]\n",
       "3         [台股, 健康, 美食旅遊, 國際總經, 政治社會, 科技, 理財, 退休, 情感關係, 生...\n",
       "4         [傳產, 理財, 投資, 台股, 政治社會, 房地產, 職場, ETF, 生活消費, 教育,...\n",
       "                                ...                        \n",
       "125414                                          [ETF, 政治社會]\n",
       "125415                                                [房地產]\n",
       "125416                                                 [傳產]\n",
       "125417                                                 [傳產]\n",
       "125418                                                 [職場]\n",
       "Name: 標籤, Length: 125419, dtype: object"
      ]
     },
     "execution_count": 15,
     "metadata": {},
     "output_type": "execute_result"
    }
   ],
   "source": [
    "tag"
   ]
  },
  {
   "cell_type": "code",
   "execution_count": 16,
   "id": "375ebdc0",
   "metadata": {},
   "outputs": [],
   "source": [
    "# 將所有標籤合併成一個list\n",
    "all_labels = [label for sublist in tag.tolist() for label in sublist]\n",
    "all_labels = [item.strip() for item in all_labels]\n",
    "\n",
    "# 使用value_counts()統計每個標籤的數量\n",
    "result_df = pd.DataFrame(all_labels, columns=['labels']).value_counts().reset_index()\n",
    "result_df.columns = ['Label', 'Count']\n",
    "\n"
   ]
  },
  {
   "cell_type": "code",
   "execution_count": 17,
   "id": "ac29cc2d",
   "metadata": {},
   "outputs": [
    {
     "data": {
      "text/html": [
       "<div>\n",
       "<style scoped>\n",
       "    .dataframe tbody tr th:only-of-type {\n",
       "        vertical-align: middle;\n",
       "    }\n",
       "\n",
       "    .dataframe tbody tr th {\n",
       "        vertical-align: top;\n",
       "    }\n",
       "\n",
       "    .dataframe thead th {\n",
       "        text-align: right;\n",
       "    }\n",
       "</style>\n",
       "<table border=\"1\" class=\"dataframe\">\n",
       "  <thead>\n",
       "    <tr style=\"text-align: right;\">\n",
       "      <th></th>\n",
       "      <th>Label</th>\n",
       "      <th>Count</th>\n",
       "    </tr>\n",
       "  </thead>\n",
       "  <tbody>\n",
       "    <tr>\n",
       "      <th>0</th>\n",
       "      <td>健康</td>\n",
       "      <td>100009</td>\n",
       "    </tr>\n",
       "    <tr>\n",
       "      <th>1</th>\n",
       "      <td>政治社會</td>\n",
       "      <td>99095</td>\n",
       "    </tr>\n",
       "    <tr>\n",
       "      <th>2</th>\n",
       "      <td>生活消費</td>\n",
       "      <td>98310</td>\n",
       "    </tr>\n",
       "    <tr>\n",
       "      <th>3</th>\n",
       "      <td>理財</td>\n",
       "      <td>98017</td>\n",
       "    </tr>\n",
       "    <tr>\n",
       "      <th>4</th>\n",
       "      <td>退休</td>\n",
       "      <td>93360</td>\n",
       "    </tr>\n",
       "  </tbody>\n",
       "</table>\n",
       "</div>"
      ],
      "text/plain": [
       "  Label   Count\n",
       "0    健康  100009\n",
       "1  政治社會   99095\n",
       "2  生活消費   98310\n",
       "3    理財   98017\n",
       "4    退休   93360"
      ]
     },
     "execution_count": 17,
     "metadata": {},
     "output_type": "execute_result"
    }
   ],
   "source": [
    "# 顯示結果\n",
    "result_df.head()"
   ]
  },
  {
   "cell_type": "code",
   "execution_count": 19,
   "id": "ff983c67",
   "metadata": {},
   "outputs": [],
   "source": [
    "result_df.to_csv(f\"Super8_tag_{file_date}.csv\", encoding = \"utf-8-sig\", index = False)"
   ]
  },
  {
   "cell_type": "code",
   "execution_count": null,
   "id": "ab8c092d",
   "metadata": {},
   "outputs": [],
   "source": []
  }
 ],
 "metadata": {
  "kernelspec": {
   "display_name": "Python 3 (ipykernel)",
   "language": "python",
   "name": "python3"
  },
  "language_info": {
   "codemirror_mode": {
    "name": "ipython",
    "version": 3
   },
   "file_extension": ".py",
   "mimetype": "text/x-python",
   "name": "python",
   "nbconvert_exporter": "python",
   "pygments_lexer": "ipython3",
   "version": "3.10.9"
  }
 },
 "nbformat": 4,
 "nbformat_minor": 5
}
