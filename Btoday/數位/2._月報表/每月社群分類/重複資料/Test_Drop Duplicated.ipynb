{
 "cells": [
  {
   "cell_type": "code",
   "execution_count": 1,
   "id": "2f9e8117",
   "metadata": {},
   "outputs": [],
   "source": [
    "import pandas as pd\n",
    "import glob"
   ]
  },
  {
   "cell_type": "code",
   "execution_count": 17,
   "id": "dbfefad1",
   "metadata": {},
   "outputs": [
    {
     "name": "stdout",
     "output_type": "stream",
     "text": [
      "Please enter the month range for the data: 202301_202312\n"
     ]
    }
   ],
   "source": [
    "file_name = input(\"Please enter the month range for the data: \")"
   ]
  },
  {
   "cell_type": "markdown",
   "id": "74adbaf5",
   "metadata": {},
   "source": [
    "## 讀取所有檔案"
   ]
  },
  {
   "cell_type": "code",
   "execution_count": 2,
   "id": "c04f9d60",
   "metadata": {},
   "outputs": [
    {
     "name": "stdout",
     "output_type": "stream",
     "text": [
      "['./For社群_GA4\\\\今周刊_20230101_20230131_Duplicated.csv', './For社群_GA4\\\\今周刊_20230201_20230228_Duplicated.csv', './For社群_GA4\\\\今周刊_20230301_20230331_Duplicated.csv', './For社群_GA4\\\\今周刊_20230401_20230430_Duplicated.csv', './For社群_GA4\\\\今周刊_20230501_20230531_Duplicated.csv', './For社群_GA4\\\\今周刊_20230601_20230630_Duplicated.csv', './For社群_GA4\\\\今周刊_20230701_20230731_Duplicated.csv', './For社群_GA4\\\\今周刊_20230801_20230831_Duplicated.csv', './For社群_GA4\\\\今周刊_20230901_20230930_Duplicated.csv', './For社群_GA4\\\\今周刊_20231001_20231031_Duplicated.csv', './For社群_GA4\\\\今周刊_20231101_20231130_Duplicated.csv', './For社群_GA4\\\\今周刊_20231201_20231231_Duplicated.csv']\n"
     ]
    }
   ],
   "source": [
    "read_files = glob.glob(r'./For社群_GA4/*.csv')\n",
    "\n",
    "print(read_files)"
   ]
  },
  {
   "cell_type": "markdown",
   "id": "03e1d364",
   "metadata": {},
   "source": [
    "## 合併dataframe"
   ]
  },
  {
   "cell_type": "code",
   "execution_count": 3,
   "id": "39f053bc",
   "metadata": {},
   "outputs": [
    {
     "name": "stdout",
     "output_type": "stream",
     "text": [
      "                文章ID                                             文章標題  \\\n",
      "0       2.023011e+11             輸入2組號碼人人就能領6000元！政府普發現金這12家銀行ATM都可領！   \n",
      "1       2.022121e+11  57歲才和張忠謀結婚，張淑芬談婚姻經營之道：以前我吵架一定要贏，到這年齡才領悟，能相處就是福報   \n",
      "2       2.021091e+11     騎著腳踏車載孫子，「這棟85大樓阿公買的」！75歲海霸王老闆從雞販到千億身家的破框故事    \n",
      "3       2.022101e+11     高齡求子受煎熬，生二胎「沒辦法辦到」...林志玲如何養成「剛剛好的優雅」？逆齡靠9大祕訣   \n",
      "4       2.023010e+11      先生不到50歲離開科技業、她焦慮到不敢花錢！清理3個櫃子後學會了…「家庭支出竟減4成」   \n",
      "...              ...                                              ...   \n",
      "165372           NaN                                              NaN   \n",
      "165373           NaN                                              NaN   \n",
      "165374           NaN                                              NaN   \n",
      "165375           NaN                                              NaN   \n",
      "165376           NaN                                              NaN   \n",
      "\n",
      "             瀏覽量               文章來源  文章屬性 名人專區       撰文    文章字數  上稿者 最後修改者  \\\n",
      "0       376125.0              數位部記者  政治社會  NaN   翁申霖 整理  1796.0  翁申霖   李易紓   \n",
      "1       279687.0  外稿/書摘/廣編（無稿費不可轉載)  家庭教育  媽媽經   媽媽經編輯部   935.0  洪慧如   郭美懿   \n",
      "2       179300.0              編輯部記者  職場學習  NaN  今周刊編輯團隊  5742.0  林依榕   李易紓   \n",
      "3       177623.0              數位部記者  家庭教育  NaN      黃明惠  1932.0  黃明惠   黃明惠   \n",
      "4       170695.0              數位部記者  生活消費  NaN      彭蕙珍  1635.0  彭蕙珍   李易紓   \n",
      "...          ...                ...   ...  ...      ...     ...  ...   ...   \n",
      "165372       NaN                NaN   NaN  NaN      NaN     NaN  NaN   NaN   \n",
      "165373       NaN                NaN   NaN  NaN      NaN     NaN  NaN   NaN   \n",
      "165374       NaN                NaN   NaN  NaN      NaN     NaN  NaN   NaN   \n",
      "165375       NaN                NaN   NaN  NaN      NaN     NaN  NaN   NaN   \n",
      "165376       NaN                NaN   NaN  NaN      NaN     NaN  NaN   NaN   \n",
      "\n",
      "              文章發布  \n",
      "0        2023/2/15  \n",
      "1        2023/1/25  \n",
      "2        2021/9/10  \n",
      "3       2022/10/13  \n",
      "4        2023/1/25  \n",
      "...            ...  \n",
      "165372         NaN  \n",
      "165373         NaN  \n",
      "165374         NaN  \n",
      "165375         NaN  \n",
      "165376         NaN  \n",
      "\n",
      "[165377 rows x 11 columns]\n"
     ]
    }
   ],
   "source": [
    "df_list = []\n",
    "\n",
    "for file in read_files:\n",
    "    df_1 = pd.read_csv(f\"{file}\", encoding = 'utf-8-sig')\n",
    "    \n",
    "    df_list.append(df_1)\n",
    "\n",
    "df_all = pd.concat(df_list, ignore_index = True)\n",
    "    \n",
    "print(df_all)"
   ]
  },
  {
   "cell_type": "code",
   "execution_count": 4,
   "id": "10ac9f0b",
   "metadata": {
    "scrolled": true
   },
   "outputs": [
    {
     "data": {
      "text/plain": [
       "0    2.023011e+11\n",
       "1    2.022121e+11\n",
       "2    2.021091e+11\n",
       "3    2.022101e+11\n",
       "4    2.023010e+11\n",
       "Name: 文章ID, dtype: float64"
      ]
     },
     "execution_count": 4,
     "metadata": {},
     "output_type": "execute_result"
    }
   ],
   "source": [
    "df_all[\"文章ID\"].head()"
   ]
  },
  {
   "cell_type": "code",
   "execution_count": 5,
   "id": "876249f6",
   "metadata": {},
   "outputs": [],
   "source": [
    "df_all[\"文章ID\"] = df_all[\"文章ID\"].astype(\"str\")"
   ]
  },
  {
   "cell_type": "code",
   "execution_count": 6,
   "id": "fc5fcb6b",
   "metadata": {},
   "outputs": [
    {
     "data": {
      "text/plain": [
       "0    202301090004.0\n",
       "1    202212090014.0\n",
       "2    202109100012.0\n",
       "3    202210130021.0\n",
       "4    202301040062.0\n",
       "Name: 文章ID, dtype: object"
      ]
     },
     "execution_count": 6,
     "metadata": {},
     "output_type": "execute_result"
    }
   ],
   "source": [
    "df_all[\"文章ID\"].head()"
   ]
  },
  {
   "cell_type": "code",
   "execution_count": 7,
   "id": "9a266e9f",
   "metadata": {
    "scrolled": true
   },
   "outputs": [
    {
     "name": "stdout",
     "output_type": "stream",
     "text": [
      "<class 'pandas.core.frame.DataFrame'>\n",
      "RangeIndex: 165377 entries, 0 to 165376\n",
      "Data columns (total 11 columns):\n",
      " #   Column  Non-Null Count   Dtype  \n",
      "---  ------  --------------   -----  \n",
      " 0   文章ID    165377 non-null  object \n",
      " 1   文章標題    162810 non-null  object \n",
      " 2   瀏覽量     162810 non-null  float64\n",
      " 3   文章來源    150303 non-null  object \n",
      " 4   文章屬性    137657 non-null  object \n",
      " 5   名人專區    54208 non-null   object \n",
      " 6   撰文      162689 non-null  object \n",
      " 7   文章字數    162807 non-null  float64\n",
      " 8   上稿者     97924 non-null   object \n",
      " 9   最後修改者   157271 non-null  object \n",
      " 10  文章發布    162810 non-null  object \n",
      "dtypes: float64(2), object(9)\n",
      "memory usage: 13.9+ MB\n"
     ]
    }
   ],
   "source": [
    "df_all.info()"
   ]
  },
  {
   "cell_type": "code",
   "execution_count": 8,
   "id": "96e686ac",
   "metadata": {},
   "outputs": [
    {
     "data": {
      "text/plain": [
       "array(['文章ID', '文章標題', '瀏覽量', '文章來源', '文章屬性', '名人專區', '撰文', '文章字數', '上稿者',\n",
       "       '最後修改者', '文章發布'], dtype=object)"
      ]
     },
     "execution_count": 8,
     "metadata": {},
     "output_type": "execute_result"
    }
   ],
   "source": [
    "df_all.columns.values"
   ]
  },
  {
   "cell_type": "code",
   "execution_count": 10,
   "id": "87066af3",
   "metadata": {},
   "outputs": [
    {
     "name": "stdout",
     "output_type": "stream",
     "text": [
      "                 文章ID                                             文章標題  \\\n",
      "0      202301090004.0             輸入2組號碼人人就能領6000元！政府普發現金這12家銀行ATM都可領！   \n",
      "1      202212090014.0  57歲才和張忠謀結婚，張淑芬談婚姻經營之道：以前我吵架一定要贏，到這年齡才領悟，能相處就是福報   \n",
      "2      202109100012.0     騎著腳踏車載孫子，「這棟85大樓阿公買的」！75歲海霸王老闆從雞販到千億身家的破框故事    \n",
      "3      202210130021.0     高齡求子受煎熬，生二胎「沒辦法辦到」...林志玲如何養成「剛剛好的優雅」？逆齡靠9大祕訣   \n",
      "4      202301040062.0      先生不到50歲離開科技業、她焦慮到不敢花錢！清理3個櫃子後學會了…「家庭支出竟減4成」   \n",
      "...               ...                                              ...   \n",
      "43234  200105240029.0                             林常榮發現天籟會館竟然會下蛋 P.118   \n",
      "43235  201507300022.0                              王瑞瑜：我不是討功勞  是秉持良心做事   \n",
      "43236  201309190040.0                                 馬王政爭 王金平贏在「幕後高手」   \n",
      "43237  200206200011.0                            工研院光電所養出二十五位 CEO P.76   \n",
      "43238  200201100045.0                             「車燈大王」吳俊佶全球賺錢奇觀 P.92   \n",
      "\n",
      "                    文章來源  文章屬性 名人專區              撰文    文章字數  上稿者 最後修改者  \\\n",
      "0                  數位部記者  政治社會  NaN          翁申霖 整理  1796.0  翁申霖   李易紓   \n",
      "1      外稿/書摘/廣編（無稿費不可轉載)  家庭教育  媽媽經          媽媽經編輯部   935.0  洪慧如   郭美懿   \n",
      "2                  編輯部記者  職場學習  NaN         今周刊編輯團隊  5742.0  林依榕   李易紓   \n",
      "3                  數位部記者  家庭教育  NaN             黃明惠  1932.0  黃明惠   黃明惠   \n",
      "4                  數位部記者  生活消費  NaN             彭蕙珍  1635.0  彭蕙珍   李易紓   \n",
      "...                  ...   ...  ...             ...     ...  ...   ...   \n",
      "43234                NaN   NaN  NaN             周冠印  1889.0  NaN   NaN   \n",
      "43235           今周/特刊/叢書  產業動態  NaN          許秀惠、鄧寧  2349.0  NaN   謝孟錡   \n",
      "43236           今周/特刊/叢書  政治社會  NaN             鄭閔聲  3069.0  NaN   林鈺欣   \n",
      "43237                NaN   NaN  NaN             金麗萍  2590.0  NaN   NaN   \n",
      "43238                NaN   NaN  NaN  /撰文/陳敏郎/攝影/里歐諾  2252.0  NaN   NaN   \n",
      "\n",
      "             文章發布  \n",
      "0       2023/2/15  \n",
      "1       2023/1/25  \n",
      "2       2021/9/10  \n",
      "3      2022/10/13  \n",
      "4       2023/1/25  \n",
      "...           ...  \n",
      "43234  2001-05-24  \n",
      "43235  2015-07-30  \n",
      "43236  2013-09-19  \n",
      "43237  2002-06-20  \n",
      "43238  2002-01-10  \n",
      "\n",
      "[43239 rows x 10 columns]\n"
     ]
    }
   ],
   "source": [
    "df_unique = df_all.drop(\"瀏覽量\", axis = 1)\n",
    "\n",
    "df_unique = df_unique.drop_duplicates(ignore_index=True)\n",
    "\n",
    "print(df_unique)"
   ]
  },
  {
   "cell_type": "code",
   "execution_count": 11,
   "id": "8b26d4ec",
   "metadata": {},
   "outputs": [],
   "source": [
    "column_names = ['文章ID']"
   ]
  },
  {
   "cell_type": "code",
   "execution_count": 12,
   "id": "564af307",
   "metadata": {
    "scrolled": true
   },
   "outputs": [
    {
     "data": {
      "text/html": [
       "<div>\n",
       "<style scoped>\n",
       "    .dataframe tbody tr th:only-of-type {\n",
       "        vertical-align: middle;\n",
       "    }\n",
       "\n",
       "    .dataframe tbody tr th {\n",
       "        vertical-align: top;\n",
       "    }\n",
       "\n",
       "    .dataframe thead th {\n",
       "        text-align: right;\n",
       "    }\n",
       "</style>\n",
       "<table border=\"1\" class=\"dataframe\">\n",
       "  <thead>\n",
       "    <tr style=\"text-align: right;\">\n",
       "      <th></th>\n",
       "      <th>文章ID</th>\n",
       "      <th>瀏覽量_Sum</th>\n",
       "      <th>文章標題</th>\n",
       "      <th>文章來源</th>\n",
       "      <th>文章屬性</th>\n",
       "      <th>名人專區</th>\n",
       "      <th>撰文</th>\n",
       "      <th>文章字數</th>\n",
       "      <th>上稿者</th>\n",
       "      <th>最後修改者</th>\n",
       "      <th>文章發布</th>\n",
       "    </tr>\n",
       "  </thead>\n",
       "  <tbody>\n",
       "    <tr>\n",
       "      <th>0</th>\n",
       "      <td>202305250031.0</td>\n",
       "      <td>1835894.0</td>\n",
       "      <td>明年過年放7天！2024年行事曆公布…3天以上連續假期有4個「開始排休囉」</td>\n",
       "      <td>數位部記者</td>\n",
       "      <td>政治社會</td>\n",
       "      <td>NaN</td>\n",
       "      <td>李易紓整理</td>\n",
       "      <td>1343.0</td>\n",
       "      <td>李易紓</td>\n",
       "      <td>李易紓</td>\n",
       "      <td>2023-06-20</td>\n",
       "    </tr>\n",
       "    <tr>\n",
       "      <th>1</th>\n",
       "      <td>202305250031.0</td>\n",
       "      <td>1835894.0</td>\n",
       "      <td>明年過年放7天！2024年行事曆公布…3天以上連續假期有4個「開始排休囉」</td>\n",
       "      <td>數位部記者</td>\n",
       "      <td>政治社會</td>\n",
       "      <td>NaN</td>\n",
       "      <td>李易紓整理</td>\n",
       "      <td>1324.0</td>\n",
       "      <td>李易紓</td>\n",
       "      <td>李易紓</td>\n",
       "      <td>2023-06-20</td>\n",
       "    </tr>\n",
       "    <tr>\n",
       "      <th>2</th>\n",
       "      <td>202309020003.0</td>\n",
       "      <td>935926.0</td>\n",
       "      <td>全台停班停課一覽》海葵何時最接近、基北北桃放不放颱風假？哪天風雨最大？一圖看懂影響時程</td>\n",
       "      <td>數位部記者</td>\n",
       "      <td>生活消費</td>\n",
       "      <td>NaN</td>\n",
       "      <td>黃明惠 整理</td>\n",
       "      <td>3562.0</td>\n",
       "      <td>黃明惠</td>\n",
       "      <td>李易紓</td>\n",
       "      <td>2023-09-04</td>\n",
       "    </tr>\n",
       "    <tr>\n",
       "      <th>3</th>\n",
       "      <td>202208240059.0</td>\n",
       "      <td>719167.0</td>\n",
       "      <td>台大法律系高材生頂撞賣臭豆腐的父母：阿母的沉默讓我羞愧「以為辯贏了，其實輸得徹底」</td>\n",
       "      <td>外稿/書摘/廣編（無稿費不可轉載)</td>\n",
       "      <td>家庭教育</td>\n",
       "      <td>精選書摘</td>\n",
       "      <td>許峰源</td>\n",
       "      <td>2485.0</td>\n",
       "      <td>洪慧如</td>\n",
       "      <td>郭美懿</td>\n",
       "      <td>2022/11/16</td>\n",
       "    </tr>\n",
       "    <tr>\n",
       "      <th>4</th>\n",
       "      <td>202208240059.0</td>\n",
       "      <td>719167.0</td>\n",
       "      <td>台大法律系高材生頂撞賣臭豆腐的父母：阿母的沉默讓我羞愧「以為辯贏了，其實輸得徹底」</td>\n",
       "      <td>外稿/書摘/廣編（無稿費不可轉載)</td>\n",
       "      <td>家庭教育</td>\n",
       "      <td>精選書摘</td>\n",
       "      <td>許峰源</td>\n",
       "      <td>2485.0</td>\n",
       "      <td>洪慧如</td>\n",
       "      <td>郭美懿</td>\n",
       "      <td>2022-11-16</td>\n",
       "    </tr>\n",
       "  </tbody>\n",
       "</table>\n",
       "</div>"
      ],
      "text/plain": [
       "             文章ID    瀏覽量_Sum                                         文章標題  \\\n",
       "0  202305250031.0  1835894.0        明年過年放7天！2024年行事曆公布…3天以上連續假期有4個「開始排休囉」   \n",
       "1  202305250031.0  1835894.0        明年過年放7天！2024年行事曆公布…3天以上連續假期有4個「開始排休囉」   \n",
       "2  202309020003.0   935926.0  全台停班停課一覽》海葵何時最接近、基北北桃放不放颱風假？哪天風雨最大？一圖看懂影響時程   \n",
       "3  202208240059.0   719167.0    台大法律系高材生頂撞賣臭豆腐的父母：阿母的沉默讓我羞愧「以為辯贏了，其實輸得徹底」   \n",
       "4  202208240059.0   719167.0    台大法律系高材生頂撞賣臭豆腐的父母：阿母的沉默讓我羞愧「以為辯贏了，其實輸得徹底」   \n",
       "\n",
       "                文章來源  文章屬性  名人專區      撰文    文章字數  上稿者 最後修改者        文章發布  \n",
       "0              數位部記者  政治社會   NaN   李易紓整理  1343.0  李易紓   李易紓  2023-06-20  \n",
       "1              數位部記者  政治社會   NaN   李易紓整理  1324.0  李易紓   李易紓  2023-06-20  \n",
       "2              數位部記者  生活消費   NaN  黃明惠 整理  3562.0  黃明惠   李易紓  2023-09-04  \n",
       "3  外稿/書摘/廣編（無稿費不可轉載)  家庭教育  精選書摘     許峰源  2485.0  洪慧如   郭美懿  2022/11/16  \n",
       "4  外稿/書摘/廣編（無稿費不可轉載)  家庭教育  精選書摘     許峰源  2485.0  洪慧如   郭美懿  2022-11-16  "
      ]
     },
     "execution_count": 12,
     "metadata": {},
     "output_type": "execute_result"
    }
   ],
   "source": [
    "summeries = {'瀏覽量': 'sum'}\n",
    "\n",
    "df_all_sum = df_all.groupby(by = column_names).agg(summeries)\n",
    "\n",
    "df_all_sum = df_all_sum.sort_values(\"瀏覽量\", ascending = False).reset_index()\n",
    "\n",
    "df_all_sum = df_all_sum.rename(columns={\"瀏覽量\": \"瀏覽量_Sum\"})\n",
    "\n",
    "df_all_sum_all = pd.merge(df_all_sum, df_unique, how = 'inner')\n",
    "# print(df_all_sum)\n",
    "\n",
    "df_all_sum_all.head()\n"
   ]
  },
  {
   "cell_type": "code",
   "execution_count": 13,
   "id": "cee4f974",
   "metadata": {},
   "outputs": [
    {
     "name": "stdout",
     "output_type": "stream",
     "text": [
      "                 文章ID    瀏覽量_Sum  \\\n",
      "0      202305250031.0  1835894.0   \n",
      "1      202309020003.0   935926.0   \n",
      "2      202208240059.0   719167.0   \n",
      "3      202306200007.0   636319.0   \n",
      "4      202312050037.0   609553.0   \n",
      "...               ...        ...   \n",
      "29665  199907290006.0       36.0   \n",
      "29666  202206200016.0       36.0   \n",
      "29667  201802220010.0       36.0   \n",
      "29668  201607280003.0       26.0   \n",
      "29669             nan        0.0   \n",
      "\n",
      "                                                    文章標題               文章來源  \\\n",
      "0                  明年過年放7天！2024年行事曆公布…3天以上連續假期有4個「開始排休囉」              數位部記者   \n",
      "1            全台停班停課一覽》海葵何時最接近、基北北桃放不放颱風假？哪天風雨最大？一圖看懂影響時程              數位部記者   \n",
      "2              台大法律系高材生頂撞賣臭豆腐的父母：阿母的沉默讓我羞愧「以為辯贏了，其實輸得徹底」  外稿/書摘/廣編（無稿費不可轉載)   \n",
      "3         黃子佼當年最愛她》5歲出道、曾月刷20萬險變卡奴，30歲存千萬買房孝親！48歲蔡燦得的致富術  外稿/書摘/廣編（無稿費不可轉載)   \n",
      "4       「太太輕生掛在16樓高空」前科技部長陳良基辭官退休，陪妻度過憂鬱症：結婚發誓照顧到老，說話要算數  外稿/書摘/廣編（無稿費不可轉載)   \n",
      "...                                                  ...                ...   \n",
      "29665                               玫琳凱十五分鐘解雇最高女主管 P.114                NaN   \n",
      "29666  台積電一度殺至495元，台股再探底機率高！「億元教授」鄭廳宜4指標判斷空頭，何時進場才是賺錢...              數位部記者   \n",
      "29667                                        認識有趣的美國派對文化                NaN   \n",
      "29668                                   金融科技浪潮下 誰能抓住客戶的心           今周/特刊/叢書   \n",
      "29669                                                NaN                NaN   \n",
      "\n",
      "       文章屬性                     名人專區               撰文    文章字數  上稿者 最後修改者  \\\n",
      "0      政治社會                      NaN            李易紓整理  1324.0  李易紓   李易紓   \n",
      "1      生活消費                      NaN           黃明惠 整理  3562.0  黃明惠   李易紓   \n",
      "2      家庭教育                     精選書摘              許峰源  2485.0  洪慧如   郭美懿   \n",
      "3      投資理財                     各家之言      女人我最大 / 池宗玲  1151.0  洪慧如   李易紓   \n",
      "4      職場學習                     精選書摘        王素梅, 陳良基   2944.0  洪慧如   洪慧如   \n",
      "...     ...                      ...              ...     ...  ...   ...   \n",
      "29665   NaN                      NaN              賴寧寧  2149.0  NaN   NaN   \n",
      "29666  投資理財                      NaN              林信男  1806.0  林信男   林信男   \n",
      "29667   NaN  EF English Live線上英文學習專區   EF English Liv  1777.0  NaN    游欣   \n",
      "29668  金融保險                      NaN  撰文/歐陽善玲、梁任瑋　研究員  5075.0  NaN   黃冠華   \n",
      "29669   NaN                      NaN              NaN     NaN  NaN   NaN   \n",
      "\n",
      "             文章發布  \n",
      "0      2023-06-20  \n",
      "1      2023-09-04  \n",
      "2      2022-11-16  \n",
      "3      2023-06-20  \n",
      "4      2023-12-05  \n",
      "...           ...  \n",
      "29665   1999/7/29  \n",
      "29666   2022/6/20  \n",
      "29667  2018-02-22  \n",
      "29668  2016-07-28  \n",
      "29669         NaN  \n",
      "\n",
      "[29670 rows x 11 columns]\n"
     ]
    }
   ],
   "source": [
    "df_all_sum_all = df_all_sum_all.drop_duplicates(subset=['文章ID'], keep='last').reset_index(drop = True)\n",
    "\n",
    "print(df_all_sum_all)"
   ]
  },
  {
   "cell_type": "code",
   "execution_count": 18,
   "id": "85e8f75b",
   "metadata": {},
   "outputs": [],
   "source": [
    "df_all_sum_all.to_csv(f\"GA報表_PV_sum_all_{file_name}.csv\", index = False, encoding = 'utf-8-sig')"
   ]
  },
  {
   "cell_type": "code",
   "execution_count": 15,
   "id": "71344f4e",
   "metadata": {},
   "outputs": [
    {
     "data": {
      "text/plain": [
       "29670"
      ]
     },
     "execution_count": 15,
     "metadata": {},
     "output_type": "execute_result"
    }
   ],
   "source": [
    "len(df_all_sum_all)"
   ]
  },
  {
   "cell_type": "code",
   "execution_count": 16,
   "id": "db3b3288",
   "metadata": {},
   "outputs": [
    {
     "data": {
      "text/plain": [
       "29670"
      ]
     },
     "execution_count": 16,
     "metadata": {},
     "output_type": "execute_result"
    }
   ],
   "source": [
    "len(df_all_sum_all['文章ID'].unique())"
   ]
  },
  {
   "cell_type": "code",
   "execution_count": null,
   "id": "c00c5e01",
   "metadata": {},
   "outputs": [],
   "source": []
  }
 ],
 "metadata": {
  "kernelspec": {
   "display_name": "Python 3 (ipykernel)",
   "language": "python",
   "name": "python3"
  },
  "language_info": {
   "codemirror_mode": {
    "name": "ipython",
    "version": 3
   },
   "file_extension": ".py",
   "mimetype": "text/x-python",
   "name": "python",
   "nbconvert_exporter": "python",
   "pygments_lexer": "ipython3",
   "version": "3.10.9"
  }
 },
 "nbformat": 4,
 "nbformat_minor": 5
}
