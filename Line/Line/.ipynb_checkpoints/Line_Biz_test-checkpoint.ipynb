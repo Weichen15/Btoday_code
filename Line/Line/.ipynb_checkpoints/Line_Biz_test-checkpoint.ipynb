{
 "cells": [
  {
   "cell_type": "code",
   "execution_count": 1,
   "id": "cfd8c2c6",
   "metadata": {},
   "outputs": [],
   "source": [
    "from selenium import webdriver\n",
    "import time\n",
    "import os\n",
    "import pandas as pd\n",
    "\n",
    "import numpy as np\n",
    " "
   ]
  },
  {
   "cell_type": "code",
   "execution_count": 2,
   "id": "aff051b9",
   "metadata": {},
   "outputs": [],
   "source": [
    "web = \"https://account.line.biz/login?redirectUri=https%3A%2F%2Fmanager.line.biz%2Faccount%2F%40spt0646e%2Finsight%2Ffriends%3Ftab%3Dattribute\"\n",
    "\n",
    "path = 'C:/Users/JoeJian/OneDrive - Business Today Magazine/桌面/Python Codes/Web_Scraping_in_Python_BeautifulSoup_Selenium&Scrapy_2023/ChromeDriver/chromedriver'\n",
    "\n",
    "driver = webdriver.Chrome(path)\n",
    "\n",
    "driver.get(web)\n",
    "\n",
    "driver.maximize_window()"
   ]
  },
  {
   "cell_type": "code",
   "execution_count": 3,
   "id": "c81ceaf1",
   "metadata": {},
   "outputs": [],
   "source": [
    "# my_email = input(\"Please enter email:\")\n",
    "my_email = 'chienwei1521@gmail.com'"
   ]
  },
  {
   "cell_type": "code",
   "execution_count": 4,
   "id": "51c0a5ff",
   "metadata": {},
   "outputs": [],
   "source": [
    "# my_password = input(\"Please password\")\n",
    "my_password = 'chienwei15'"
   ]
  },
  {
   "cell_type": "code",
   "execution_count": 5,
   "id": "4aeecea0",
   "metadata": {},
   "outputs": [],
   "source": [
    "# Login Line Biz, nedd cellphone double confirm\n",
    "time.sleep(5)\n",
    "\n",
    "login_button_1 = driver.find_element_by_xpath(\"//input[@type='submit']\")\n",
    "login_button_1.click()\n",
    "\n",
    "# username\n",
    "time.sleep(2)\n",
    "login_email = driver.find_element_by_xpath(\"//input[@name='tid']\")\n",
    "login_email.send_keys(my_email)\n",
    "\n",
    "time.sleep(2)\n",
    "login_pwd = driver.find_element_by_xpath(\"//input[@name='tpasswd']\")\n",
    "login_pwd.send_keys(my_password)\n",
    "\n",
    "time.sleep(2)\n",
    "login_button_2 = driver.find_element_by_xpath(\"//button[@type='submit']\")\n",
    "login_button_2.click()\n",
    "\n"
   ]
  },
  {
   "cell_type": "code",
   "execution_count": 6,
   "id": "d1b69d85",
   "metadata": {},
   "outputs": [],
   "source": [
    "# switch to broadcast pages\n",
    "\n",
    "broadcast_button = driver.find_elements_by_xpath(\"//li[@class='nav-item']/a\")[3]\n",
    "# list中第三個是broadcast的連結\n",
    "    \n",
    "broadcast_button.click()\n"
   ]
  },
  {
   "cell_type": "code",
   "execution_count": 7,
   "id": "5a4d0880",
   "metadata": {},
   "outputs": [
    {
     "name": "stdout",
     "output_type": "stream",
     "text": [
      "Please enter date(YYYY/MM/DD-YYYY/MM/DD): 2024/01/17_2024/01/17\n"
     ]
    }
   ],
   "source": [
    "search_date = input(\"Please enter date(YYYY/MM/DD-YYYY/MM/DD): \" )"
   ]
  },
  {
   "cell_type": "code",
   "execution_count": 8,
   "id": "3aeb7751",
   "metadata": {},
   "outputs": [],
   "source": [
    "# select date\n",
    "\n",
    "date_input = driver.find_element_by_name(\"datepicker\")\n",
    "date_input.send_keys(search_date)\n"
   ]
  },
  {
   "cell_type": "code",
   "execution_count": 9,
   "id": "be06e9e0",
   "metadata": {},
   "outputs": [],
   "source": [
    "# enter search button\n",
    "\n",
    "search_button = driver.find_element_by_xpath(\"//button[@class='btn btn-primary ml-2']\")\n",
    "search_button.click()\n"
   ]
  },
  {
   "cell_type": "code",
   "execution_count": null,
   "id": "b5be4a37",
   "metadata": {},
   "outputs": [],
   "source": []
  },
  {
   "cell_type": "code",
   "execution_count": 10,
   "id": "9d9ee7e0",
   "metadata": {},
   "outputs": [],
   "source": [
    "\n"
   ]
  },
  {
   "cell_type": "code",
   "execution_count": 11,
   "id": "80df6685",
   "metadata": {},
   "outputs": [
    {
     "name": "stdout",
     "output_type": "stream",
     "text": [
      "['', '', '', '', '', '', '', '', '', '', '', '', '', '', '', '']\n"
     ]
    }
   ],
   "source": [
    "## OLD VERSION\n",
    "# message_all_id = driver.find_elements_by_xpath(\"//tr[@class='cursor-pointer']/td\")\n",
    "\n",
    "# lst_message_id = []\n",
    "# for message in message_all_id:\n",
    "#     message_id = message.get_attribute('id')\n",
    "#     lst_message_id.append(message_id)\n",
    "\n",
    "# print(lst_message_id)"
   ]
  },
  {
   "cell_type": "code",
   "execution_count": 12,
   "id": "ecd15b3d",
   "metadata": {
    "scrolled": true
   },
   "outputs": [
    {
     "name": "stdout",
     "output_type": "stream",
     "text": [
      "['ddown_452483560', 'ddown_452395823']\n"
     ]
    }
   ],
   "source": [
    "message_all_id = driver.find_elements_by_xpath(\"//tr[@class='cursor-pointer']/td/div\")\n",
    "\n",
    "message_id_num = 1\n",
    "lst_message_id = []\n",
    "for message in message_all_id:\n",
    "    \n",
    "    if message_id_num % 3 == 0:\n",
    "        message_id = message.get_attribute('id')\n",
    "#         print(message, message_id)\n",
    "        lst_message_id.append(message_id)\n",
    "        \n",
    "    message_id_num += 1\n",
    "\n",
    "print(lst_message_id)"
   ]
  },
  {
   "cell_type": "code",
   "execution_count": 13,
   "id": "ae3ff2d8",
   "metadata": {},
   "outputs": [],
   "source": [
    "def unique_list(list1):\n",
    "    # insert the list to the set\n",
    "    list_set = set(list1)\n",
    "    # convert the set to the list\n",
    "    unique_list = (list(list_set))\n",
    "    unique_list = [x for x in unique_list if str(x) != '']\n",
    "    unique_list.sort()\n",
    "    return unique_list\n",
    "\n",
    "lst_message_unique_id = unique_list(lst_message_id)"
   ]
  },
  {
   "cell_type": "code",
   "execution_count": 14,
   "id": "f3f5c0f3",
   "metadata": {
    "scrolled": true
   },
   "outputs": [
    {
     "data": {
      "text/plain": [
       "['ddown_452395823', 'ddown_452483560']"
      ]
     },
     "execution_count": 14,
     "metadata": {},
     "output_type": "execute_result"
    }
   ],
   "source": [
    "lst_message_unique_id"
   ]
  },
  {
   "cell_type": "code",
   "execution_count": 15,
   "id": "c7370a6d",
   "metadata": {},
   "outputs": [
    {
     "name": "stdout",
     "output_type": "stream",
     "text": [
      "ddown_452395823\n"
     ]
    },
    {
     "data": {
      "text/html": [
       "<div>\n",
       "<style scoped>\n",
       "    .dataframe tbody tr th:only-of-type {\n",
       "        vertical-align: middle;\n",
       "    }\n",
       "\n",
       "    .dataframe tbody tr th {\n",
       "        vertical-align: top;\n",
       "    }\n",
       "\n",
       "    .dataframe thead th {\n",
       "        text-align: right;\n",
       "    }\n",
       "</style>\n",
       "<table border=\"1\" class=\"dataframe\">\n",
       "  <thead>\n",
       "    <tr style=\"text-align: right;\">\n",
       "      <th></th>\n",
       "      <th>id</th>\n",
       "      <th>發文日期</th>\n",
       "      <th>發文時間</th>\n",
       "      <th>已傳送數</th>\n",
       "      <th>已開封</th>\n",
       "      <th>點擊的用戶</th>\n",
       "    </tr>\n",
       "  </thead>\n",
       "  <tbody>\n",
       "  </tbody>\n",
       "</table>\n",
       "</div>"
      ],
      "text/plain": [
       "Empty DataFrame\n",
       "Columns: [id, 發文日期, 發文時間, 已傳送數, 已開封, 點擊的用戶]\n",
       "Index: []"
      ]
     },
     "execution_count": 15,
     "metadata": {},
     "output_type": "execute_result"
    }
   ],
   "source": [
    "# get message date and time\n",
    "\n",
    "test_id = lst_message_unique_id[0]\n",
    "# test_id = lst_message_unique_id[1]\n",
    "\n",
    "print(test_id)\n",
    "\n",
    "menu_post_area = driver.find_elements_by_xpath(f\"//td[@id='{test_id}']\")\n",
    "\n",
    "lst_post_date = []\n",
    "lst_post_time = []\n",
    "lst_delivery_tol = []\n",
    "lst_open_msg = []\n",
    "lst_user_click_cnt = []\n",
    "\n",
    "for i in range(len(menu_post_area)):\n",
    "#     print(\"i\", i)\n",
    "#     print(menu_post_area[i].text)\n",
    "    if i == 0:\n",
    "        date_time_temp = menu_post_area[i].text\n",
    "        date_time_temp = date_time_temp.split('\\n')\n",
    "        lst_post_date.append(date_time_temp[0])\n",
    "        lst_post_time.append(date_time_temp[1])\n",
    "        \n",
    "    elif i == 2:\n",
    "        lst_delivery_tol.append(menu_post_area[i].text)\n",
    "    \n",
    "    elif i == 3:\n",
    "        lst_open_msg.append(menu_post_area[i].text)\n",
    "    \n",
    "    elif i == 4:\n",
    "        lst_user_click_cnt.append(menu_post_area[i].text)\n",
    "\n",
    "\n",
    "# date_time = driver.find_element_by_id(test_id).text\n",
    "\n",
    "# date_time = date_time.split('\\n')\n",
    "\n",
    "# post_date = date_time[0]\n",
    "# post_time = date_time[1]\n",
    "\n",
    "df_post_status_temp = pd.DataFrame({'id': test_id\n",
    "                                    ,'發文日期': lst_post_date\n",
    "                                    ,'發文時間': lst_post_time\n",
    "                                    ,'已傳送數': lst_delivery_tol\n",
    "                                    ,'已開封': lst_open_msg\n",
    "                                    ,'點擊的用戶': lst_user_click_cnt})\n",
    "  \n",
    "df_post_status_temp\n"
   ]
  },
  {
   "cell_type": "code",
   "execution_count": null,
   "id": "13cfeb39",
   "metadata": {},
   "outputs": [],
   "source": []
  },
  {
   "cell_type": "code",
   "execution_count": 15,
   "id": "8c7f31cf",
   "metadata": {},
   "outputs": [],
   "source": [
    "# driver.find_elements_by_xpath(f\"//td[@id='{test_id}']\")"
   ]
  },
  {
   "cell_type": "code",
   "execution_count": null,
   "id": "91083628",
   "metadata": {},
   "outputs": [],
   "source": []
  },
  {
   "cell_type": "code",
   "execution_count": 16,
   "id": "6be225fc",
   "metadata": {},
   "outputs": [],
   "source": [
    "# click into post: First step, click hole area\n",
    "\n",
    "post_area_btn = driver.find_element_by_id(lst_message_unique_id[0]) # 要帶入第幾個id\n",
    "post_area_btn.click()\n",
    "\n"
   ]
  },
  {
   "cell_type": "code",
   "execution_count": 17,
   "id": "87e6d58c",
   "metadata": {},
   "outputs": [],
   "source": [
    "# click into post: Second step, click \"顯示詳情\"\n",
    "\n",
    "show_detail_btn_all = driver.find_elements_by_xpath(\"//button[@class='mb-1 mt-2 btn btn-primary']\")\n",
    "# print(show_detail_btn_all[len(lst_message_unique_id)-1])\n",
    "show_detail_btn = show_detail_btn_all[len(lst_message_unique_id)-1] # 這邊也要調整\n",
    "# show_detail_btn = show_detail_btn_all[len(lst_message_unique_id)-2]\n",
    "show_detail_btn.click()"
   ]
  },
  {
   "cell_type": "code",
   "execution_count": 18,
   "id": "59f4a87a",
   "metadata": {},
   "outputs": [],
   "source": [
    "# click \"顯示更多\"\n",
    "\n",
    "show_all_txt_btn = driver.find_element_by_xpath(\"//a[@class='hljs-link text-primary']\")\n",
    "\n",
    "show_all_txt_btn.click()\n"
   ]
  },
  {
   "cell_type": "code",
   "execution_count": null,
   "id": "9c49daa1",
   "metadata": {},
   "outputs": [],
   "source": []
  },
  {
   "cell_type": "code",
   "execution_count": 21,
   "id": "10706828",
   "metadata": {},
   "outputs": [
    {
     "data": {
      "text/html": [
       "<div>\n",
       "<style scoped>\n",
       "    .dataframe tbody tr th:only-of-type {\n",
       "        vertical-align: middle;\n",
       "    }\n",
       "\n",
       "    .dataframe tbody tr th {\n",
       "        vertical-align: top;\n",
       "    }\n",
       "\n",
       "    .dataframe thead th {\n",
       "        text-align: right;\n",
       "    }\n",
       "</style>\n",
       "<table border=\"1\" class=\"dataframe\">\n",
       "  <thead>\n",
       "    <tr style=\"text-align: right;\">\n",
       "      <th></th>\n",
       "      <th>網站標題</th>\n",
       "      <th>連結網址</th>\n",
       "      <th>發文類型</th>\n",
       "    </tr>\n",
       "  </thead>\n",
       "  <tbody>\n",
       "    <tr>\n",
       "      <th>0</th>\n",
       "      <td>小五女童第5名被罰跪鞭20下，只因少一分打一下…父母發聲：不是重成績而是態度，家不用規矩？</td>\n",
       "      <td>https://bit.ly/3NzAUG0</td>\n",
       "      <td>文1</td>\n",
       "    </tr>\n",
       "    <tr>\n",
       "      <th>1</th>\n",
       "      <td>網紅醫甩2兒100巴掌後，暫停臨床職務…禾馨創辦人蘇怡寧：不想未審先判、但家暴須譴責！</td>\n",
       "      <td>https://bit.ly/3puZ64k</td>\n",
       "      <td>文2</td>\n",
       "    </tr>\n",
       "    <tr>\n",
       "      <th>2</th>\n",
       "      <td>兒科醫家暴小孩搧50幾個巴掌「都是為你好」...呂秋遠：為什麼許多父母會覺得，打孩子是必要之惡？</td>\n",
       "      <td>https://bit.ly/43hfGmk</td>\n",
       "      <td>文3</td>\n",
       "    </tr>\n",
       "    <tr>\n",
       "      <th>3</th>\n",
       "      <td>過馬路發呆、滑手機，車還是得讓！交長王國材：停讓政策不變，違規行人可罰XXX元</td>\n",
       "      <td>https://bit.ly/3Nz6hAI</td>\n",
       "      <td>文4</td>\n",
       "    </tr>\n",
       "    <tr>\n",
       "      <th>4</th>\n",
       "      <td>台股上半年風光攻抵萬七，漲多拉回要修正了？一張表看懂下半年走勢</td>\n",
       "      <td>https://bit.ly/3CUbOwC</td>\n",
       "      <td>文5</td>\n",
       "    </tr>\n",
       "    <tr>\n",
       "      <th>5</th>\n",
       "      <td>星巴克買一送一限時9小時就是今天！有星冰樂？這門市連31天第2杯半價…7月飲品優惠還有這些</td>\n",
       "      <td>https://bit.ly/3NEyJkm</td>\n",
       "      <td>文6</td>\n",
       "    </tr>\n",
       "    <tr>\n",
       "      <th>6</th>\n",
       "      <td>全球經濟正走出大規模政策干預期，具國際市場指標性的PIMCO此次提出「餘震下的經濟」</td>\n",
       "      <td>https://pse.is/53huee</td>\n",
       "      <td>文7</td>\n",
       "    </tr>\n",
       "  </tbody>\n",
       "</table>\n",
       "</div>"
      ],
      "text/plain": [
       "                                                網站標題                    連結網址  \\\n",
       "0     小五女童第5名被罰跪鞭20下，只因少一分打一下…父母發聲：不是重成績而是態度，家不用規矩？  https://bit.ly/3NzAUG0   \n",
       "1       網紅醫甩2兒100巴掌後，暫停臨床職務…禾馨創辦人蘇怡寧：不想未審先判、但家暴須譴責！  https://bit.ly/3puZ64k   \n",
       "2  兒科醫家暴小孩搧50幾個巴掌「都是為你好」...呂秋遠：為什麼許多父母會覺得，打孩子是必要之惡？  https://bit.ly/43hfGmk   \n",
       "3           過馬路發呆、滑手機，車還是得讓！交長王國材：停讓政策不變，違規行人可罰XXX元  https://bit.ly/3Nz6hAI   \n",
       "4                   台股上半年風光攻抵萬七，漲多拉回要修正了？一張表看懂下半年走勢  https://bit.ly/3CUbOwC   \n",
       "5     星巴克買一送一限時9小時就是今天！有星冰樂？這門市連31天第2杯半價…7月飲品優惠還有這些  https://bit.ly/3NEyJkm   \n",
       "6        全球經濟正走出大規模政策干預期，具國際市場指標性的PIMCO此次提出「餘震下的經濟」   https://pse.is/53huee   \n",
       "\n",
       "  發文類型  \n",
       "0   文1  \n",
       "1   文2  \n",
       "2   文3  \n",
       "3   文4  \n",
       "4   文5  \n",
       "5   文6  \n",
       "6   文7  "
      ]
     },
     "execution_count": 21,
     "metadata": {},
     "output_type": "execute_result"
    }
   ],
   "source": [
    "# block 2 \"曝光\"\n",
    "\n",
    "content_all_ori = driver.find_element_by_xpath(\"//div[@class='d-flex flex-row justify-content-center']\").text\n",
    "\n",
    "content_all_ori = content_all_ori.split('\\n\\n')\n",
    "content_i = 0\n",
    "content_all = []\n",
    "\n",
    "lst_content_title = []\n",
    "lst_content_link = []\n",
    "lst_post_class = []\n",
    "\n",
    "for content_i in range(len(content_all_ori)):\n",
    "    content_temp = content_all_ori[content_i].split('\\n')\n",
    "    content_temp[0] = content_temp[0].replace(u'\\u3000', ' ')\n",
    "    lst_content_title.append(content_temp[0])\n",
    "    lst_content_link.append(content_temp[1])\n",
    "    lst_post_class.append(f\"文{content_i+1}\")\n",
    "\n",
    "\n",
    "df_content_temp = pd.DataFrame({'網站標題': lst_content_title\n",
    "                               ,'連結網址': lst_content_link\n",
    "                               ,'發文類型': lst_post_class})\n",
    "\n",
    "df_content_temp"
   ]
  },
  {
   "cell_type": "code",
   "execution_count": 22,
   "id": "0091fc89",
   "metadata": {},
   "outputs": [],
   "source": [
    "# block 3\n",
    "\n",
    "tbody_all = driver.find_elements_by_xpath(\"//tbody[@class='text-center']\")\n",
    "tbody_link_data_all = tbody_all[2].text\n",
    "tbody_link_data_all = tbody_link_data_all.split('\\n')\n",
    "\n",
    "lst_short_link = []\n",
    "lst_show_order = []\n",
    "lst_impression = []\n",
    "lst_click = []\n",
    "lst_click_rate = []\n",
    "lst_click_user = []\n",
    "\n",
    "for i in range(len(tbody_link_data_all)):\n",
    "    if i % 2 == 0:\n",
    "        lst_short_link.append(tbody_link_data_all[i])\n",
    "    else:\n",
    "        lst_temp_data = tbody_link_data_all[i].split(' ')\n",
    "#         print(temp_data)\n",
    "#         for j in range(len(temp_data)):\n",
    "        lst_show_order.append(lst_temp_data[0])\n",
    "        lst_impression.append(lst_temp_data[1])\n",
    "        lst_click.append(lst_temp_data[2])\n",
    "        lst_click_rate.append(lst_temp_data[3])\n",
    "        lst_click_user.append(lst_temp_data[4])\n",
    "\n",
    "# tbody_click_link.split('\\n')[1].split(' ')\n"
   ]
  },
  {
   "cell_type": "code",
   "execution_count": 23,
   "id": "fd4bc4c6",
   "metadata": {},
   "outputs": [
    {
     "name": "stdout",
     "output_type": "stream",
     "text": [
      "['https://bit.ly/3CUbOwC', 'https://bit.ly/3NEyJkm', 'https://bit.ly/3Nz6hAI', 'https://bit.ly/3NzAUG0', 'https://bit.ly/3puZ64k', 'https://bit.ly/43hfGmk', 'https://pse.is/53huee']\n",
      "['1', '1', '1', '1', '1', '1', '1']\n",
      "['12,229', '12,229', '12,229', '12,229', '12,229', '12,229', '12,229']\n",
      "['766', '491', '555', '3,144', '1,538', '786', '150']\n",
      "['6.3%', '4.0%', '4.5%', '25.7%', '12.6%', '6.4%', '1.2%']\n",
      "['743', '487', '555', '3,099', '1,519', '775', '150']\n"
     ]
    },
    {
     "data": {
      "text/html": [
       "<div>\n",
       "<style scoped>\n",
       "    .dataframe tbody tr th:only-of-type {\n",
       "        vertical-align: middle;\n",
       "    }\n",
       "\n",
       "    .dataframe tbody tr th {\n",
       "        vertical-align: top;\n",
       "    }\n",
       "\n",
       "    .dataframe thead th {\n",
       "        text-align: right;\n",
       "    }\n",
       "</style>\n",
       "<table border=\"1\" class=\"dataframe\">\n",
       "  <thead>\n",
       "    <tr style=\"text-align: right;\">\n",
       "      <th></th>\n",
       "      <th>連結網址</th>\n",
       "      <th>顯示順序</th>\n",
       "      <th>曝光</th>\n",
       "      <th>點擊數</th>\n",
       "      <th>點擊率</th>\n",
       "      <th>點擊的用戶</th>\n",
       "    </tr>\n",
       "  </thead>\n",
       "  <tbody>\n",
       "    <tr>\n",
       "      <th>0</th>\n",
       "      <td>https://bit.ly/3CUbOwC</td>\n",
       "      <td>1</td>\n",
       "      <td>12,229</td>\n",
       "      <td>766</td>\n",
       "      <td>6.3%</td>\n",
       "      <td>743</td>\n",
       "    </tr>\n",
       "    <tr>\n",
       "      <th>1</th>\n",
       "      <td>https://bit.ly/3NEyJkm</td>\n",
       "      <td>1</td>\n",
       "      <td>12,229</td>\n",
       "      <td>491</td>\n",
       "      <td>4.0%</td>\n",
       "      <td>487</td>\n",
       "    </tr>\n",
       "    <tr>\n",
       "      <th>2</th>\n",
       "      <td>https://bit.ly/3Nz6hAI</td>\n",
       "      <td>1</td>\n",
       "      <td>12,229</td>\n",
       "      <td>555</td>\n",
       "      <td>4.5%</td>\n",
       "      <td>555</td>\n",
       "    </tr>\n",
       "    <tr>\n",
       "      <th>3</th>\n",
       "      <td>https://bit.ly/3NzAUG0</td>\n",
       "      <td>1</td>\n",
       "      <td>12,229</td>\n",
       "      <td>3,144</td>\n",
       "      <td>25.7%</td>\n",
       "      <td>3,099</td>\n",
       "    </tr>\n",
       "    <tr>\n",
       "      <th>4</th>\n",
       "      <td>https://bit.ly/3puZ64k</td>\n",
       "      <td>1</td>\n",
       "      <td>12,229</td>\n",
       "      <td>1,538</td>\n",
       "      <td>12.6%</td>\n",
       "      <td>1,519</td>\n",
       "    </tr>\n",
       "    <tr>\n",
       "      <th>5</th>\n",
       "      <td>https://bit.ly/43hfGmk</td>\n",
       "      <td>1</td>\n",
       "      <td>12,229</td>\n",
       "      <td>786</td>\n",
       "      <td>6.4%</td>\n",
       "      <td>775</td>\n",
       "    </tr>\n",
       "    <tr>\n",
       "      <th>6</th>\n",
       "      <td>https://pse.is/53huee</td>\n",
       "      <td>1</td>\n",
       "      <td>12,229</td>\n",
       "      <td>150</td>\n",
       "      <td>1.2%</td>\n",
       "      <td>150</td>\n",
       "    </tr>\n",
       "  </tbody>\n",
       "</table>\n",
       "</div>"
      ],
      "text/plain": [
       "                     連結網址 顯示順序      曝光    點擊數    點擊率  點擊的用戶\n",
       "0  https://bit.ly/3CUbOwC    1  12,229    766   6.3%    743\n",
       "1  https://bit.ly/3NEyJkm    1  12,229    491   4.0%    487\n",
       "2  https://bit.ly/3Nz6hAI    1  12,229    555   4.5%    555\n",
       "3  https://bit.ly/3NzAUG0    1  12,229  3,144  25.7%  3,099\n",
       "4  https://bit.ly/3puZ64k    1  12,229  1,538  12.6%  1,519\n",
       "5  https://bit.ly/43hfGmk    1  12,229    786   6.4%    775\n",
       "6   https://pse.is/53huee    1  12,229    150   1.2%    150"
      ]
     },
     "execution_count": 23,
     "metadata": {},
     "output_type": "execute_result"
    }
   ],
   "source": [
    "print(lst_short_link)\n",
    "print(lst_show_order)\n",
    "print(lst_impression)\n",
    "print(lst_click)\n",
    "print(lst_click_rate)\n",
    "print(lst_click_user)\n",
    "\n",
    "df_link_click_temp = pd.DataFrame({'連結網址': lst_short_link\n",
    "                                  ,'顯示順序': lst_show_order\n",
    "                                  ,'曝光': lst_impression\n",
    "                                  ,'點擊數': lst_click\n",
    "                                  ,'點擊率': lst_click_rate\n",
    "                                  ,'點擊的用戶': lst_click_user})\n",
    "\n",
    "df_link_click_temp"
   ]
  },
  {
   "cell_type": "code",
   "execution_count": 24,
   "id": "be0067e4",
   "metadata": {},
   "outputs": [
    {
     "data": {
      "text/html": [
       "<div>\n",
       "<style scoped>\n",
       "    .dataframe tbody tr th:only-of-type {\n",
       "        vertical-align: middle;\n",
       "    }\n",
       "\n",
       "    .dataframe tbody tr th {\n",
       "        vertical-align: top;\n",
       "    }\n",
       "\n",
       "    .dataframe thead th {\n",
       "        text-align: right;\n",
       "    }\n",
       "</style>\n",
       "<table border=\"1\" class=\"dataframe\">\n",
       "  <thead>\n",
       "    <tr style=\"text-align: right;\">\n",
       "      <th></th>\n",
       "      <th>網站標題</th>\n",
       "      <th>連結網址</th>\n",
       "      <th>發文類型</th>\n",
       "      <th>顯示順序</th>\n",
       "      <th>曝光</th>\n",
       "      <th>點擊數</th>\n",
       "      <th>點擊率</th>\n",
       "      <th>點擊的用戶</th>\n",
       "    </tr>\n",
       "  </thead>\n",
       "  <tbody>\n",
       "    <tr>\n",
       "      <th>0</th>\n",
       "      <td>小五女童第5名被罰跪鞭20下，只因少一分打一下…父母發聲：不是重成績而是態度，家不用規矩？</td>\n",
       "      <td>https://bit.ly/3NzAUG0</td>\n",
       "      <td>文1</td>\n",
       "      <td>1</td>\n",
       "      <td>12,229</td>\n",
       "      <td>3,144</td>\n",
       "      <td>25.7%</td>\n",
       "      <td>3,099</td>\n",
       "    </tr>\n",
       "    <tr>\n",
       "      <th>1</th>\n",
       "      <td>網紅醫甩2兒100巴掌後，暫停臨床職務…禾馨創辦人蘇怡寧：不想未審先判、但家暴須譴責！</td>\n",
       "      <td>https://bit.ly/3puZ64k</td>\n",
       "      <td>文2</td>\n",
       "      <td>1</td>\n",
       "      <td>12,229</td>\n",
       "      <td>1,538</td>\n",
       "      <td>12.6%</td>\n",
       "      <td>1,519</td>\n",
       "    </tr>\n",
       "    <tr>\n",
       "      <th>2</th>\n",
       "      <td>兒科醫家暴小孩搧50幾個巴掌「都是為你好」...呂秋遠：為什麼許多父母會覺得，打孩子是必要之惡？</td>\n",
       "      <td>https://bit.ly/43hfGmk</td>\n",
       "      <td>文3</td>\n",
       "      <td>1</td>\n",
       "      <td>12,229</td>\n",
       "      <td>786</td>\n",
       "      <td>6.4%</td>\n",
       "      <td>775</td>\n",
       "    </tr>\n",
       "    <tr>\n",
       "      <th>3</th>\n",
       "      <td>過馬路發呆、滑手機，車還是得讓！交長王國材：停讓政策不變，違規行人可罰XXX元</td>\n",
       "      <td>https://bit.ly/3Nz6hAI</td>\n",
       "      <td>文4</td>\n",
       "      <td>1</td>\n",
       "      <td>12,229</td>\n",
       "      <td>555</td>\n",
       "      <td>4.5%</td>\n",
       "      <td>555</td>\n",
       "    </tr>\n",
       "    <tr>\n",
       "      <th>4</th>\n",
       "      <td>台股上半年風光攻抵萬七，漲多拉回要修正了？一張表看懂下半年走勢</td>\n",
       "      <td>https://bit.ly/3CUbOwC</td>\n",
       "      <td>文5</td>\n",
       "      <td>1</td>\n",
       "      <td>12,229</td>\n",
       "      <td>766</td>\n",
       "      <td>6.3%</td>\n",
       "      <td>743</td>\n",
       "    </tr>\n",
       "    <tr>\n",
       "      <th>5</th>\n",
       "      <td>星巴克買一送一限時9小時就是今天！有星冰樂？這門市連31天第2杯半價…7月飲品優惠還有這些</td>\n",
       "      <td>https://bit.ly/3NEyJkm</td>\n",
       "      <td>文6</td>\n",
       "      <td>1</td>\n",
       "      <td>12,229</td>\n",
       "      <td>491</td>\n",
       "      <td>4.0%</td>\n",
       "      <td>487</td>\n",
       "    </tr>\n",
       "    <tr>\n",
       "      <th>6</th>\n",
       "      <td>全球經濟正走出大規模政策干預期，具國際市場指標性的PIMCO此次提出「餘震下的經濟」</td>\n",
       "      <td>https://pse.is/53huee</td>\n",
       "      <td>文7</td>\n",
       "      <td>1</td>\n",
       "      <td>12,229</td>\n",
       "      <td>150</td>\n",
       "      <td>1.2%</td>\n",
       "      <td>150</td>\n",
       "    </tr>\n",
       "  </tbody>\n",
       "</table>\n",
       "</div>"
      ],
      "text/plain": [
       "                                                網站標題                    連結網址  \\\n",
       "0     小五女童第5名被罰跪鞭20下，只因少一分打一下…父母發聲：不是重成績而是態度，家不用規矩？  https://bit.ly/3NzAUG0   \n",
       "1       網紅醫甩2兒100巴掌後，暫停臨床職務…禾馨創辦人蘇怡寧：不想未審先判、但家暴須譴責！  https://bit.ly/3puZ64k   \n",
       "2  兒科醫家暴小孩搧50幾個巴掌「都是為你好」...呂秋遠：為什麼許多父母會覺得，打孩子是必要之惡？  https://bit.ly/43hfGmk   \n",
       "3           過馬路發呆、滑手機，車還是得讓！交長王國材：停讓政策不變，違規行人可罰XXX元  https://bit.ly/3Nz6hAI   \n",
       "4                   台股上半年風光攻抵萬七，漲多拉回要修正了？一張表看懂下半年走勢  https://bit.ly/3CUbOwC   \n",
       "5     星巴克買一送一限時9小時就是今天！有星冰樂？這門市連31天第2杯半價…7月飲品優惠還有這些  https://bit.ly/3NEyJkm   \n",
       "6        全球經濟正走出大規模政策干預期，具國際市場指標性的PIMCO此次提出「餘震下的經濟」   https://pse.is/53huee   \n",
       "\n",
       "  發文類型 顯示順序      曝光    點擊數    點擊率  點擊的用戶  \n",
       "0   文1    1  12,229  3,144  25.7%  3,099  \n",
       "1   文2    1  12,229  1,538  12.6%  1,519  \n",
       "2   文3    1  12,229    786   6.4%    775  \n",
       "3   文4    1  12,229    555   4.5%    555  \n",
       "4   文5    1  12,229    766   6.3%    743  \n",
       "5   文6    1  12,229    491   4.0%    487  \n",
       "6   文7    1  12,229    150   1.2%    150  "
      ]
     },
     "execution_count": 24,
     "metadata": {},
     "output_type": "execute_result"
    }
   ],
   "source": [
    "df_content_data_all = pd.merge(df_content_temp, df_link_click_temp, how = 'left')\n",
    "\n",
    "df_content_data_all"
   ]
  },
  {
   "cell_type": "code",
   "execution_count": 25,
   "id": "2f43947e",
   "metadata": {},
   "outputs": [],
   "source": [
    "# click 返回一覽\n",
    "\n",
    "back_to_previous_page_btn = driver.find_element_by_xpath(\"//span[@class='text-dark border-dark border-bottom cursor-pointer']\")\n",
    "\n",
    "back_to_previous_page_btn.click()"
   ]
  },
  {
   "cell_type": "code",
   "execution_count": null,
   "id": "93aa7ce8",
   "metadata": {},
   "outputs": [],
   "source": []
  },
  {
   "cell_type": "code",
   "execution_count": null,
   "id": "97e12905",
   "metadata": {},
   "outputs": [],
   "source": []
  },
  {
   "cell_type": "code",
   "execution_count": null,
   "id": "93b0b65e",
   "metadata": {},
   "outputs": [],
   "source": [
    "\n"
   ]
  },
  {
   "cell_type": "code",
   "execution_count": null,
   "id": "85ce38de",
   "metadata": {},
   "outputs": [],
   "source": []
  },
  {
   "cell_type": "code",
   "execution_count": null,
   "id": "afb13814",
   "metadata": {},
   "outputs": [],
   "source": []
  },
  {
   "cell_type": "code",
   "execution_count": 16,
   "id": "78526c1a",
   "metadata": {},
   "outputs": [],
   "source": [
    "driver.quit()"
   ]
  },
  {
   "cell_type": "code",
   "execution_count": null,
   "id": "aeaae4fe",
   "metadata": {},
   "outputs": [],
   "source": []
  }
 ],
 "metadata": {
  "kernelspec": {
   "display_name": "Python 3 (ipykernel)",
   "language": "python",
   "name": "python3"
  },
  "language_info": {
   "codemirror_mode": {
    "name": "ipython",
    "version": 3
   },
   "file_extension": ".py",
   "mimetype": "text/x-python",
   "name": "python",
   "nbconvert_exporter": "python",
   "pygments_lexer": "ipython3",
   "version": "3.10.9"
  }
 },
 "nbformat": 4,
 "nbformat_minor": 5
}
