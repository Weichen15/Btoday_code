{
 "cells": [
  {
   "cell_type": "code",
   "execution_count": 1,
   "id": "5750dd78",
   "metadata": {},
   "outputs": [],
   "source": [
    "from selenium import webdriver\n",
    "import time\n",
    "import os\n",
    "import pandas as pd\n",
    "\n",
    "import numpy as np\n"
   ]
  },
  {
   "cell_type": "code",
   "execution_count": 2,
   "id": "5526c4d2",
   "metadata": {},
   "outputs": [
    {
     "data": {
      "text/html": [
       "<div>\n",
       "<style scoped>\n",
       "    .dataframe tbody tr th:only-of-type {\n",
       "        vertical-align: middle;\n",
       "    }\n",
       "\n",
       "    .dataframe tbody tr th {\n",
       "        vertical-align: top;\n",
       "    }\n",
       "\n",
       "    .dataframe thead th {\n",
       "        text-align: right;\n",
       "    }\n",
       "</style>\n",
       "<table border=\"1\" class=\"dataframe\">\n",
       "  <thead>\n",
       "    <tr style=\"text-align: right;\">\n",
       "      <th></th>\n",
       "      <th>URL</th>\n",
       "    </tr>\n",
       "  </thead>\n",
       "  <tbody>\n",
       "    <tr>\n",
       "      <th>0</th>\n",
       "      <td>https://www.cw.com.tw/index.php/article/512472...</td>\n",
       "    </tr>\n",
       "    <tr>\n",
       "      <th>1</th>\n",
       "      <td>https://www.cw.com.tw/article/5126093</td>\n",
       "    </tr>\n",
       "    <tr>\n",
       "      <th>2</th>\n",
       "      <td>https://www.cw.com.tw/article/5125859</td>\n",
       "    </tr>\n",
       "    <tr>\n",
       "      <th>3</th>\n",
       "      <td>https://www.cw.com.tw/article/5125042</td>\n",
       "    </tr>\n",
       "    <tr>\n",
       "      <th>4</th>\n",
       "      <td>https://www.cw.com.tw/article/5126072</td>\n",
       "    </tr>\n",
       "    <tr>\n",
       "      <th>5</th>\n",
       "      <td>https://www.cw.com.tw/article/5126051</td>\n",
       "    </tr>\n",
       "    <tr>\n",
       "      <th>6</th>\n",
       "      <td>https://www.cw.com.tw/article/5125939</td>\n",
       "    </tr>\n",
       "    <tr>\n",
       "      <th>7</th>\n",
       "      <td>https://www.cw.com.tw/index.php/article/512472...</td>\n",
       "    </tr>\n",
       "    <tr>\n",
       "      <th>8</th>\n",
       "      <td>https://www.cw.com.tw/article/5120877</td>\n",
       "    </tr>\n",
       "    <tr>\n",
       "      <th>9</th>\n",
       "      <td>https://www.cw.com.tw/article/5107284</td>\n",
       "    </tr>\n",
       "  </tbody>\n",
       "</table>\n",
       "</div>"
      ],
      "text/plain": [
       "                                                 URL\n",
       "0  https://www.cw.com.tw/index.php/article/512472...\n",
       "1              https://www.cw.com.tw/article/5126093\n",
       "2              https://www.cw.com.tw/article/5125859\n",
       "3              https://www.cw.com.tw/article/5125042\n",
       "4              https://www.cw.com.tw/article/5126072\n",
       "5              https://www.cw.com.tw/article/5126051\n",
       "6              https://www.cw.com.tw/article/5125939\n",
       "7  https://www.cw.com.tw/index.php/article/512472...\n",
       "8              https://www.cw.com.tw/article/5120877\n",
       "9              https://www.cw.com.tw/article/5107284"
      ]
     },
     "execution_count": 2,
     "metadata": {},
     "output_type": "execute_result"
    }
   ],
   "source": [
    "## 匯入web資料\n",
    "\"\"\"\n",
    "content_id\n",
    "content_title_h1\n",
    "content_title_h2\n",
    "content_class_main\n",
    "content_class_sub\n",
    "content_date_time\n",
    "content_all\n",
    "content_tag\n",
    "\"\"\"\n",
    "\n",
    "df_cw_file = pd.read_csv('SW_CW_KeyWords.csv')\n",
    "\n",
    "df_cw_file"
   ]
  },
  {
   "cell_type": "code",
   "execution_count": 3,
   "id": "a8f54589",
   "metadata": {},
   "outputs": [],
   "source": [
    "# web 之後動態調整，讀取欲抓取網站的url\n",
    "web = \"https://www.cw.com.tw/article/5124860\"\n",
    "\n",
    "web_id = \"5124860\"\n",
    "\n",
    "path = \"C:/Users/JoeJian/OneDrive - Business Today Magazine/桌面/Python Codes/Web_Scraping_in_Python_BeautifulSoup_Selenium&Scrapy_2023/ChromeDriver/chromedriver\"\n",
    "\n",
    "driver = webdriver.Chrome(path)\n",
    "\n",
    "driver.get(web)\n",
    "\n",
    "driver.maximize_window()"
   ]
  },
  {
   "cell_type": "code",
   "execution_count": 4,
   "id": "501b644a",
   "metadata": {},
   "outputs": [],
   "source": [
    "web_id = \"5124860\"\n",
    "\n",
    "content_all_drive = driver.find_element_by_xpath(f\"//article[@data-link={web_id}]\")"
   ]
  },
  {
   "cell_type": "code",
   "execution_count": 5,
   "id": "5e3fa607",
   "metadata": {},
   "outputs": [
    {
     "name": "stdout",
     "output_type": "stream",
     "text": [
      "ChatGPT怎麼玩？ChatGPT應用全攻略\n"
     ]
    }
   ],
   "source": [
    "# 抓取文章大標題\n",
    "\n",
    "content_title_h1 = content_all_drive.find_element_by_xpath(\"./div/div/h1\").text\n",
    "\n",
    "print(content_title_h1)"
   ]
  },
  {
   "cell_type": "code",
   "execution_count": 6,
   "id": "8fcacbe3",
   "metadata": {},
   "outputs": [
    {
     "name": "stdout",
     "output_type": "stream",
     "text": [
      "ChatGPT是什麼？\n",
      "ChatGPT應用的生成式AI（Generative AI）是什麼？\n",
      "ChatGPT怎麼用？\n",
      "ChatGPT為什麼爆紅？\n",
      "ChatGPT限制和缺點\n",
      "ChatGPT是誰做的？\n",
      "ChatGPT之父奧特曼是誰？\n",
      "OpenAI什麼來頭？\n",
      "AI會取代什麼工作？\n",
      "ChatGPT如何改變教育現場？\n",
      "ChatGPT問世，為什麼Google最害怕？\n",
      "AI大戰，最新戰況\n",
      "GPT-4來了！ChatGPT再進化\n",
      "AI競賽，微軟加速推出AI助手Copilot\n"
     ]
    }
   ],
   "source": [
    "# 抓文章次標題\n",
    "# content_title_h2 = \n",
    "h2_title = content_all_drive.find_elements_by_xpath(\"./div/div/h2\")\n",
    "\n",
    "for title in h2_title:\n",
    "    print(title.text)\n"
   ]
  },
  {
   "cell_type": "code",
   "execution_count": 9,
   "id": "037244fb",
   "metadata": {},
   "outputs": [
    {
     "name": "stdout",
     "output_type": "stream",
     "text": [
      "產業\n",
      "科技\n"
     ]
    }
   ],
   "source": [
    "# 抓文章類別\n",
    "# content_class\n",
    "\n",
    "content_class_main = driver.find_element_by_xpath(\"(//ul[@class='breadcrumb list-reset']/li)[1]\").text\n",
    "content_class_sub = driver.find_element_by_xpath(\"(//ul[@class='breadcrumb list-reset']/li)[2]\").text\n",
    "\n",
    "print(content_class_main)\n",
    "print(content_class_sub)\n",
    "\n"
   ]
  },
  {
   "cell_type": "code",
   "execution_count": 10,
   "id": "6a0733d2",
   "metadata": {},
   "outputs": [
    {
     "name": "stdout",
     "output_type": "stream",
     "text": [
      "2023-04-17\n"
     ]
    }
   ],
   "source": [
    "# 文章發布時間\n",
    "\n",
    "# content_date_time\n",
    "\n",
    "content_date_time = driver.find_element_by_tag_name(\"time\").text\n",
    "\n",
    "content_date_time = content_date_time[-10:]\n",
    "\n",
    "print(content_date_time)"
   ]
  },
  {
   "cell_type": "code",
   "execution_count": 13,
   "id": "83f56149",
   "metadata": {},
   "outputs": [
    {
     "name": "stdout",
     "output_type": "stream",
     "text": [
      "ChatGPT是什麼？如何讓全世界瘋狂分享和機器人的對話？又如何讓AI衝擊世界變成肉眼可見？背後創造者是誰？科技公司之間的AI大戰全面開打。一文看懂GhatGPT全解析：\n"
     ]
    }
   ],
   "source": [
    "# --- Begin 前言 ---\n",
    "\n",
    "content_instrunction = driver.find_element_by_xpath(\"//div[@class='preface']\").text\n",
    "print(content_instrunction)\n",
    "    \n",
    "# --- End 前言 ---"
   ]
  },
  {
   "cell_type": "code",
   "execution_count": 11,
   "id": "0eb15245",
   "metadata": {},
   "outputs": [
    {
     "name": "stdout",
     "output_type": "stream",
     "text": [
      "網路上一則則與ChatGPT的對話，過去傳說中的人工智慧，不再是與電腦下棋的高智商，更可以是協助使用者日常的談話對象，喊了許久的AI狂潮瞬間引爆，推動這波狂潮的ChatGPT，背後是誰，用什麼樣的技術？我們的工作、教育會怎麼改變？科技巨頭在AI競賽中，誰位居領先？一文搞懂。\n",
      "ChatGPT是什麼？\n",
      "ChatGPT應用的生成式AI（Generative AI）是什麼？\n",
      "ChatGPT怎麼用？\n",
      "ChatGPT為什麼爆紅？\n",
      "ChatGPT限制和缺點\n",
      "ChatGPT是誰做的？\n",
      "ChatGPT之父奧特曼是誰？\n",
      "OpenAI是什麼樣的公司？\n",
      "AI會取代什麼工作？\n",
      "ChatGPT如何改變教育現場？\n",
      "ChatGPT問世，為什麼Google最害怕？\n",
      "AI大戰，最新戰況\n",
      "GPT-4有什麼進化？\n",
      "微軟加速推出AI助手Copilot\n",
      "ChatGPT是什麼？\n",
      "ChatGPT是一款聊天機器人，它會生成類似人類會寫出來的文字。ChatGPT可以自然地回答眾多問題，可以為使用者整理各種資料，查找答案，但不一定正確。\n",
      "就技術面而言，ChatGPT是「文本生成」的AI家族中，「生成式預訓練轉換器」（Generative Pre-Trained Transformer）技術的最新發展。它採用深度學習（deep learning），根據從網路上獲取的大量文本樣本進行訓練。  \n",
      "ChatGPT應用的生成式AI（Generative AI）是什麼？\n",
      "生成式AI是指能夠生成新穎內容的人工智慧軟體，可以產出文章、程式碼、歌曲和藝術畫作。它借鑒現有的、人造的內容來創造自己的作品，因此目前也有較高的倫理疑慮。\n",
      "廣告\n",
      "OpenAI的聊天機器人ChatGPT、製作圖像的DALL-E和Google的語言模型LaMDA都是生成式AI的代表。\n",
      "ChatGPT怎麼用？\n",
      "使用者們可以透過其官網：https://chat.openai.com，創建帳號體驗。\n",
      "ChatGPT為什麼爆紅？\n",
      "ChatGPT可以流暢地回應各式問題、求解數學方程式、寫作文章（基礎學術文章、文學文本、電影劇本等）、檢查和調整程式碼、翻譯語言、文本摘要和關鍵字檢測、解釋事情（包含解釋一段程式碼的功用）⋯⋯。\n",
      "可以說生活中遇到「語言」與「程式語言」相關的情境，它都能處理得有模有樣，有些時候甚至比真人更專業、博學。\n",
      "根據OpenAI CEO奧特曼，ChatGPT在發布不到一週就突破了100萬用戶。網友們紛紛在自己的社群媒體上分享與ChatGPT對話的截圖，持續造成旋風。\n",
      "ChatGPT限制和缺點\n",
      "目前的機器人都是透過網路上海量資訊來建立回答，所以也可能吸收垃圾資訊，再吐出更多垃圾資訊，專長AI和機器學習的埃默里大學教授薩格（Matthew Sag）提醒，這樣的模型訓練人工智慧去猜測什麼聽起來合理，但不是判斷什麼是真實。\n",
      "廣告\n",
      "可能延續或強化偏見與歧視，甚至擁護仇恨言論如納粹思想。關於這點，Google和Amazon之前都承認，它們的AI存在「道德風險」，還是需要人類介入。\n",
      "ChatGPT是誰做的？\n",
      "ChatGPT由馬斯克（Elon Musk）參與創立的獨立研究機構OpenAI基金會所研發，初衷是為了確保AI最終不會消滅人類。馬斯克後來離開了OpenAI董事會，並與之保持距離。\n",
      "ChatGPT之父奧特曼是誰？\n",
      "母公司OpenAI 創辦人奧特曼（Sam Altman）1985年出生，8歲會寫程式、30歲和馬斯克開公司。他同時也是矽谷知名創投Y Combinator前總裁。\n",
      "和賈伯斯、比爾蓋茲等所有顛覆世界的前輩一樣，奧特曼是名校中輟生，輟學的原因就是去創業。\n",
      "OpenAI什麼來頭？\n",
      "OpenAI在2019年轉為營利公司，遭到不少質疑。\n",
      "廣告\n",
      "成為CEO的奧特曼給出的理由是，他必須加速開發與向大眾發布AI技術，才能與Google等大公司抗衡。而這需要更多的資金和巨量的計算資源——他所說的資源，大部分來自2019年投入10億美元，最近又加碼100億美元的微軟。\n",
      "AI會取代什麼工作？\n",
      "人工智慧的進步，或許不只代表會把任務自動處理掉並替人類節省時間，也可能取代部分工作。\n",
      "美國卡內基梅倫大學（Carnegie Mellon University）電腦科學教授克尼策（Vincent Conitzer）認為風險最高的4類白領工作：\n",
      "1.科技工作（程式設計師、軟體工程師、數據分析師）\n",
      "2.金融工作（金融分析師、個人理專）\n",
      "3.法律工作（法律助理）\n",
      "4.媒體工作（行銷、內容創造、技術寫作、新聞）\n",
      "ChatGPT如何改變教育現場？\n",
      "研究、思考、寫作的教學方式，被徹底顛覆，「我們還沒有做好準備，」曾在倫敦國王學院教授文學的作家馬爾凱（Stephen Marche）指出，「短篇文章，尤其是大學生的課堂論文作業，一直是人文教育的核心，這是我們教孩子們如何研究、思考和寫作的方式，但整個傳統將徹底被顛覆。」\n",
      "廣告\n",
      "紐約市當地公立學校電腦和網路不再開放ChatGPT，因為擔心對學生的負面影響。\n",
      "香港大學日前也發出內部郵件，禁止在港大所有課堂、作業和評估中使用ChatGPT或其他人工智慧工具。\n",
      "台灣並沒有跟進。台灣教授大膽將ChatGPT應用帶進校園。\n",
      "ChatGPT問世，為什麼Google最害怕？\n",
      "ChatGPT最強勁的功能應該是，為我們提供比Google搜尋更理想的解答。\n",
      "Google可能會因此陷入財務災難。Google搜尋功能瀏覽數十億網頁、為內容加上索引，再依據相關程度列出搜尋結果。ChatGPT則為焦躁的網路用戶提供更誘人的搜尋結果：依據自身的研究彙整網頁內容，提供單一解答。讓使用者不需要再去細看其他網站。這就是矽谷生態圈所謂的「無障礙」體驗。\n",
      "AI大戰，最新戰況\n",
      "生成式AI大戰，燒到搜尋引擎這一關，微軟率先結合ChatGPT技術進自家搜尋引擎Bing。\n",
      "廣告\n",
      "Google在隨後巴黎舉行的發布會上，推出迎戰的機器人Bard，結果除了展示的手機莫名其妙失蹤，Bard的回答也明顯出錯。出包的尷尬發布會，股價直接受到華爾街懲罰。\n",
      "但Google不一定會輸，目前看來，各家模型都尚未取得無懈可擊的優勢。原因在於AI知識的散播非常迅速，沒人比其他人快超過2到6個月。\n",
      "GPT-4來了！ChatGPT再進化\n",
      "ChatGPT 「生成式預訓練轉換器」升級到第四代，3月中推出GPT-4，更逼近人類智慧。\n",
      "OpenAI表示，GPT-4在律師資格考試（Uniform Bar Examination, UBE）中可以擊敗90％的考生。在滿分1600分的美國大學入學測驗SAT拿到1300分。\n",
      "GPT-4學會新能力，現在不但可以回應文字，也可以回應圖片。\n",
      "ChatGPT 「生成式預訓練轉換器」升級到第四代，也就是GPT-4，3月中推出，更逼近人類智慧。\n",
      "OpenAI表示，GPT-4在律師資格考試（Uniform Bar Examination, UBE）中可以擊敗90％的考生。在滿分1600分的美國大學入學測驗SAT拿到1300分。\n",
      "更精準，能提供的事實性描述更多了，正確性也加強了，學會新能力，現在不但可以回應文字，也可以回應圖片。摘要能力直逼專業編輯。\n",
      "但因為和GPT-3一樣，是根據2021年9月以前就存在的數據資料所訓練的，所以無法回應時事。\n",
      "AI競賽，微軟加速推出AI助手Copilot\n",
      "微軟將ChatGPT融入Office工具，以OpenAI最新剛發布的GPT-4，跟ChatGPT一樣以對話框的方式，出現在Word、Excel、PowerPoint、Outlook、Teams的工具側邊，使用者可以下指令，只是AI助手Copilot完成相關工作，同時再編輯、強化。\n",
      "例如下指令，「將文件做成簡報檔」、「將簡報做成動畫」、「插入表格」等等，原本枯燥耗時的文書工作，提高生產力。也可以幫忙解讀數據，協助使用者理解趨勢，短時間將數據圖像化。\n"
     ]
    }
   ],
   "source": [
    "# 全文\n",
    "# content_all\n",
    "\n",
    "content_all = content_all_drive.find_element_by_class_name(\"article__content\").text\n",
    "\n",
    "print(content_all)"
   ]
  },
  {
   "cell_type": "code",
   "execution_count": 12,
   "id": "84f3e7bd",
   "metadata": {},
   "outputs": [
    {
     "name": "stdout",
     "output_type": "stream",
     "text": [
      "['ChatGPT', 'AI', 'OpenAI', '生成式AI', '奧特曼']\n"
     ]
    }
   ],
   "source": [
    "# 文章類別\n",
    "\n",
    "# content_tag\n",
    "\n",
    "content_tag = content_all_drive.find_element_by_class_name(\"article__keyword\").text\n",
    "\n",
    "content_tag = content_tag.replace(\"#\",\"\").split(\"\\n\")\n",
    "\n",
    "print(content_tag)"
   ]
  },
  {
   "cell_type": "code",
   "execution_count": null,
   "id": "b063880a",
   "metadata": {},
   "outputs": [],
   "source": []
  }
 ],
 "metadata": {
  "kernelspec": {
   "display_name": "Python 3 (ipykernel)",
   "language": "python",
   "name": "python3"
  },
  "language_info": {
   "codemirror_mode": {
    "name": "ipython",
    "version": 3
   },
   "file_extension": ".py",
   "mimetype": "text/x-python",
   "name": "python",
   "nbconvert_exporter": "python",
   "pygments_lexer": "ipython3",
   "version": "3.10.9"
  }
 },
 "nbformat": 4,
 "nbformat_minor": 5
}
