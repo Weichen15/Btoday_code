{
 "cells": [
  {
   "cell_type": "code",
   "execution_count": 1,
   "id": "f2db07fa",
   "metadata": {},
   "outputs": [],
   "source": [
    "from selenium import webdriver\n",
    "from selenium.webdriver.common.by import By\n",
    "from selenium.webdriver.support.ui import WebDriverWait\n",
    "from selenium.webdriver.support import expected_conditions as EC\n",
    "\n",
    "import time\n",
    "from datetime import datetime, timedelta\n",
    "\n",
    "import pandas as pd\n",
    "\n",
    "import json\n",
    "\n",
    "from urllib.parse import unquote\n",
    "import urllib\n",
    "\n",
    "import requests\n",
    "from bs4 import BeautifulSoup"
   ]
  },
  {
   "cell_type": "code",
   "execution_count": 2,
   "id": "18756aa9",
   "metadata": {},
   "outputs": [],
   "source": [
    "# Link\n",
    "# web_fb = 'https://www.facebook.com/BToday/posts/pfbid02o65LeqRh6uSC1L33CuDVuwSrXqBruHPQyy2HVLgkyk2Zyy9P25UjQ4Dvzirf1xTwl'\n",
    "\n",
    "# web_fb = 'https://www.facebook.com/BToday/posts/pfbid027TRPP5mLnHurb4LFNuimJj15AY9EKZMpsBAXgNBbqbXYinfPyFi6T2sXVpTzCSm8l'\n",
    "\n",
    "# web_fb = 'https://www.facebook.com/BToday/posts/pfbid0JT935KQpCbGuNJBNZuN5Bnzsr4eSemw6fiq9c6D8JL8TsrHhfq7VEvXUZYtmbTTcl'\n",
    "\n",
    "# web_fb = 'https://www.facebook.com/BToday/posts/pfbid04xg3xQLKApjnh6UikchsnrpDW6Gpwy4TmnrQJVHKYZXsd73C2yXxJVcpGUJP3dXcl'\n",
    "\n",
    "# web_fb = 'https://www.facebook.com/BToday/posts/pfbid02vvLw1LBEL37BVLBCne4gYXZWUxuuxJ8KwXwwr5cDdZ1dy4MDSYus6Zp6JUkd9wtsl'\n",
    "\n",
    "web_fb = 'https://www.facebook.com/BToday/posts/pfbid06oNdG7dRhyuBzEHu4f4kFLRJej4EsmxtA8eMkh5gY3mpSJsZ2XV1JM1GU4oBVVSdl'\n",
    "\n",
    "path = 'C:/Users/JoeJian/OneDrive - Business Today Magazine/桌面/Python Codes/Web_Scraping_in_Python_BeautifulSoup_Selenium&Scrapy_2023/ChromeDriver/chromedriver'\n",
    "\n",
    "driver_fb = webdriver.Chrome(path)\n",
    "\n",
    "driver_fb.get(web_fb)\n",
    "\n",
    "driver_fb.maximize_window()\n",
    "\n"
   ]
  },
  {
   "cell_type": "code",
   "execution_count": 3,
   "id": "3070e5ab",
   "metadata": {},
   "outputs": [
    {
     "name": "stdout",
     "output_type": "stream",
     "text": [
      "https://reurl.cc/ka04lb\n"
     ]
    }
   ],
   "source": [
    "# web_bt_all = WebDriverWait(driver_fb, 3).until(EC.presence_of_element_located((By.XPATH, '//div[@class=\"xmjcpbm x1n2onr6\"]')))\n",
    "web_bt = driver_fb.find_element_by_xpath('//div[@class=\"xmjcpbm x1n2onr6\"]/div/a').get_attribute('href')\n",
    "# .get_attribute('href')\n",
    "print(web_bt)\n",
    "\n",
    "# driver_fb.quit()\n"
   ]
  },
  {
   "cell_type": "code",
   "execution_count": 4,
   "id": "ac0c2403",
   "metadata": {},
   "outputs": [],
   "source": [
    "# web_bt = 'https://l.facebook.com/l.php?u=https%3A%2F%2Fbit.ly%2F3ORaNg6&h=AT2kkxDK3jarn9kr2cBTFEIyh5JZImhdUAdPA-Ij7GeIWwUFj0MMC28oz2fOFCwUrHtZjoVQ8KREDDvaAfh5Kfk-eo6nCx39Lb7vJIyfaeJedAXlJmVWY2BRhnseftWU-Z2NdR4q3u-8krh-72rPppD144xnYvSz&__tn__=R]-R&c[0]=AT3C5DcSCDvwDSA41bsj74zWIvaqX36Mmfy0dQxEm7wsw2Wsd0YRddx_6fCgSTkHMjzRe2R6q_jhUUFv6xKyiKG9ya6sf6zzwMQAIpgRRET2hLALxiscMONhYxBaAG2YBZLY2tDr9VCCIdxJOcJCjV5uvIDXjBg38OCXYOuh7lJ4tBPMxfU_a83UZqFNDb5xEg8'"
   ]
  },
  {
   "cell_type": "code",
   "execution_count": 5,
   "id": "96b3dfe9",
   "metadata": {},
   "outputs": [
    {
     "name": "stdout",
     "output_type": "stream",
     "text": [
      "https://reurl.cc/ka04lb\n"
     ]
    }
   ],
   "source": [
    "if \"?u=https\" in web_bt:\n",
    "    parsed_url = urllib.parse.urlparse(web_bt)\n",
    "    query_params = urllib.parse.parse_qs(parsed_url.query)\n",
    "    web_bt_0 = query_params[\"u\"][0]\n",
    "else:\n",
    "    web_bt_0 = web_bt\n",
    "\n",
    "print(web_bt_0)"
   ]
  },
  {
   "cell_type": "code",
   "execution_count": 7,
   "id": "a04a2b24",
   "metadata": {
    "scrolled": true
   },
   "outputs": [
    {
     "name": "stdout",
     "output_type": "stream",
     "text": [
      "https://reurl.cc/ka04lb\n",
      "bt_html <!DOCTYPE html>\n",
      "<html><head><title>先別怕紅字  刻意控管飲食會讓報告失準   健檢前後須知做好做滿  才不會白花錢- 今周刊</title><meta content=\"先別怕紅字  刻意控管飲食會讓報告失準   健檢前後須知做好做滿  才不會白花錢- 今周刊\" property=\"og:title\"/><meta content=\"https://doqvf81n9htmm.cloudfront.net/data/crop_article/148691/120.jpg_600x450.jpg\" property=\"og:image\"/><meta content=\"健檢是提早發現疾病的前哨站，然而，你是否擔心報告出現紅字，檢查前刻意調整飲食？別讓錢白花，留意健檢前、後須知，才能掌握身體現況。\" property=\"og:description\"/><meta content=\"noindex,nosnippet\" name=\"robots\"/><script src=\"/javascripts/ga.js\"></script><script src=\"/javascripts/pixel.js\"></script><script src=\"/javascripts/redirect.js\"></script><noscript><img height=\"1\" src=\"https://www.facebook.com/tr?id=1675200226052423&amp;ev=PageView&amp;noscript=1\" style=\"display:none\" width=\"1\"/></noscript></head><body><input id=\"url\" name=\"url\" type=\"hidden\" value=\"https://www.businesstoday.com.tw/article/category/183029/post/202308160043/\"/></body></html>\n",
      "[]\n"
     ]
    },
    {
     "ename": "NameError",
     "evalue": "name 'bt_link' is not defined",
     "output_type": "error",
     "traceback": [
      "\u001b[1;31m---------------------------------------------------------------------------\u001b[0m",
      "\u001b[1;31mNameError\u001b[0m                                 Traceback (most recent call last)",
      "Cell \u001b[1;32mIn[7], line 23\u001b[0m\n\u001b[0;32m     20\u001b[0m         \u001b[38;5;28mprint\u001b[39m(item\u001b[38;5;241m.\u001b[39mget(\u001b[38;5;124m'\u001b[39m\u001b[38;5;124mhref\u001b[39m\u001b[38;5;124m'\u001b[39m))\n\u001b[0;32m     21\u001b[0m         bt_link \u001b[38;5;241m=\u001b[39m item\u001b[38;5;241m.\u001b[39mget(\u001b[38;5;124m'\u001b[39m\u001b[38;5;124mhref\u001b[39m\u001b[38;5;124m'\u001b[39m)\n\u001b[1;32m---> 23\u001b[0m response \u001b[38;5;241m=\u001b[39m requests\u001b[38;5;241m.\u001b[39mget(\u001b[43mbt_link\u001b[49m)\n\u001b[0;32m     25\u001b[0m bt_html \u001b[38;5;241m=\u001b[39m BeautifulSoup(response\u001b[38;5;241m.\u001b[39mtext, \u001b[38;5;124m\"\u001b[39m\u001b[38;5;124mlxml\u001b[39m\u001b[38;5;124m\"\u001b[39m)\n\u001b[0;32m     27\u001b[0m \u001b[38;5;66;03m# --- Begin 抓出文章id，之後會用到 ---\u001b[39;00m\n",
      "\u001b[1;31mNameError\u001b[0m: name 'bt_link' is not defined"
     ]
    }
   ],
   "source": [
    "print(web_bt_0)\n",
    "\n",
    "if \"peview\" in web_bt_0:\n",
    "    print(\"wrong link: \", web_bt_0)\n",
    "    web_bt_0 = web_bt_0.replace(\"peview\", \"post\")\n",
    "\n",
    "headers={\"user-agent\":\"Mozilla/5.0 (Windows NT 10.0; Win64; x64) AppleWebKit/537.36 (KHTML, like Gecko) Chrome/113.0.0.0 Safari/537.36\"}\n",
    "response = requests.get(web_bt_0)\n",
    "\n",
    "bt_html = BeautifulSoup(response.text, \"lxml\")\n",
    "\n",
    "print('bt_html', bt_html)\n",
    "\n",
    "all_a = bt_html.find_all('a')\n",
    "print(all_a)\n",
    "\n",
    "for item in all_a:\n",
    "#     print(item.get('href'))\n",
    "    if 'businesstoday' in item.get('href'):\n",
    "        print(item.get('href'))\n",
    "        bt_link = item.get('href')\n",
    "\n",
    "response = requests.get(bt_link)\n",
    "\n",
    "bt_html = BeautifulSoup(response.text, \"lxml\")\n",
    "\n",
    "# --- Begin 抓出文章id，之後會用到 ---\n",
    "\n",
    "content_id = bt_html.find(\"meta\", {\"property\":\"dable:item_id\"}).get(\"content\")\n",
    "print('id', content_id)\n",
    "# bt_content_id.append(content_id)\n",
    "\n",
    "# --- End 抓出文章id，之後會用到 ---\n",
    "\n",
    "\n",
    "# --- Begin 文章分類 ---\n",
    "\n",
    "ct_class_main = bt_html.find(\"meta\", {\"property\":\"article:section\"}).get(\"content\")\n",
    "\n",
    "print(bt_html.find(\"meta\", {\"property\":\"article:section\"}).get(\"content\"))\n",
    "# bt_class_main.append(ct_class_main)\n",
    "\n",
    "ct_class_sub = bt_html.find(\"meta\", {\"property\":\"article:section2\"}).get(\"content\")\n",
    "\n",
    "print(bt_html.find(\"meta\", {\"property\":\"article:section2\"}).get(\"content\"))\n",
    "# bt_class_sub.append(ct_class_sub)\n",
    "\n"
   ]
  },
  {
   "cell_type": "code",
   "execution_count": 8,
   "id": "1aeede55",
   "metadata": {},
   "outputs": [
    {
     "name": "stdout",
     "output_type": "stream",
     "text": [
      "https://reurl.cc/ka04lb\n",
      "bt_html <!DOCTYPE html>\n",
      "<html><head><title>先別怕紅字  刻意控管飲食會讓報告失準   健檢前後須知做好做滿  才不會白花錢- 今周刊</title><meta content=\"先別怕紅字  刻意控管飲食會讓報告失準   健檢前後須知做好做滿  才不會白花錢- 今周刊\" property=\"og:title\"/><meta content=\"https://doqvf81n9htmm.cloudfront.net/data/crop_article/148691/120.jpg_600x450.jpg\" property=\"og:image\"/><meta content=\"健檢是提早發現疾病的前哨站，然而，你是否擔心報告出現紅字，檢查前刻意調整飲食？別讓錢白花，留意健檢前、後須知，才能掌握身體現況。\" property=\"og:description\"/><meta content=\"noindex,nosnippet\" name=\"robots\"/><script src=\"/javascripts/ga.js\"></script><script src=\"/javascripts/pixel.js\"></script><script src=\"/javascripts/redirect.js\"></script><noscript><img height=\"1\" src=\"https://www.facebook.com/tr?id=1675200226052423&amp;ev=PageView&amp;noscript=1\" style=\"display:none\" width=\"1\"/></noscript></head><body><input id=\"url\" name=\"url\" type=\"hidden\" value=\"https://www.businesstoday.com.tw/article/category/183029/post/202308160043/\"/></body></html>\n",
      "bt_link https://www.businesstoday.com.tw/article/category/183029/post/202308160043/\n",
      "id 202308160043\n",
      "職場生活\n",
      "健康\n"
     ]
    }
   ],
   "source": [
    "#reurl縮網址\n",
    "\n",
    "print(web_bt_0)\n",
    "\n",
    "if \"peview\" in web_bt_0:\n",
    "    print(\"wrong link: \", web_bt_0)\n",
    "    web_bt_0 = web_bt_0.replace(\"peview\", \"post\")\n",
    "\n",
    "headers={\"user-agent\":\"Mozilla/5.0 (Windows NT 10.0; Win64; x64) AppleWebKit/537.36 (KHTML, like Gecko) Chrome/113.0.0.0 Safari/537.36\"}\n",
    "response = requests.get(web_bt_0)\n",
    "\n",
    "bt_html = BeautifulSoup(response.text, \"lxml\")\n",
    "\n",
    "print('bt_html', bt_html)\n",
    "\n",
    "bt_link = bt_html.find(\"input\", {\"id\":\"url\"}).get(\"value\")\n",
    "print(\"bt_link\", bt_link)\n",
    "\n",
    "response = requests.get(bt_link)\n",
    "\n",
    "bt_html = BeautifulSoup(response.text, \"lxml\")\n",
    "\n",
    "# --- Begin 抓出文章id，之後會用到 ---\n",
    "\n",
    "content_id = bt_html.find(\"meta\", {\"property\":\"dable:item_id\"}).get(\"content\")\n",
    "print('id', content_id)\n",
    "# bt_content_id.append(content_id)\n",
    "\n",
    "# --- End 抓出文章id，之後會用到 ---\n",
    "\n",
    "\n",
    "# --- Begin 文章分類 ---\n",
    "\n",
    "ct_class_main = bt_html.find(\"meta\", {\"property\":\"article:section\"}).get(\"content\")\n",
    "\n",
    "print(bt_html.find(\"meta\", {\"property\":\"article:section\"}).get(\"content\"))\n",
    "# bt_class_main.append(ct_class_main)\n",
    "\n",
    "ct_class_sub = bt_html.find(\"meta\", {\"property\":\"article:section2\"}).get(\"content\")\n",
    "\n",
    "print(bt_html.find(\"meta\", {\"property\":\"article:section2\"}).get(\"content\"))\n",
    "# bt_class_sub.append(ct_class_sub)\n",
    "\n"
   ]
  },
  {
   "cell_type": "code",
   "execution_count": null,
   "id": "6e294f57",
   "metadata": {
    "scrolled": true
   },
   "outputs": [],
   "source": [
    "# find article link\n",
    "# web_bt = driver_fb.find_element_by_xpath(\"//div[@class='_6ks']/a\").get_attribute('href')\n",
    "\n",
    "# 找到包含\"dataCreated\"的script元素\n",
    "script_element = driver_fb.find_element_by_xpath('//script[@type=\"application/ld+json\"]')\n",
    "\n",
    "# 獲取script元素的內容\n",
    "script_content = script_element.get_attribute('innerHTML')\n",
    "\n",
    "# 解析JSON資料，取得\"dataCreated\"的值\n",
    "import json\n",
    "data = json.loads(script_content)\n",
    "date_created = data['dateCreated']\n",
    "print(\"date:\", date_created)\n",
    "\n",
    "# 移除時區資訊（例如-0700）\n",
    "date_created = date_created[:-5]\n",
    "\n",
    "# 轉換日期時間字串為datetime物件\n",
    "datetime_obj = datetime.strptime(date_created, '%Y-%m-%dT%H:%M:%S')\n",
    "\n",
    "# 調整時區（從-0700調整為+0800）\n",
    "datetime_obj = datetime_obj + timedelta(hours=15)\n",
    "\n",
    "# 輸出調整後的日期時間字串\n",
    "print(\"調整後的dataCreated:\", datetime_obj.isoformat())\n",
    "\n",
    "# 或者，如果您希望將日期和時間分開輸出，可以這樣做：\n",
    "date_str = datetime_obj.strftime('%Y-%m-%d')\n",
    "time_str = datetime_obj.strftime('%H:%M:%S')\n",
    "print(\"調整後的日期:\", date_str)\n",
    "print(\"調整後的時間:\", time_str)\n",
    "\n",
    "# # 輸出結果\n",
    "# print(\"dateModified:\", date_modified)\n",
    "\n",
    "# date_temp = date_modified.split(\"T\")\n",
    "# print(date_temp)\n",
    "# post_date = date_temp[0]\n",
    "# post_time = date_temp[1][0:8]\n",
    "\n",
    "# post_YYYY = int(post_date.split('-')[0])\n",
    "# post_MM = int(post_date.split('-')[1])\n",
    "# post_DD = int(post_date.split('-')[2])\n",
    "\n",
    "# post_day = datetime(post_YYYY, post_MM, post_DD)\n",
    "# post_day = post_day.strftime(\"%w\")\n",
    "# if post_day == \"0\":\n",
    "#     post_day = \"7\"\n",
    "\n",
    "# print(post_date)\n",
    "# print(post_day)\n",
    "# print(post_time)\n"
   ]
  },
  {
   "cell_type": "code",
   "execution_count": 9,
   "id": "88342d5d",
   "metadata": {},
   "outputs": [],
   "source": [
    "driver_fb.quit()"
   ]
  },
  {
   "cell_type": "code",
   "execution_count": null,
   "id": "2b55de94",
   "metadata": {},
   "outputs": [],
   "source": [
    "driver_bt = webdriver.Chrome(path)\n",
    "\n",
    "driver_bt.get(web_bt)\n",
    "\n",
    "driver_bt.maximize_window()\n"
   ]
  },
  {
   "cell_type": "code",
   "execution_count": null,
   "id": "8eb7ec28",
   "metadata": {},
   "outputs": [],
   "source": [
    "# find article classification\n",
    "article_class = []\n",
    "\n",
    "article_class.append(driver_bt.find_element_by_xpath(\"//p[@class='context__info-item context__info-item--type']\").text)\n",
    "print(article_class)\n"
   ]
  },
  {
   "cell_type": "code",
   "execution_count": null,
   "id": "a2fff2c5",
   "metadata": {},
   "outputs": [],
   "source": [
    "# url = web_bt\n",
    "# print(url)\n",
    "# headers={\"user-agent\":\"Mozilla/5.0 (Windows NT 10.0; Win64; x64) AppleWebKit/537.36 (KHTML, like Gecko) Chrome/113.0.0.0 Safari/537.36\"}\n",
    "# response = requests.get(url)\n",
    "# bt_html = BeautifulSoup(response.text, \"lxml\")\n",
    "\n",
    "# ct_class = bt_html.find(\"p\", {\"class\":\"context__info-item context__info-item--type\"}).getText()\n",
    "# print(ct_class)\n",
    "# # # --- Begin 文章分類及文章發佈日 ---\n",
    "    \n",
    "# # content_all = bt_html.find_all(\"div\", {\"class\":\"article__wrap\"})  # 文章內容\n",
    "\n",
    "# # lst_content_class = []\n",
    "\n",
    "# # for content in content_all:  # r: 一個li區塊\n",
    "# #     ct_class = content.find(\"p\", {\"class\":\"context__info-item context__info-item--type\"})  # 文章分類\n",
    "# #     lst_content_class.append(ct_class.getText())\n",
    "# #     print(ct_class.getText())\n",
    "\n",
    "# # # --- End 文章分類及文章發佈日 ---"
   ]
  },
  {
   "cell_type": "code",
   "execution_count": null,
   "id": "adf39dc6",
   "metadata": {},
   "outputs": [],
   "source": []
  },
  {
   "cell_type": "code",
   "execution_count": null,
   "id": "fb3d5734",
   "metadata": {},
   "outputs": [],
   "source": []
  },
  {
   "cell_type": "code",
   "execution_count": null,
   "id": "b64320b0",
   "metadata": {},
   "outputs": [],
   "source": []
  },
  {
   "cell_type": "code",
   "execution_count": null,
   "id": "1e32bace",
   "metadata": {},
   "outputs": [],
   "source": []
  },
  {
   "cell_type": "code",
   "execution_count": null,
   "id": "989270bd",
   "metadata": {},
   "outputs": [],
   "source": [
    "driver_bt.quit()"
   ]
  },
  {
   "cell_type": "code",
   "execution_count": null,
   "id": "84653566",
   "metadata": {},
   "outputs": [],
   "source": [
    "# Define Business Today Classification\n",
    "lst_產業動態 = ['產業動態', '科技', '傳產', '產業動態', '國際瞭望', '兩岸三地']\n",
    "lst_金融保險 = ['金融保險', '金融', '保險', '稅制', '勞保勞退']\n",
    "lst_國際總經 = ['國際總經']\n",
    "lst_政治社會 = ['政治社會']\n",
    "lst_投資理財 = ['投資理財', '台股', '全球股市', '債券基金', '信用卡', '理財', 'ETF', '聰明理財', '股債前線', '基金投資', '房地產掃瞄', '保險稅務']\n",
    "lst_健康休閒 = ['健康休閒', '健康', '健康']\n",
    "lst_生活消費 = ['生活消費', '美食旅遊', '品味收藏', '情感關係', '品味人生', '美食旅遊']\n",
    "lst_職場學習 = ['職場學習', '職場', '教育', '退休', '個人成長', '管理', '行銷', '創業', '教育']\n",
    "lst_家庭教育 = ['家庭教育']\n",
    "lst_幸福熟齡 = ['幸福熟齡', '預約美好告別']\n",
    "lst_房地產   = ['房地產']\n",
    "lst_ESG      = ['ESG']\n",
    "lst_訂閱制   = ['訂閱制']\n",
    "lst_財經時事 = ['財經時事', '焦點新聞', '科技線上', '金融風雲']\n",
    "lst_今選頻道 = ['今選頻道', '話題人物', '最新觀點', '名人專欄', '編輯室報告']"
   ]
  },
  {
   "cell_type": "code",
   "execution_count": null,
   "id": "5dab5641",
   "metadata": {},
   "outputs": [],
   "source": [
    "lst_article_class = []\n",
    "for item in article_class:\n",
    "    if item in lst_產業動態:\n",
    "        lst_article_class.append('產業動態')\n",
    "        \n",
    "    elif item in lst_金融保險:\n",
    "        lst_article_class.append('金融保險')\n",
    "        \n",
    "    elif item in lst_國際總經:\n",
    "        lst_article_class.append('國際總經')\n",
    "        \n",
    "    elif item in lst_政治社會:\n",
    "        lst_article_class.append('政治社會')\n",
    "        \n",
    "    elif item in lst_投資理財:\n",
    "        lst_article_class.append('投資理財')\n",
    "        \n",
    "    elif item in lst_健康休閒:\n",
    "        lst_article_class.append('健康休閒')\n",
    "\n",
    "    elif item in lst_生活消費:\n",
    "        lst_article_class.append('生活消費')\n",
    "        \n",
    "    elif item in lst_職場學習:\n",
    "        lst_article_class.append('職場學習')\n",
    "        \n",
    "    elif item in lst_家庭教育:\n",
    "        lst_article_class.append('家庭教育')\n",
    "        \n",
    "    elif item in lst_幸福熟齡:\n",
    "        lst_article_class.append('幸福熟齡')\n",
    "        \n",
    "    elif item in lst_房地產:\n",
    "        lst_article_class.append('房地產')\n",
    "        \n",
    "    elif item in lst_ESG:\n",
    "        lst_article_class.append('ESG')\n",
    "        \n",
    "    elif item in lst_訂閱制:\n",
    "        lst_article_class.append('訂閱制')\n",
    "        \n",
    "    elif item in lst_今選頻道:\n",
    "        lst_article_class.append('今選頻道')\n",
    "        \n",
    "    else:\n",
    "        lst_article_class.append(item)"
   ]
  },
  {
   "cell_type": "code",
   "execution_count": null,
   "id": "b114ddea",
   "metadata": {},
   "outputs": [],
   "source": [
    "lst_article_class"
   ]
  },
  {
   "cell_type": "code",
   "execution_count": null,
   "id": "4eb8385c",
   "metadata": {},
   "outputs": [],
   "source": [
    "# 幸福熟齡\n",
    "\n",
    "# https://thebetteraging.businesstoday.com.tw/article/detail/202305230009?utm_source=FACEBOOK&utm_medium=%E5%88%86%E4%BA%AB%E4%BB%8A%E5%91%A8&utm_campaign=230529\n",
    "\n",
    "web_betteraging = 'https://thebetteraging.businesstoday.com.tw/article/detail/202305230009'\n",
    "\n",
    "driver_bt = webdriver.Chrome(path)\n",
    "\n",
    "driver_bt.get(web_betteraging)\n",
    "\n",
    "driver_bt.maximize_window()\n"
   ]
  },
  {
   "cell_type": "code",
   "execution_count": null,
   "id": "6ec31906",
   "metadata": {},
   "outputs": [],
   "source": [
    "url = 'https://www.facebook.com/flx/warn/?u=https%3A%2F%2Fwww.businesstoday.com.tw%2Farticle%2Fcategory%2F192008%2Fpost%2F202305290017%2F%3Futm_source%3DFB%26utm_medium%3Darticle%26utm_campaign%3D230529&h=AT02ZoXOS44pYPalrWpaJJT1TALFHOQWK2skNO7dOk3rZLhOLcBAW5TlM1ZDJQliMV2OkhjmbT9l-Fj3qWT_yH8SwHETOsGUQbgLLC_cj26QGYGEcyqsruQc1GIAJuwyISfHApEh5hBxc6IBCTjoXP15vqAQ5o2Sm9VhStpWN__p6-mdv2KOw4a-xROla_lLYKNsaLzN51yeYec2W3CBhWdZFrJ1EHz3OEzCT2gHGBUxRnUBZl6DOCjXmT5WIW_L8_nd7CdWA4dVMzRgjtlc2aja0ktQQcIkPtILgnlx9UIr0G29b4cnknq08W_XZ-KEo5ScoW1pvT-Tk6ULT6A5TgG-MCr2afwAAJdYKwE8q0eBMTAHb64yTwsAiJWiCAo0yU4tWZFIddYFMqHQA-UZZjubnJqsQqavnqqlcHGTU5XhR7PZHNercMHXn8HWX-FTnw0sNUWkdl7jjhZGJSq-OzdEMZuMuzh3Vb2NDfJersqjPgFHZjEU23zFGwt18Y31aPJviLCpSH__PjZInSQz7hWtD0IMhAUP1omJGVhtSrLIfbHuFzNA9rPB0sRY9pN6c62Y0EDL5J-EHg3rxrhcrPo'\n",
    "\n",
    "response1 = requests.get(url)\n",
    "fb_to_bt_html = BeautifulSoup(response1.text, \"lxml\")\n",
    "\n",
    "# print(fb_to_bt_html)\n",
    "\n",
    "web_bt = fb_to_bt_html.find(\"span\", {\"class\":\"_5slv\"}).getText()\n",
    "\n",
    "print(web_bt)\n",
    "\n",
    "headers={\"user-agent\":\"Mozilla/5.0 (Windows NT 10.0; Win64; x64) AppleWebKit/537.36 (KHTML, like Gecko) Chrome/113.0.0.0 Safari/537.36\"}\n",
    "response2 = requests.get(web_bt, headers = headers)\n",
    "bt_html = BeautifulSoup(response2.text, \"lxml\")\n",
    "            \n",
    "# -- End Get BT URL --\n",
    "\n",
    "# -- Begin Find Article Class --\n",
    "\n",
    "link_class = bt_html.find(\"p\", {\"class\":\"context__info-item context__info-item--type\"}).getText()\n",
    "print(link_class)"
   ]
  },
  {
   "cell_type": "code",
   "execution_count": null,
   "id": "bea8202c",
   "metadata": {},
   "outputs": [],
   "source": [
    "print(web_bt)"
   ]
  },
  {
   "cell_type": "code",
   "execution_count": 2,
   "id": "62ce8895",
   "metadata": {},
   "outputs": [],
   "source": [
    "import numpy as np"
   ]
  },
  {
   "cell_type": "code",
   "execution_count": 3,
   "id": "d7566906",
   "metadata": {},
   "outputs": [
    {
     "data": {
      "text/plain": [
       "array([[3]])"
      ]
     },
     "execution_count": 3,
     "metadata": {},
     "output_type": "execute_result"
    }
   ],
   "source": [
    "array_c = np.array([[3]])\n",
    "array_c"
   ]
  },
  {
   "cell_type": "code",
   "execution_count": 4,
   "id": "06188574",
   "metadata": {},
   "outputs": [
    {
     "data": {
      "text/plain": [
       "(1, 1)"
      ]
     },
     "execution_count": 4,
     "metadata": {},
     "output_type": "execute_result"
    }
   ],
   "source": [
    "array_c.shape"
   ]
  },
  {
   "cell_type": "code",
   "execution_count": null,
   "id": "c13d865b",
   "metadata": {},
   "outputs": [],
   "source": []
  }
 ],
 "metadata": {
  "kernelspec": {
   "display_name": "Python 3 (ipykernel)",
   "language": "python",
   "name": "python3"
  },
  "language_info": {
   "codemirror_mode": {
    "name": "ipython",
    "version": 3
   },
   "file_extension": ".py",
   "mimetype": "text/x-python",
   "name": "python",
   "nbconvert_exporter": "python",
   "pygments_lexer": "ipython3",
   "version": "3.10.9"
  }
 },
 "nbformat": 4,
 "nbformat_minor": 5
}
