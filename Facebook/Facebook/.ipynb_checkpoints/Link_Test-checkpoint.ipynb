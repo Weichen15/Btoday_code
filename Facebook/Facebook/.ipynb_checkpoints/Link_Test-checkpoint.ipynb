{
 "cells": [
  {
   "cell_type": "code",
   "execution_count": 1,
   "id": "f2db07fa",
   "metadata": {},
   "outputs": [],
   "source": [
    "from selenium import webdriver\n",
    "from selenium.webdriver.common.by import By\n",
    "from selenium.webdriver.support.ui import WebDriverWait\n",
    "from selenium.webdriver.support import expected_conditions as EC\n",
    "\n",
    "import time\n",
    "from datetime import datetime, timedelta\n",
    "\n",
    "import pandas as pd\n",
    "\n",
    "import json"
   ]
  },
  {
   "cell_type": "code",
   "execution_count": 2,
   "id": "18756aa9",
   "metadata": {},
   "outputs": [
    {
     "ename": "NoSuchElementException",
     "evalue": "Message: no such element: Unable to locate element: {\"method\":\"xpath\",\"selector\":\"//div[@class='_6ks']/a\"}\n  (Session info: chrome=114.0.5735.248)\n",
     "output_type": "error",
     "traceback": [
      "\u001b[1;31m---------------------------------------------------------------------------\u001b[0m",
      "\u001b[1;31mNoSuchElementException\u001b[0m                    Traceback (most recent call last)",
      "Cell \u001b[1;32mIn[2], line 17\u001b[0m\n\u001b[0;32m     14\u001b[0m driver_fb\u001b[38;5;241m.\u001b[39mmaximize_window()\n\u001b[0;32m     16\u001b[0m web_bt_all \u001b[38;5;241m=\u001b[39m WebDriverWait(driver_fb, \u001b[38;5;241m3\u001b[39m)\u001b[38;5;241m.\u001b[39muntil(EC\u001b[38;5;241m.\u001b[39mpresence_of_element_located((By\u001b[38;5;241m.\u001b[39mXPATH, \u001b[38;5;124m\"\u001b[39m\u001b[38;5;124m//div[@class=\u001b[39m\u001b[38;5;124m'\u001b[39m\u001b[38;5;124m_3x-2\u001b[39m\u001b[38;5;124m'\u001b[39m\u001b[38;5;124m]\u001b[39m\u001b[38;5;124m\"\u001b[39m)))\n\u001b[1;32m---> 17\u001b[0m web_bt \u001b[38;5;241m=\u001b[39m \u001b[43mweb_bt_all\u001b[49m\u001b[38;5;241;43m.\u001b[39;49m\u001b[43mfind_element_by_xpath\u001b[49m\u001b[43m(\u001b[49m\u001b[38;5;124;43m\"\u001b[39;49m\u001b[38;5;124;43m//div[@class=\u001b[39;49m\u001b[38;5;124;43m'\u001b[39;49m\u001b[38;5;124;43m_6ks\u001b[39;49m\u001b[38;5;124;43m'\u001b[39;49m\u001b[38;5;124;43m]/a\u001b[39;49m\u001b[38;5;124;43m\"\u001b[39;49m\u001b[43m)\u001b[49m\u001b[38;5;241m.\u001b[39mget_attribute(\u001b[38;5;124m'\u001b[39m\u001b[38;5;124mhref\u001b[39m\u001b[38;5;124m'\u001b[39m)\n\u001b[0;32m     18\u001b[0m \u001b[38;5;66;03m# .get_attribute('href')\u001b[39;00m\n\u001b[0;32m     19\u001b[0m \u001b[38;5;28mprint\u001b[39m(web_bt)\n",
      "File \u001b[1;32m~\\anaconda3\\lib\\site-packages\\selenium\\webdriver\\remote\\webelement.py:351\u001b[0m, in \u001b[0;36mWebElement.find_element_by_xpath\u001b[1;34m(self, xpath)\u001b[0m\n\u001b[0;32m    322\u001b[0m \u001b[38;5;28;01mdef\u001b[39;00m \u001b[38;5;21mfind_element_by_xpath\u001b[39m(\u001b[38;5;28mself\u001b[39m, xpath):\n\u001b[0;32m    323\u001b[0m     \u001b[38;5;124;03m\"\"\"Finds element by xpath.\u001b[39;00m\n\u001b[0;32m    324\u001b[0m \n\u001b[0;32m    325\u001b[0m \u001b[38;5;124;03m    :Args:\u001b[39;00m\n\u001b[1;32m   (...)\u001b[0m\n\u001b[0;32m    349\u001b[0m \u001b[38;5;124;03m        element = element.find_element_by_xpath('//div/td[1]')\u001b[39;00m\n\u001b[0;32m    350\u001b[0m \u001b[38;5;124;03m    \"\"\"\u001b[39;00m\n\u001b[1;32m--> 351\u001b[0m     \u001b[38;5;28;01mreturn\u001b[39;00m \u001b[38;5;28;43mself\u001b[39;49m\u001b[38;5;241;43m.\u001b[39;49m\u001b[43mfind_element\u001b[49m\u001b[43m(\u001b[49m\u001b[43mby\u001b[49m\u001b[38;5;241;43m=\u001b[39;49m\u001b[43mBy\u001b[49m\u001b[38;5;241;43m.\u001b[39;49m\u001b[43mXPATH\u001b[49m\u001b[43m,\u001b[49m\u001b[43m \u001b[49m\u001b[43mvalue\u001b[49m\u001b[38;5;241;43m=\u001b[39;49m\u001b[43mxpath\u001b[49m\u001b[43m)\u001b[49m\n",
      "File \u001b[1;32m~\\anaconda3\\lib\\site-packages\\selenium\\webdriver\\remote\\webelement.py:658\u001b[0m, in \u001b[0;36mWebElement.find_element\u001b[1;34m(self, by, value)\u001b[0m\n\u001b[0;32m    655\u001b[0m         by \u001b[38;5;241m=\u001b[39m By\u001b[38;5;241m.\u001b[39mCSS_SELECTOR\n\u001b[0;32m    656\u001b[0m         value \u001b[38;5;241m=\u001b[39m \u001b[38;5;124m'\u001b[39m\u001b[38;5;124m[name=\u001b[39m\u001b[38;5;124m\"\u001b[39m\u001b[38;5;132;01m%s\u001b[39;00m\u001b[38;5;124m\"\u001b[39m\u001b[38;5;124m]\u001b[39m\u001b[38;5;124m'\u001b[39m \u001b[38;5;241m%\u001b[39m value\n\u001b[1;32m--> 658\u001b[0m \u001b[38;5;28;01mreturn\u001b[39;00m \u001b[38;5;28;43mself\u001b[39;49m\u001b[38;5;241;43m.\u001b[39;49m\u001b[43m_execute\u001b[49m\u001b[43m(\u001b[49m\u001b[43mCommand\u001b[49m\u001b[38;5;241;43m.\u001b[39;49m\u001b[43mFIND_CHILD_ELEMENT\u001b[49m\u001b[43m,\u001b[49m\n\u001b[0;32m    659\u001b[0m \u001b[43m                     \u001b[49m\u001b[43m{\u001b[49m\u001b[38;5;124;43m\"\u001b[39;49m\u001b[38;5;124;43musing\u001b[39;49m\u001b[38;5;124;43m\"\u001b[39;49m\u001b[43m:\u001b[49m\u001b[43m \u001b[49m\u001b[43mby\u001b[49m\u001b[43m,\u001b[49m\u001b[43m \u001b[49m\u001b[38;5;124;43m\"\u001b[39;49m\u001b[38;5;124;43mvalue\u001b[39;49m\u001b[38;5;124;43m\"\u001b[39;49m\u001b[43m:\u001b[49m\u001b[43m \u001b[49m\u001b[43mvalue\u001b[49m\u001b[43m}\u001b[49m\u001b[43m)\u001b[49m[\u001b[38;5;124m'\u001b[39m\u001b[38;5;124mvalue\u001b[39m\u001b[38;5;124m'\u001b[39m]\n",
      "File \u001b[1;32m~\\anaconda3\\lib\\site-packages\\selenium\\webdriver\\remote\\webelement.py:633\u001b[0m, in \u001b[0;36mWebElement._execute\u001b[1;34m(self, command, params)\u001b[0m\n\u001b[0;32m    631\u001b[0m     params \u001b[38;5;241m=\u001b[39m {}\n\u001b[0;32m    632\u001b[0m params[\u001b[38;5;124m'\u001b[39m\u001b[38;5;124mid\u001b[39m\u001b[38;5;124m'\u001b[39m] \u001b[38;5;241m=\u001b[39m \u001b[38;5;28mself\u001b[39m\u001b[38;5;241m.\u001b[39m_id\n\u001b[1;32m--> 633\u001b[0m \u001b[38;5;28;01mreturn\u001b[39;00m \u001b[38;5;28;43mself\u001b[39;49m\u001b[38;5;241;43m.\u001b[39;49m\u001b[43m_parent\u001b[49m\u001b[38;5;241;43m.\u001b[39;49m\u001b[43mexecute\u001b[49m\u001b[43m(\u001b[49m\u001b[43mcommand\u001b[49m\u001b[43m,\u001b[49m\u001b[43m \u001b[49m\u001b[43mparams\u001b[49m\u001b[43m)\u001b[49m\n",
      "File \u001b[1;32m~\\anaconda3\\lib\\site-packages\\selenium\\webdriver\\remote\\webdriver.py:321\u001b[0m, in \u001b[0;36mWebDriver.execute\u001b[1;34m(self, driver_command, params)\u001b[0m\n\u001b[0;32m    319\u001b[0m response \u001b[38;5;241m=\u001b[39m \u001b[38;5;28mself\u001b[39m\u001b[38;5;241m.\u001b[39mcommand_executor\u001b[38;5;241m.\u001b[39mexecute(driver_command, params)\n\u001b[0;32m    320\u001b[0m \u001b[38;5;28;01mif\u001b[39;00m response:\n\u001b[1;32m--> 321\u001b[0m     \u001b[38;5;28;43mself\u001b[39;49m\u001b[38;5;241;43m.\u001b[39;49m\u001b[43merror_handler\u001b[49m\u001b[38;5;241;43m.\u001b[39;49m\u001b[43mcheck_response\u001b[49m\u001b[43m(\u001b[49m\u001b[43mresponse\u001b[49m\u001b[43m)\u001b[49m\n\u001b[0;32m    322\u001b[0m     response[\u001b[38;5;124m'\u001b[39m\u001b[38;5;124mvalue\u001b[39m\u001b[38;5;124m'\u001b[39m] \u001b[38;5;241m=\u001b[39m \u001b[38;5;28mself\u001b[39m\u001b[38;5;241m.\u001b[39m_unwrap_value(\n\u001b[0;32m    323\u001b[0m         response\u001b[38;5;241m.\u001b[39mget(\u001b[38;5;124m'\u001b[39m\u001b[38;5;124mvalue\u001b[39m\u001b[38;5;124m'\u001b[39m, \u001b[38;5;28;01mNone\u001b[39;00m))\n\u001b[0;32m    324\u001b[0m     \u001b[38;5;28;01mreturn\u001b[39;00m response\n",
      "File \u001b[1;32m~\\anaconda3\\lib\\site-packages\\selenium\\webdriver\\remote\\errorhandler.py:242\u001b[0m, in \u001b[0;36mErrorHandler.check_response\u001b[1;34m(self, response)\u001b[0m\n\u001b[0;32m    240\u001b[0m         alert_text \u001b[38;5;241m=\u001b[39m value[\u001b[38;5;124m'\u001b[39m\u001b[38;5;124malert\u001b[39m\u001b[38;5;124m'\u001b[39m]\u001b[38;5;241m.\u001b[39mget(\u001b[38;5;124m'\u001b[39m\u001b[38;5;124mtext\u001b[39m\u001b[38;5;124m'\u001b[39m)\n\u001b[0;32m    241\u001b[0m     \u001b[38;5;28;01mraise\u001b[39;00m exception_class(message, screen, stacktrace, alert_text)\n\u001b[1;32m--> 242\u001b[0m \u001b[38;5;28;01mraise\u001b[39;00m exception_class(message, screen, stacktrace)\n",
      "\u001b[1;31mNoSuchElementException\u001b[0m: Message: no such element: Unable to locate element: {\"method\":\"xpath\",\"selector\":\"//div[@class='_6ks']/a\"}\n  (Session info: chrome=114.0.5735.248)\n"
     ]
    }
   ],
   "source": [
    "# Link\n",
    "# web_fb = 'https://www.facebook.com/BToday/posts/pfbid02o65LeqRh6uSC1L33CuDVuwSrXqBruHPQyy2HVLgkyk2Zyy9P25UjQ4Dvzirf1xTwl'\n",
    "\n",
    "# web_fb = 'https://www.facebook.com/BToday/posts/pfbid027TRPP5mLnHurb4LFNuimJj15AY9EKZMpsBAXgNBbqbXYinfPyFi6T2sXVpTzCSm8l'\n",
    "\n",
    "web_fb = 'https://www.facebook.com/BToday/posts/pfbid04XjpzawgTJ94TrAQeToNhaiNd5WHRyahzz4jGmcQttaVhKsxv6fPUcT6AP78iRHXl'\n",
    "\n",
    "path = 'C:/Users/JoeJian/OneDrive - Business Today Magazine/桌面/Python Codes/Web_Scraping_in_Python_BeautifulSoup_Selenium&Scrapy_2023/ChromeDriver/chromedriver'\n",
    "\n",
    "driver_fb = webdriver.Chrome(path)\n",
    "\n",
    "driver_fb.get(web_fb)\n",
    "\n",
    "driver_fb.maximize_window()\n",
    "\n",
    "web_bt_all = WebDriverWait(driver_fb, 3).until(EC.presence_of_element_located((By.XPATH, \"//div[@class='_3x-2']\")))\n",
    "web_bt = web_bt_all.find_element_by_xpath(\"//div[@class='_6ks']/a\").get_attribute('href')\n",
    "# .get_attribute('href')\n",
    "print(web_bt)\n",
    "\n",
    "# driver_fb.quit()\n"
   ]
  },
  {
   "cell_type": "code",
   "execution_count": 10,
   "id": "6e294f57",
   "metadata": {
    "scrolled": true
   },
   "outputs": [
    {
     "name": "stdout",
     "output_type": "stream",
     "text": [
      "date: 2023-07-19T00:40:01-0700\n"
     ]
    },
    {
     "ename": "ValueError",
     "evalue": "Invalid isoformat string: '2023-07-19T00:40:01-0700'",
     "output_type": "error",
     "traceback": [
      "\u001b[1;31m---------------------------------------------------------------------------\u001b[0m",
      "\u001b[1;31mValueError\u001b[0m                                Traceback (most recent call last)",
      "Cell \u001b[1;32mIn[10], line 17\u001b[0m\n\u001b[0;32m     14\u001b[0m \u001b[38;5;28mprint\u001b[39m(\u001b[38;5;124m\"\u001b[39m\u001b[38;5;124mdate:\u001b[39m\u001b[38;5;124m\"\u001b[39m, date_created)\n\u001b[0;32m     16\u001b[0m \u001b[38;5;66;03m# 轉換日期時間字串為datetime物件\u001b[39;00m\n\u001b[1;32m---> 17\u001b[0m datetime_obj \u001b[38;5;241m=\u001b[39m \u001b[43mdatetime\u001b[49m\u001b[38;5;241;43m.\u001b[39;49m\u001b[43mfromisoformat\u001b[49m\u001b[43m(\u001b[49m\u001b[43mdate_created\u001b[49m\u001b[38;5;241;43m.\u001b[39;49m\u001b[43mreplace\u001b[49m\u001b[43m(\u001b[49m\u001b[38;5;124;43m\"\u001b[39;49m\u001b[38;5;124;43mZ\u001b[39;49m\u001b[38;5;124;43m\"\u001b[39;49m\u001b[43m,\u001b[49m\u001b[43m \u001b[49m\u001b[38;5;124;43m\"\u001b[39;49m\u001b[38;5;124;43m+00:00\u001b[39;49m\u001b[38;5;124;43m\"\u001b[39;49m\u001b[43m)\u001b[49m\u001b[43m)\u001b[49m\n\u001b[0;32m     19\u001b[0m \u001b[38;5;66;03m# 調整時區（從-0700調整為+0800）\u001b[39;00m\n\u001b[0;32m     20\u001b[0m datetime_obj \u001b[38;5;241m=\u001b[39m datetime_obj \u001b[38;5;241m+\u001b[39m timedelta(hours\u001b[38;5;241m=\u001b[39m\u001b[38;5;241m15\u001b[39m)\n",
      "\u001b[1;31mValueError\u001b[0m: Invalid isoformat string: '2023-07-19T00:40:01-0700'"
     ]
    }
   ],
   "source": [
    "# find article link\n",
    "# web_bt = driver_fb.find_element_by_xpath(\"//div[@class='_6ks']/a\").get_attribute('href')\n",
    "\n",
    "# 找到包含\"dataCreated\"的script元素\n",
    "script_element = driver_fb.find_element_by_xpath('//script[@type=\"application/ld+json\"]')\n",
    "\n",
    "# 獲取script元素的內容\n",
    "script_content = script_element.get_attribute('innerHTML')\n",
    "\n",
    "# 解析JSON資料，取得\"dataCreated\"的值\n",
    "import json\n",
    "data = json.loads(script_content)\n",
    "date_created = data['dateCreated']\n",
    "print(\"date:\", date_created)\n",
    "\n",
    "# 移除時區資訊（例如-0700）\n",
    "date_created = date_created[:-5]\n",
    "\n",
    "# 轉換日期時間字串為datetime物件\n",
    "datetime_obj = datetime.strptime(date_created, '%Y-%m-%dT%H:%M:%S')\n",
    "\n",
    "# 調整時區（從-0700調整為+0800）\n",
    "datetime_obj = datetime_obj + timedelta(hours=15)\n",
    "\n",
    "# 輸出調整後的日期時間字串\n",
    "print(\"調整後的dataCreated:\", datetime_obj.isoformat())\n",
    "\n",
    "# 或者，如果您希望將日期和時間分開輸出，可以這樣做：\n",
    "date_str = datetime_obj.strftime('%Y-%m-%d')\n",
    "time_str = datetime_obj.strftime('%H:%M:%S')\n",
    "print(\"調整後的日期:\", date_str)\n",
    "print(\"調整後的時間:\", time_str)\n",
    "\n",
    "# # 輸出結果\n",
    "# print(\"dateModified:\", date_modified)\n",
    "\n",
    "# date_temp = date_modified.split(\"T\")\n",
    "# print(date_temp)\n",
    "# post_date = date_temp[0]\n",
    "# post_time = date_temp[1][0:8]\n",
    "\n",
    "# post_YYYY = int(post_date.split('-')[0])\n",
    "# post_MM = int(post_date.split('-')[1])\n",
    "# post_DD = int(post_date.split('-')[2])\n",
    "\n",
    "# post_day = datetime(post_YYYY, post_MM, post_DD)\n",
    "# post_day = post_day.strftime(\"%w\")\n",
    "# if post_day == \"0\":\n",
    "#     post_day = \"7\"\n",
    "\n",
    "# print(post_date)\n",
    "# print(post_day)\n",
    "# print(post_time)\n"
   ]
  },
  {
   "cell_type": "code",
   "execution_count": 15,
   "id": "88342d5d",
   "metadata": {},
   "outputs": [],
   "source": [
    "driver_fb.quit()"
   ]
  },
  {
   "cell_type": "code",
   "execution_count": null,
   "id": "2b55de94",
   "metadata": {},
   "outputs": [],
   "source": [
    "driver_bt = webdriver.Chrome(path)\n",
    "\n",
    "driver_bt.get(web_bt)\n",
    "\n",
    "driver_bt.maximize_window()\n"
   ]
  },
  {
   "cell_type": "code",
   "execution_count": null,
   "id": "8eb7ec28",
   "metadata": {},
   "outputs": [],
   "source": [
    "# find article classification\n",
    "article_class = []\n",
    "\n",
    "article_class.append(driver_bt.find_element_by_xpath(\"//p[@class='context__info-item context__info-item--type']\").text)\n",
    "print(article_class)\n"
   ]
  },
  {
   "cell_type": "code",
   "execution_count": null,
   "id": "a2fff2c5",
   "metadata": {},
   "outputs": [],
   "source": [
    "# url = web_bt\n",
    "# print(url)\n",
    "# headers={\"user-agent\":\"Mozilla/5.0 (Windows NT 10.0; Win64; x64) AppleWebKit/537.36 (KHTML, like Gecko) Chrome/113.0.0.0 Safari/537.36\"}\n",
    "# response = requests.get(url)\n",
    "# bt_html = BeautifulSoup(response.text, \"lxml\")\n",
    "\n",
    "# ct_class = bt_html.find(\"p\", {\"class\":\"context__info-item context__info-item--type\"}).getText()\n",
    "# print(ct_class)\n",
    "# # # --- Begin 文章分類及文章發佈日 ---\n",
    "    \n",
    "# # content_all = bt_html.find_all(\"div\", {\"class\":\"article__wrap\"})  # 文章內容\n",
    "\n",
    "# # lst_content_class = []\n",
    "\n",
    "# # for content in content_all:  # r: 一個li區塊\n",
    "# #     ct_class = content.find(\"p\", {\"class\":\"context__info-item context__info-item--type\"})  # 文章分類\n",
    "# #     lst_content_class.append(ct_class.getText())\n",
    "# #     print(ct_class.getText())\n",
    "\n",
    "# # # --- End 文章分類及文章發佈日 ---"
   ]
  },
  {
   "cell_type": "code",
   "execution_count": null,
   "id": "adf39dc6",
   "metadata": {},
   "outputs": [],
   "source": []
  },
  {
   "cell_type": "code",
   "execution_count": null,
   "id": "fb3d5734",
   "metadata": {},
   "outputs": [],
   "source": []
  },
  {
   "cell_type": "code",
   "execution_count": null,
   "id": "b64320b0",
   "metadata": {},
   "outputs": [],
   "source": []
  },
  {
   "cell_type": "code",
   "execution_count": null,
   "id": "1e32bace",
   "metadata": {},
   "outputs": [],
   "source": []
  },
  {
   "cell_type": "code",
   "execution_count": null,
   "id": "989270bd",
   "metadata": {},
   "outputs": [],
   "source": [
    "driver_bt.quit()"
   ]
  },
  {
   "cell_type": "code",
   "execution_count": null,
   "id": "84653566",
   "metadata": {},
   "outputs": [],
   "source": [
    "# Define Business Today Classification\n",
    "lst_產業動態 = ['產業動態', '科技', '傳產', '產業動態', '國際瞭望', '兩岸三地']\n",
    "lst_金融保險 = ['金融保險', '金融', '保險', '稅制', '勞保勞退']\n",
    "lst_國際總經 = ['國際總經']\n",
    "lst_政治社會 = ['政治社會']\n",
    "lst_投資理財 = ['投資理財', '台股', '全球股市', '債券基金', '信用卡', '理財', 'ETF', '聰明理財', '股債前線', '基金投資', '房地產掃瞄', '保險稅務']\n",
    "lst_健康休閒 = ['健康休閒', '健康', '健康']\n",
    "lst_生活消費 = ['生活消費', '美食旅遊', '品味收藏', '情感關係', '品味人生', '美食旅遊']\n",
    "lst_職場學習 = ['職場學習', '職場', '教育', '退休', '個人成長', '管理', '行銷', '創業', '教育']\n",
    "lst_家庭教育 = ['家庭教育']\n",
    "lst_幸福熟齡 = ['幸福熟齡', '預約美好告別']\n",
    "lst_房地產   = ['房地產']\n",
    "lst_ESG      = ['ESG']\n",
    "lst_訂閱制   = ['訂閱制']\n",
    "lst_財經時事 = ['財經時事', '焦點新聞', '科技線上', '金融風雲']\n",
    "lst_今選頻道 = ['今選頻道', '話題人物', '最新觀點', '名人專欄', '編輯室報告']"
   ]
  },
  {
   "cell_type": "code",
   "execution_count": null,
   "id": "5dab5641",
   "metadata": {},
   "outputs": [],
   "source": [
    "lst_article_class = []\n",
    "for item in article_class:\n",
    "    if item in lst_產業動態:\n",
    "        lst_article_class.append('產業動態')\n",
    "        \n",
    "    elif item in lst_金融保險:\n",
    "        lst_article_class.append('金融保險')\n",
    "        \n",
    "    elif item in lst_國際總經:\n",
    "        lst_article_class.append('國際總經')\n",
    "        \n",
    "    elif item in lst_政治社會:\n",
    "        lst_article_class.append('政治社會')\n",
    "        \n",
    "    elif item in lst_投資理財:\n",
    "        lst_article_class.append('投資理財')\n",
    "        \n",
    "    elif item in lst_健康休閒:\n",
    "        lst_article_class.append('健康休閒')\n",
    "\n",
    "    elif item in lst_生活消費:\n",
    "        lst_article_class.append('生活消費')\n",
    "        \n",
    "    elif item in lst_職場學習:\n",
    "        lst_article_class.append('職場學習')\n",
    "        \n",
    "    elif item in lst_家庭教育:\n",
    "        lst_article_class.append('家庭教育')\n",
    "        \n",
    "    elif item in lst_幸福熟齡:\n",
    "        lst_article_class.append('幸福熟齡')\n",
    "        \n",
    "    elif item in lst_房地產:\n",
    "        lst_article_class.append('房地產')\n",
    "        \n",
    "    elif item in lst_ESG:\n",
    "        lst_article_class.append('ESG')\n",
    "        \n",
    "    elif item in lst_訂閱制:\n",
    "        lst_article_class.append('訂閱制')\n",
    "        \n",
    "    elif item in lst_今選頻道:\n",
    "        lst_article_class.append('今選頻道')\n",
    "        \n",
    "    else:\n",
    "        lst_article_class.append(item)"
   ]
  },
  {
   "cell_type": "code",
   "execution_count": null,
   "id": "b114ddea",
   "metadata": {},
   "outputs": [],
   "source": [
    "lst_article_class"
   ]
  },
  {
   "cell_type": "code",
   "execution_count": null,
   "id": "4eb8385c",
   "metadata": {},
   "outputs": [],
   "source": [
    "# 幸福熟齡\n",
    "\n",
    "# https://thebetteraging.businesstoday.com.tw/article/detail/202305230009?utm_source=FACEBOOK&utm_medium=%E5%88%86%E4%BA%AB%E4%BB%8A%E5%91%A8&utm_campaign=230529\n",
    "\n",
    "web_betteraging = 'https://thebetteraging.businesstoday.com.tw/article/detail/202305230009'\n",
    "\n",
    "driver_bt = webdriver.Chrome(path)\n",
    "\n",
    "driver_bt.get(web_betteraging)\n",
    "\n",
    "driver_bt.maximize_window()\n"
   ]
  },
  {
   "cell_type": "code",
   "execution_count": null,
   "id": "6ec31906",
   "metadata": {},
   "outputs": [],
   "source": [
    "url = 'https://www.facebook.com/flx/warn/?u=https%3A%2F%2Fwww.businesstoday.com.tw%2Farticle%2Fcategory%2F192008%2Fpost%2F202305290017%2F%3Futm_source%3DFB%26utm_medium%3Darticle%26utm_campaign%3D230529&h=AT02ZoXOS44pYPalrWpaJJT1TALFHOQWK2skNO7dOk3rZLhOLcBAW5TlM1ZDJQliMV2OkhjmbT9l-Fj3qWT_yH8SwHETOsGUQbgLLC_cj26QGYGEcyqsruQc1GIAJuwyISfHApEh5hBxc6IBCTjoXP15vqAQ5o2Sm9VhStpWN__p6-mdv2KOw4a-xROla_lLYKNsaLzN51yeYec2W3CBhWdZFrJ1EHz3OEzCT2gHGBUxRnUBZl6DOCjXmT5WIW_L8_nd7CdWA4dVMzRgjtlc2aja0ktQQcIkPtILgnlx9UIr0G29b4cnknq08W_XZ-KEo5ScoW1pvT-Tk6ULT6A5TgG-MCr2afwAAJdYKwE8q0eBMTAHb64yTwsAiJWiCAo0yU4tWZFIddYFMqHQA-UZZjubnJqsQqavnqqlcHGTU5XhR7PZHNercMHXn8HWX-FTnw0sNUWkdl7jjhZGJSq-OzdEMZuMuzh3Vb2NDfJersqjPgFHZjEU23zFGwt18Y31aPJviLCpSH__PjZInSQz7hWtD0IMhAUP1omJGVhtSrLIfbHuFzNA9rPB0sRY9pN6c62Y0EDL5J-EHg3rxrhcrPo'\n",
    "\n",
    "response1 = requests.get(url)\n",
    "fb_to_bt_html = BeautifulSoup(response1.text, \"lxml\")\n",
    "\n",
    "# print(fb_to_bt_html)\n",
    "\n",
    "web_bt = fb_to_bt_html.find(\"span\", {\"class\":\"_5slv\"}).getText()\n",
    "\n",
    "print(web_bt)\n",
    "\n",
    "headers={\"user-agent\":\"Mozilla/5.0 (Windows NT 10.0; Win64; x64) AppleWebKit/537.36 (KHTML, like Gecko) Chrome/113.0.0.0 Safari/537.36\"}\n",
    "response2 = requests.get(web_bt, headers = headers)\n",
    "bt_html = BeautifulSoup(response2.text, \"lxml\")\n",
    "            \n",
    "# -- End Get BT URL --\n",
    "\n",
    "# -- Begin Find Article Class --\n",
    "\n",
    "link_class = bt_html.find(\"p\", {\"class\":\"context__info-item context__info-item--type\"}).getText()\n",
    "print(link_class)"
   ]
  },
  {
   "cell_type": "code",
   "execution_count": null,
   "id": "bea8202c",
   "metadata": {},
   "outputs": [],
   "source": [
    "print(web_bt)"
   ]
  },
  {
   "cell_type": "code",
   "execution_count": null,
   "id": "62ce8895",
   "metadata": {},
   "outputs": [],
   "source": []
  }
 ],
 "metadata": {
  "kernelspec": {
   "display_name": "Python 3 (ipykernel)",
   "language": "python",
   "name": "python3"
  },
  "language_info": {
   "codemirror_mode": {
    "name": "ipython",
    "version": 3
   },
   "file_extension": ".py",
   "mimetype": "text/x-python",
   "name": "python",
   "nbconvert_exporter": "python",
   "pygments_lexer": "ipython3",
   "version": "3.10.9"
  }
 },
 "nbformat": 4,
 "nbformat_minor": 5
}
