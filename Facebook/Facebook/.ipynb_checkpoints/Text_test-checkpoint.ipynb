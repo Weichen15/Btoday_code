{
 "cells": [
  {
   "cell_type": "code",
   "execution_count": 1,
   "id": "628cb8d8",
   "metadata": {},
   "outputs": [],
   "source": [
    "from selenium import webdriver\n",
    "from selenium.webdriver.common.by import By\n",
    "from selenium.webdriver.support.ui import WebDriverWait\n",
    "from selenium.webdriver.support import expected_conditions as EC\n",
    "\n",
    "import time\n",
    "\n",
    "import pandas as pd\n",
    "# import re\n",
    "\n",
    "from datetime import datetime, timedelta\n",
    "\n",
    "import json"
   ]
  },
  {
   "cell_type": "code",
   "execution_count": 2,
   "id": "0c44032b",
   "metadata": {},
   "outputs": [],
   "source": [
    "# Text\n",
    "\n",
    "# web_fb = 'https://www.facebook.com/BToday/posts/pfbid0yNN4EdBKS75yQfhgQyyy5zjVi9om4gtrzRQ3B4zK3vZyLSXcR8SjUwXkRd1dk88Al'\n",
    "\n",
    "# web_fb = 'https://www.facebook.com/BToday/posts/pfbid02tpcwHxbRzMcs1GCVzsRnpvBxeZRTivfb5ioN5pXBNYs5Hk5n6JNjn7rQf8eJb7dpl'\n",
    "\n",
    "# web_fb = 'https://www.facebook.com/BToday/posts/pfbid0i3ionkYH8VYDxNE31HrruZV66DSFn5cY9LLE1HueAdgGHartXv92xo37iMa7zC8Ql'\n",
    "\n",
    "# web_fb = 'https://www.facebook.com/BToday/posts/pfbid02cghTMoJteqnS6eFapQZzhGwMry2T5dvz7kBJ93cdhG5Em24YV7hKcWwFRLJbHA56l'\n",
    "\n",
    "web_fb = 'https://www.facebook.com/BToday/posts/pfbid02dnkWFTbg2Gz7zbcMqtiypNjAkXhUpk1xoRe1kftCYRPfhK5oTVMU3Ni4iqbySCYnl'\n",
    "\n",
    "path = 'C:/Users/JoeJian/OneDrive - Business Today Magazine/桌面/Python Codes/Web_Scraping_in_Python_BeautifulSoup_Selenium&Scrapy_2023/ChromeDriver/chromedriver'\n",
    "\n",
    "# driver_fb = webdriver.Chrome(path)\n",
    "\n",
    "# driver_fb.get(web_fb)\n",
    "\n",
    "# driver_fb.maximize_window()\n"
   ]
  },
  {
   "cell_type": "code",
   "execution_count": 3,
   "id": "6bbf74cb",
   "metadata": {},
   "outputs": [],
   "source": [
    "driver_fb = webdriver.Chrome(path)\n",
    "\n",
    "driver_fb.get(web_fb)\n",
    "\n",
    "driver_fb.maximize_window()"
   ]
  },
  {
   "cell_type": "code",
   "execution_count": 12,
   "id": "49712a5f",
   "metadata": {},
   "outputs": [
    {
     "name": "stdout",
     "output_type": "stream",
     "text": [
      "date_created:  2023年6月6日 星期二上午6:20\n",
      "date_str:  2023年6月6日\n",
      "time_str:  上午6:20\n",
      "date_obj:  2023-06-06 00:00:00\n",
      "time_str[2:].split(':')  ['6', '20']\n",
      "hour:  6\n",
      "minute:  20\n",
      "調整後的日期: 2023-06-06\n",
      "調整後的時間: 06:20:00\n",
      "2023-06-06   2   06:20:00\n"
     ]
    }
   ],
   "source": [
    "# -- Begin Find to FB post Date & Time --\n",
    "\n",
    "# 找到包含\"dataCreated\"的script元素\n",
    "#     script_element = driver_fb.find_element_by_xpath('//script[@type=\"application/ld+json\"]')\n",
    "date_created = driver_fb.find_element_by_xpath('//a[@class=\"_5pcq\"]/abbr').get_attribute('data-tooltip-content')\n",
    "\n",
    "print(\"date_created: \", date_created)\n",
    "\n",
    "#     # 獲取script元素的內容\n",
    "#     date_created = script_element.get_attribute('data-tooltip-content')\n",
    "\n",
    "# 解析日期時間字串，取得日期和時間\n",
    "date_str, time_str = date_created.split(' ')[0], date_created.split(' ')[1]\n",
    "time_str = time_str[3:]\n",
    "print('date_str: ', date_str)\n",
    "print('time_str: ', time_str)\n",
    "\n",
    "# 解析日期\n",
    "date_obj = datetime.strptime(date_str, \"%Y年%m月%d日\")\n",
    "print(\"date_obj: \", date_obj)\n",
    "\n",
    "print(\"time_str[2:].split(':') \", time_str[2:].split(':'))\n",
    "\n",
    "# 解析時間，這裡假設時間字串為上午時段，可以進一步判斷是上午還是下午\n",
    "hour, minute = map(int, time_str[2:].split(':'))\n",
    "\n",
    "print(\"hour: \", hour)\n",
    "print(\"minute: \", minute)\n",
    "\n",
    "if '上午' in time_str:\n",
    "    # 上午時段，不需要做任何調整\n",
    "    pass\n",
    "else:\n",
    "    # 下午時段，加12小時\n",
    "    hour += 12\n",
    "\n",
    "    \n",
    "    \n",
    "# 建立新的datetime物件\n",
    "datetime_obj = datetime(date_obj.year, date_obj.month, date_obj.day, hour, minute)\n",
    "\n",
    "# # 調整時區（從當地時區調整為UTC+8）\n",
    "# datetime_obj = datetime_obj + timedelta(hours=15)\n",
    "\n",
    "#     # 解析JSON資料，取得\"dataCreated\"的值\n",
    "\n",
    "#     data = json.loads(script_content)\n",
    "#     date_created = data['dateCreated']\n",
    "#     print(\"date:\", date_created)\n",
    "\n",
    "#     # 移除時區資訊（例如-0700）\n",
    "#     date_created = date_created[:-5]\n",
    "\n",
    "#     # 轉換日期時間字串為datetime物件\n",
    "#     datetime_obj = datetime.strptime(date_created, '%Y-%m-%dT%H:%M:%S')\n",
    "\n",
    "#     # 調整時區（從-0700調整為+0800）\n",
    "#     datetime_obj = datetime_obj + timedelta(hours=15)\n",
    "\n",
    "# 或者，如果您希望將日期和時間分開輸出，可以這樣做：\n",
    "date_str = datetime_obj.strftime('%Y-%m-%d')\n",
    "time_str = datetime_obj.strftime('%H:%M:%S')\n",
    "print(\"調整後的日期:\", date_str)\n",
    "print(\"調整後的時間:\", time_str)\n",
    "\n",
    "post_YYYY = int(date_str.split('-')[0])\n",
    "post_MM = int(date_str.split('-')[1])\n",
    "post_DD = int(date_str.split('-')[2])\n",
    "\n",
    "day_str = datetime(post_YYYY, post_MM, post_DD)\n",
    "day_str = day_str.strftime(\"%w\")\n",
    "if day_str == \"0\":\n",
    "    day_str = \"7\"\n",
    "\n",
    "print(date_str, \" \", day_str, \" \", time_str)\n"
   ]
  },
  {
   "cell_type": "code",
   "execution_count": 4,
   "id": "25effb3e",
   "metadata": {
    "scrolled": true
   },
   "outputs": [
    {
     "name": "stdout",
     "output_type": "stream",
     "text": [
      "0\n",
      "今周刊\n",
      "['https://l.facebook.com/l.php?u=https%3A%2F%2Fbit.ly%2F3LsZIiB&h=AT2wQbjqYJky9lRnLnCQAVzK_sN0XHXav5qxhLtu3myhgEGG4jM85CH6O7Oc1Wo9TODsEds9I21Rh2S-Fy2Mgvnf51abfz_FSn2CVvDwGr9T2by35aGRiRemtCPbBRbO-kXN-KIA6NZVC5cgGxOR']\n"
     ]
    }
   ],
   "source": [
    "\n",
    "\n",
    "# Click comment button\n",
    "comment_button = WebDriverWait(driver_fb, 5).until(EC.presence_of_element_located((By.XPATH, \"//span[@class='_1whp _4vn2']\")))\n",
    "\n",
    "# comment_button = driver_fb.find_element_by_xpath(\"//span[@class='_1whp _4vn2']\")\n",
    "\n",
    "comment_button.click()\n",
    "\n",
    "# 2023/06/14 換成抓留言區的連結\n",
    "\n",
    "# lst_fb_comment_all = WebDriverWait(driver_fb, 5).until(EC.presence_of_element_located((By.XPATH, \"//div[@class='_72vr']\")))\n",
    "\n",
    "time.sleep(1)\n",
    "lst_fb_comment_all = driver_fb.find_elements_by_xpath(\"//div[@class='_72vr']\")\n",
    "\n",
    "lst_web_href = []\n",
    "\n",
    "for comment_num in range(len(lst_fb_comment_all)):\n",
    "    \n",
    "    print(comment_num)\n",
    "    try:\n",
    "        print(lst_fb_comment_all[comment_num].find_element_by_xpath(\".//a\").text)\n",
    "    \n",
    "        if lst_fb_comment_all[comment_num].find_element_by_xpath(\".//a\").text == \"今周刊\":\n",
    "            \n",
    "            # 抓取今周刊留言的資料\n",
    "    #                 bt_comment = lst_fb_comment_all[comment_num].text\n",
    "    \n",
    "            lst_fb_href = lst_fb_comment_all[comment_num].find_elements_by_xpath(\".//span/span/a\")\n",
    "            \n",
    "            for fb_href in lst_fb_href:\n",
    "                lst_web_href.append(fb_href.get_attribute(\"href\"))\n",
    "#                 print(a_href)\n",
    "#                 if \"businesstoday\" in a_href:\n",
    "#                     bt_comment = a_href\n",
    "#             bt_comment = lst_fb_comment_all[comment_num].find_element_by_xpath(\".//span/span/a\").get_attribute(\"href\")\n",
    "        break\n",
    "    \n",
    "    except:\n",
    "        pass\n",
    "\n",
    "print(lst_web_href)\n",
    "\n",
    "# web_bt = bt_comment\n",
    "\n",
    "# driver_fb.quit()"
   ]
  },
  {
   "cell_type": "code",
   "execution_count": 12,
   "id": "7d50338f",
   "metadata": {},
   "outputs": [
    {
     "name": "stdout",
     "output_type": "stream",
     "text": [
      "https://l.facebook.com/l.php?u=https%3A%2F%2Fbit.ly%2F3ORaNg6&h=AT0hoyrL1ggH8cuw98Dt8pj505AJUnTOZycYnNq6rSw593Dk0HSQvU67vCrBwlgbowH9guJbBCW331iLuTlNsyYlt_jXNUoNhMF5s6MVSesBmYxGjNq_MoRGG9peI2q_3znmB5UbDBfYrb4rLaRd\n"
     ]
    }
   ],
   "source": [
    "web_bt = ['https://www.facebook.com/hashtag/%E7%A7%9F%E9%87%91%E8%A3%9C%E8%B2%BC?__eep__=6&hc_location=ufi',\"https://l.facebook.com/l.php?u=https%3A%2F%2Fbit.ly%2F3ORaNg6&h=AT0hoyrL1ggH8cuw98Dt8pj505AJUnTOZycYnNq6rSw593Dk0HSQvU67vCrBwlgbowH9guJbBCW331iLuTlNsyYlt_jXNUoNhMF5s6MVSesBmYxGjNq_MoRGG9peI2q_3znmB5UbDBfYrb4rLaRd\"]\n",
    "\n",
    "for item in web_bt:\n",
    "    \n",
    "    if \"hashtag\" not in item:\n",
    "#             print(web_bt)\n",
    "\n",
    "        print(item)"
   ]
  },
  {
   "cell_type": "code",
   "execution_count": null,
   "id": "9d6ee01c",
   "metadata": {},
   "outputs": [],
   "source": [
    "\n",
    "# Click comment button\n",
    "comment_button = WebDriverWait(driver_fb, 5).until(EC.presence_of_element_located((By.XPATH, \"//span[@class='_1whp _4vn2']\")))\n",
    "\n",
    "# comment_button = driver_fb.find_element_by_xpath(\"//span[@class='_1whp _4vn2']\")\n",
    "\n",
    "comment_button.click()"
   ]
  },
  {
   "cell_type": "code",
   "execution_count": null,
   "id": "ca75c7cf",
   "metadata": {},
   "outputs": [],
   "source": [
    "lst_fb_comment_all = driver_fb.find_elements_by_xpath(\"//div[@class='_72vr']\")\n",
    "\n",
    "for comment_num in range(len(lst_fb_comment_all)):\n",
    "    \n",
    "    print(comment_num)\n",
    "    try:\n",
    "        print(lst_fb_comment_all[comment_num].find_element_by_xpath(\".//a\").text)\n",
    "    \n",
    "        if lst_fb_comment_all[comment_num].find_element_by_xpath(\".//a\").text == \"今周刊\":\n",
    "            \n",
    "            # 抓取今周刊留言的資料\n",
    "    #                 bt_comment = lst_fb_comment_all[comment_num].text\n",
    "    \n",
    "            lst_fb_href = lst_fb_comment_all[comment_num].find_elements_by_xpath(\".//span/span/a\")\n",
    "            \n",
    "            for fb_href in lst_fb_href:\n",
    "                a_href = fb_href.get_attribute(\"href\")\n",
    "#                 print(a_href)\n",
    "                if \"businesstoday\" in a_href:\n",
    "                    bt_comment = a_href\n",
    "#             bt_comment = lst_fb_comment_all[comment_num].find_element_by_xpath(\".//span/span/a\").get_attribute(\"href\")\n",
    "        break\n",
    "    \n",
    "    except:\n",
    "        pass\n",
    "\n",
    "print(bt_comment)\n",
    "\n",
    "web_bt = bt_comment"
   ]
  },
  {
   "cell_type": "code",
   "execution_count": null,
   "id": "527e7efa",
   "metadata": {},
   "outputs": [],
   "source": [
    "# type(a_href)"
   ]
  },
  {
   "cell_type": "code",
   "execution_count": null,
   "id": "eca5cc3b",
   "metadata": {},
   "outputs": [],
   "source": [
    "# fb_comment_all.text[:3] == \"今周刊\"\n",
    "\n",
    "# bt_comment = fb_comment_all.text"
   ]
  },
  {
   "cell_type": "code",
   "execution_count": null,
   "id": "765d6cee",
   "metadata": {},
   "outputs": [],
   "source": [
    "# bt_comment_lst = bt_comment.split(\"\\n\")\n",
    "# print(bt_comment_lst)"
   ]
  },
  {
   "cell_type": "code",
   "execution_count": null,
   "id": "6e36e10e",
   "metadata": {},
   "outputs": [],
   "source": [
    "# url_extract_pattern = \"https?:\\\\/\\\\/(?:www\\\\.)?[-a-zA-Z0-9@:%._\\\\+~#=]{1,256}\\\\.[a-zA-Z0-9()]{1,6}\\\\b(?:[-a-zA-Z0-9()@:%_\\\\+.~#?&\\\\/=]*)\"\n",
    "\n",
    "# for item in bt_comment_lst:\n",
    "# #     print(item)\n",
    "#     bt_web_url = re.findall(url_extract_pattern, item)\n",
    "#     if bt_web_url != \"\":\n",
    "#         print(type(bt_web_url))"
   ]
  },
  {
   "cell_type": "code",
   "execution_count": null,
   "id": "4a0d351d",
   "metadata": {},
   "outputs": [],
   "source": [
    "# bt_comment_lst"
   ]
  },
  {
   "cell_type": "code",
   "execution_count": null,
   "id": "6f75edb7",
   "metadata": {},
   "outputs": [],
   "source": [
    "# def extract_urls(url_list):\n",
    "#     http_pattern = re.compile(r'^https?://', re.IGNORECASE)\n",
    "#     wb_url = None\n",
    "\n",
    "#     for data in url_list:\n",
    "#         if http_pattern.match(data):\n",
    "#             wb_url = data\n",
    "#             break\n",
    "\n",
    "#     return wb_url\n",
    "\n",
    "# # # 測試資料\n",
    "# # data_list = ['www.example.com', 'https://www.example.com', 'http://www.example.com', 'ftp://www.example.com']\n",
    "\n",
    "# # 抓取符合條件的URL\n",
    "# wb_url = extract_urls(bt_comment_lst)\n",
    "\n",
    "# # 輸出結果\n",
    "# print(wb_url)\n"
   ]
  },
  {
   "cell_type": "code",
   "execution_count": null,
   "id": "44f29db1",
   "metadata": {},
   "outputs": [],
   "source": [
    "# # Get article link\n",
    "\n",
    "# web_bt_all = WebDriverWait(driver_fb, 5).until(EC.presence_of_element_located((By.XPATH, \"//div[@class='_4eeo']\")))\n",
    "# web_bt = web_bt_all.find_element_by_xpath(\"//div[@class='_3mvv']/a\").get_attribute('href')\n",
    "# print(web_bt)\n",
    "\n"
   ]
  },
  {
   "cell_type": "code",
   "execution_count": 5,
   "id": "ca794fc8",
   "metadata": {},
   "outputs": [],
   "source": [
    "driver_fb.quit()"
   ]
  },
  {
   "cell_type": "code",
   "execution_count": null,
   "id": "7740812c",
   "metadata": {},
   "outputs": [],
   "source": [
    "driver_bt = webdriver.Chrome(path)\n",
    "\n",
    "driver_bt.get(web_bt)\n",
    "\n",
    "driver_bt.maximize_window()\n"
   ]
  },
  {
   "cell_type": "code",
   "execution_count": null,
   "id": "0f0a6023",
   "metadata": {},
   "outputs": [],
   "source": [
    "# find article classification\n",
    "article_class = driver_bt.find_element_by_xpath(\"//p[@class='context__info-item context__info-item--type']\").text\n",
    "print(article_class)\n"
   ]
  },
  {
   "cell_type": "code",
   "execution_count": null,
   "id": "91aeea93",
   "metadata": {},
   "outputs": [],
   "source": [
    "driver_bt.quit()"
   ]
  },
  {
   "cell_type": "code",
   "execution_count": null,
   "id": "de900c07",
   "metadata": {},
   "outputs": [],
   "source": []
  }
 ],
 "metadata": {
  "kernelspec": {
   "display_name": "Python 3 (ipykernel)",
   "language": "python",
   "name": "python3"
  },
  "language_info": {
   "codemirror_mode": {
    "name": "ipython",
    "version": 3
   },
   "file_extension": ".py",
   "mimetype": "text/x-python",
   "name": "python",
   "nbconvert_exporter": "python",
   "pygments_lexer": "ipython3",
   "version": "3.10.9"
  }
 },
 "nbformat": 4,
 "nbformat_minor": 5
}
