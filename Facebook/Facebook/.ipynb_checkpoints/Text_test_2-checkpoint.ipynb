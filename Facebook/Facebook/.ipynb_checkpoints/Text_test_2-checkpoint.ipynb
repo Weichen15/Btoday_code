{
 "cells": [
  {
   "cell_type": "code",
   "execution_count": 7,
   "id": "628cb8d8",
   "metadata": {},
   "outputs": [],
   "source": [
    "from selenium import webdriver\n",
    "from selenium.webdriver.common.by import By\n",
    "from selenium.webdriver.support.ui import WebDriverWait\n",
    "from selenium.webdriver.support import expected_conditions as EC\n",
    "\n",
    "import time\n",
    "\n",
    "import pandas as pd\n",
    "# import re\n",
    "\n",
    "from datetime import datetime, timedelta\n",
    "\n",
    "import json\n",
    "\n",
    "from urllib.parse import unquote\n",
    "import urllib\n",
    "\n",
    "import requests\n",
    "from bs4 import BeautifulSoup"
   ]
  },
  {
   "cell_type": "code",
   "execution_count": 2,
   "id": "0c44032b",
   "metadata": {},
   "outputs": [],
   "source": [
    "# Text\n",
    "\n",
    "# web_fb = 'https://www.facebook.com/BToday/posts/pfbid0yNN4EdBKS75yQfhgQyyy5zjVi9om4gtrzRQ3B4zK3vZyLSXcR8SjUwXkRd1dk88Al'\n",
    "\n",
    "# web_fb = 'https://www.facebook.com/BToday/posts/pfbid02tpcwHxbRzMcs1GCVzsRnpvBxeZRTivfb5ioN5pXBNYs5Hk5n6JNjn7rQf8eJb7dpl'\n",
    "\n",
    "# web_fb = 'https://www.facebook.com/BToday/posts/pfbid0i3ionkYH8VYDxNE31HrruZV66DSFn5cY9LLE1HueAdgGHartXv92xo37iMa7zC8Ql'\n",
    "\n",
    "# web_fb = 'https://www.facebook.com/BToday/posts/pfbid02cghTMoJteqnS6eFapQZzhGwMry2T5dvz7kBJ93cdhG5Em24YV7hKcWwFRLJbHA56l'\n",
    "\n",
    "web_fb = 'https://www.facebook.com/BToday/posts/pfbid04Td8hFwAPHFp343xAbtjZXdpqcV7xzfEogKAP9CTufPG41k8aBcDSgHzb718bjRml'\n",
    "\n",
    "\n",
    "path = 'C:/Users/JoeJian/OneDrive - Business Today Magazine/桌面/Python Codes/Web_Scraping_in_Python_BeautifulSoup_Selenium&Scrapy_2023/ChromeDriver/chromedriver'\n",
    "\n",
    "# driver_fb = webdriver.Chrome(path)\n",
    "\n",
    "# driver_fb.get(web_fb)\n",
    "\n",
    "# driver_fb.maximize_window()\n"
   ]
  },
  {
   "cell_type": "code",
   "execution_count": 3,
   "id": "6bbf74cb",
   "metadata": {},
   "outputs": [],
   "source": [
    "driver_fb = webdriver.Chrome(path)\n",
    "\n",
    "driver_fb.get(web_fb)\n",
    "\n",
    "driver_fb.maximize_window()"
   ]
  },
  {
   "cell_type": "code",
   "execution_count": 4,
   "id": "49712a5f",
   "metadata": {
    "scrolled": true
   },
   "outputs": [
    {
     "ename": "NoSuchElementException",
     "evalue": "Message: no such element: Unable to locate element: {\"method\":\"xpath\",\"selector\":\"//a[@class=\"_5pcq\"]/abbr\"}\n  (Session info: chrome=115.0.5790.110)\n",
     "output_type": "error",
     "traceback": [
      "\u001b[1;31m---------------------------------------------------------------------------\u001b[0m",
      "\u001b[1;31mNoSuchElementException\u001b[0m                    Traceback (most recent call last)",
      "Cell \u001b[1;32mIn[4], line 5\u001b[0m\n\u001b[0;32m      1\u001b[0m \u001b[38;5;66;03m# -- Begin Find to FB post Date & Time --\u001b[39;00m\n\u001b[0;32m      2\u001b[0m \n\u001b[0;32m      3\u001b[0m \u001b[38;5;66;03m# 找到包含\"dataCreated\"的script元素\u001b[39;00m\n\u001b[0;32m      4\u001b[0m \u001b[38;5;66;03m#     script_element = driver_fb.find_element_by_xpath('//script[@type=\"application/ld+json\"]')\u001b[39;00m\n\u001b[1;32m----> 5\u001b[0m date_created \u001b[38;5;241m=\u001b[39m \u001b[43mdriver_fb\u001b[49m\u001b[38;5;241;43m.\u001b[39;49m\u001b[43mfind_element_by_xpath\u001b[49m\u001b[43m(\u001b[49m\u001b[38;5;124;43m'\u001b[39;49m\u001b[38;5;124;43m//a[@class=\u001b[39;49m\u001b[38;5;124;43m\"\u001b[39;49m\u001b[38;5;124;43m_5pcq\u001b[39;49m\u001b[38;5;124;43m\"\u001b[39;49m\u001b[38;5;124;43m]/abbr\u001b[39;49m\u001b[38;5;124;43m'\u001b[39;49m\u001b[43m)\u001b[49m\u001b[38;5;241m.\u001b[39mget_attribute(\u001b[38;5;124m'\u001b[39m\u001b[38;5;124mdata-tooltip-content\u001b[39m\u001b[38;5;124m'\u001b[39m)\n\u001b[0;32m      7\u001b[0m \u001b[38;5;28mprint\u001b[39m(\u001b[38;5;124m\"\u001b[39m\u001b[38;5;124mdate_created: \u001b[39m\u001b[38;5;124m\"\u001b[39m, date_created)\n\u001b[0;32m      9\u001b[0m \u001b[38;5;66;03m#     # 獲取script元素的內容\u001b[39;00m\n\u001b[0;32m     10\u001b[0m \u001b[38;5;66;03m#     date_created = script_element.get_attribute('data-tooltip-content')\u001b[39;00m\n\u001b[0;32m     11\u001b[0m \n\u001b[0;32m     12\u001b[0m \u001b[38;5;66;03m# 解析日期時間字串，取得日期和時間\u001b[39;00m\n",
      "File \u001b[1;32m~\\anaconda3\\lib\\site-packages\\selenium\\webdriver\\remote\\webdriver.py:394\u001b[0m, in \u001b[0;36mWebDriver.find_element_by_xpath\u001b[1;34m(self, xpath)\u001b[0m\n\u001b[0;32m    378\u001b[0m \u001b[38;5;28;01mdef\u001b[39;00m \u001b[38;5;21mfind_element_by_xpath\u001b[39m(\u001b[38;5;28mself\u001b[39m, xpath):\n\u001b[0;32m    379\u001b[0m     \u001b[38;5;124;03m\"\"\"\u001b[39;00m\n\u001b[0;32m    380\u001b[0m \u001b[38;5;124;03m    Finds an element by xpath.\u001b[39;00m\n\u001b[0;32m    381\u001b[0m \n\u001b[1;32m   (...)\u001b[0m\n\u001b[0;32m    392\u001b[0m \u001b[38;5;124;03m        element = driver.find_element_by_xpath('//div/td[1]')\u001b[39;00m\n\u001b[0;32m    393\u001b[0m \u001b[38;5;124;03m    \"\"\"\u001b[39;00m\n\u001b[1;32m--> 394\u001b[0m     \u001b[38;5;28;01mreturn\u001b[39;00m \u001b[38;5;28;43mself\u001b[39;49m\u001b[38;5;241;43m.\u001b[39;49m\u001b[43mfind_element\u001b[49m\u001b[43m(\u001b[49m\u001b[43mby\u001b[49m\u001b[38;5;241;43m=\u001b[39;49m\u001b[43mBy\u001b[49m\u001b[38;5;241;43m.\u001b[39;49m\u001b[43mXPATH\u001b[49m\u001b[43m,\u001b[49m\u001b[43m \u001b[49m\u001b[43mvalue\u001b[49m\u001b[38;5;241;43m=\u001b[39;49m\u001b[43mxpath\u001b[49m\u001b[43m)\u001b[49m\n",
      "File \u001b[1;32m~\\anaconda3\\lib\\site-packages\\selenium\\webdriver\\remote\\webdriver.py:976\u001b[0m, in \u001b[0;36mWebDriver.find_element\u001b[1;34m(self, by, value)\u001b[0m\n\u001b[0;32m    974\u001b[0m         by \u001b[38;5;241m=\u001b[39m By\u001b[38;5;241m.\u001b[39mCSS_SELECTOR\n\u001b[0;32m    975\u001b[0m         value \u001b[38;5;241m=\u001b[39m \u001b[38;5;124m'\u001b[39m\u001b[38;5;124m[name=\u001b[39m\u001b[38;5;124m\"\u001b[39m\u001b[38;5;132;01m%s\u001b[39;00m\u001b[38;5;124m\"\u001b[39m\u001b[38;5;124m]\u001b[39m\u001b[38;5;124m'\u001b[39m \u001b[38;5;241m%\u001b[39m value\n\u001b[1;32m--> 976\u001b[0m \u001b[38;5;28;01mreturn\u001b[39;00m \u001b[38;5;28;43mself\u001b[39;49m\u001b[38;5;241;43m.\u001b[39;49m\u001b[43mexecute\u001b[49m\u001b[43m(\u001b[49m\u001b[43mCommand\u001b[49m\u001b[38;5;241;43m.\u001b[39;49m\u001b[43mFIND_ELEMENT\u001b[49m\u001b[43m,\u001b[49m\u001b[43m \u001b[49m\u001b[43m{\u001b[49m\n\u001b[0;32m    977\u001b[0m \u001b[43m    \u001b[49m\u001b[38;5;124;43m'\u001b[39;49m\u001b[38;5;124;43musing\u001b[39;49m\u001b[38;5;124;43m'\u001b[39;49m\u001b[43m:\u001b[49m\u001b[43m \u001b[49m\u001b[43mby\u001b[49m\u001b[43m,\u001b[49m\n\u001b[0;32m    978\u001b[0m \u001b[43m    \u001b[49m\u001b[38;5;124;43m'\u001b[39;49m\u001b[38;5;124;43mvalue\u001b[39;49m\u001b[38;5;124;43m'\u001b[39;49m\u001b[43m:\u001b[49m\u001b[43m \u001b[49m\u001b[43mvalue\u001b[49m\u001b[43m}\u001b[49m\u001b[43m)\u001b[49m[\u001b[38;5;124m'\u001b[39m\u001b[38;5;124mvalue\u001b[39m\u001b[38;5;124m'\u001b[39m]\n",
      "File \u001b[1;32m~\\anaconda3\\lib\\site-packages\\selenium\\webdriver\\remote\\webdriver.py:321\u001b[0m, in \u001b[0;36mWebDriver.execute\u001b[1;34m(self, driver_command, params)\u001b[0m\n\u001b[0;32m    319\u001b[0m response \u001b[38;5;241m=\u001b[39m \u001b[38;5;28mself\u001b[39m\u001b[38;5;241m.\u001b[39mcommand_executor\u001b[38;5;241m.\u001b[39mexecute(driver_command, params)\n\u001b[0;32m    320\u001b[0m \u001b[38;5;28;01mif\u001b[39;00m response:\n\u001b[1;32m--> 321\u001b[0m     \u001b[38;5;28;43mself\u001b[39;49m\u001b[38;5;241;43m.\u001b[39;49m\u001b[43merror_handler\u001b[49m\u001b[38;5;241;43m.\u001b[39;49m\u001b[43mcheck_response\u001b[49m\u001b[43m(\u001b[49m\u001b[43mresponse\u001b[49m\u001b[43m)\u001b[49m\n\u001b[0;32m    322\u001b[0m     response[\u001b[38;5;124m'\u001b[39m\u001b[38;5;124mvalue\u001b[39m\u001b[38;5;124m'\u001b[39m] \u001b[38;5;241m=\u001b[39m \u001b[38;5;28mself\u001b[39m\u001b[38;5;241m.\u001b[39m_unwrap_value(\n\u001b[0;32m    323\u001b[0m         response\u001b[38;5;241m.\u001b[39mget(\u001b[38;5;124m'\u001b[39m\u001b[38;5;124mvalue\u001b[39m\u001b[38;5;124m'\u001b[39m, \u001b[38;5;28;01mNone\u001b[39;00m))\n\u001b[0;32m    324\u001b[0m     \u001b[38;5;28;01mreturn\u001b[39;00m response\n",
      "File \u001b[1;32m~\\anaconda3\\lib\\site-packages\\selenium\\webdriver\\remote\\errorhandler.py:242\u001b[0m, in \u001b[0;36mErrorHandler.check_response\u001b[1;34m(self, response)\u001b[0m\n\u001b[0;32m    240\u001b[0m         alert_text \u001b[38;5;241m=\u001b[39m value[\u001b[38;5;124m'\u001b[39m\u001b[38;5;124malert\u001b[39m\u001b[38;5;124m'\u001b[39m]\u001b[38;5;241m.\u001b[39mget(\u001b[38;5;124m'\u001b[39m\u001b[38;5;124mtext\u001b[39m\u001b[38;5;124m'\u001b[39m)\n\u001b[0;32m    241\u001b[0m     \u001b[38;5;28;01mraise\u001b[39;00m exception_class(message, screen, stacktrace, alert_text)\n\u001b[1;32m--> 242\u001b[0m \u001b[38;5;28;01mraise\u001b[39;00m exception_class(message, screen, stacktrace)\n",
      "\u001b[1;31mNoSuchElementException\u001b[0m: Message: no such element: Unable to locate element: {\"method\":\"xpath\",\"selector\":\"//a[@class=\"_5pcq\"]/abbr\"}\n  (Session info: chrome=115.0.5790.110)\n"
     ]
    }
   ],
   "source": [
    "# -- Begin Find to FB post Date & Time --\n",
    "\n",
    "# 找到包含\"dataCreated\"的script元素\n",
    "#     script_element = driver_fb.find_element_by_xpath('//script[@type=\"application/ld+json\"]')\n",
    "date_created = driver_fb.find_element_by_xpath('//a[@class=\"_5pcq\"]/abbr').get_attribute('data-tooltip-content')\n",
    "\n",
    "print(\"date_created: \", date_created)\n",
    "\n",
    "#     # 獲取script元素的內容\n",
    "#     date_created = script_element.get_attribute('data-tooltip-content')\n",
    "\n",
    "# 解析日期時間字串，取得日期和時間\n",
    "date_str, time_str = date_created.split(' ')[0], date_created.split(' ')[1]\n",
    "time_str = time_str[3:]\n",
    "print('date_str: ', date_str)\n",
    "print('time_str: ', time_str)\n",
    "\n",
    "# 解析日期\n",
    "date_obj = datetime.strptime(date_str, \"%Y年%m月%d日\")\n",
    "print(\"date_obj: \", date_obj)\n",
    "\n",
    "print(\"time_str[2:].split(':') \", time_str[2:].split(':'))\n",
    "\n",
    "# 解析時間，這裡假設時間字串為上午時段，可以進一步判斷是上午還是下午\n",
    "hour, minute = map(int, time_str[2:].split(':'))\n",
    "\n",
    "print(\"hour: \", hour)\n",
    "print(\"minute: \", minute)\n",
    "\n",
    "if '上午' in time_str:\n",
    "    # 上午時段，不需要做任何調整\n",
    "    pass\n",
    "else:\n",
    "    # 下午時段，加12小時\n",
    "    hour += 12\n",
    "\n",
    "    \n",
    "    \n",
    "# 建立新的datetime物件\n",
    "datetime_obj = datetime(date_obj.year, date_obj.month, date_obj.day, hour, minute)\n",
    "\n",
    "# # 調整時區（從當地時區調整為UTC+8）\n",
    "# datetime_obj = datetime_obj + timedelta(hours=15)\n",
    "\n",
    "#     # 解析JSON資料，取得\"dataCreated\"的值\n",
    "\n",
    "#     data = json.loads(script_content)\n",
    "#     date_created = data['dateCreated']\n",
    "#     print(\"date:\", date_created)\n",
    "\n",
    "#     # 移除時區資訊（例如-0700）\n",
    "#     date_created = date_created[:-5]\n",
    "\n",
    "#     # 轉換日期時間字串為datetime物件\n",
    "#     datetime_obj = datetime.strptime(date_created, '%Y-%m-%dT%H:%M:%S')\n",
    "\n",
    "#     # 調整時區（從-0700調整為+0800）\n",
    "#     datetime_obj = datetime_obj + timedelta(hours=15)\n",
    "\n",
    "# 或者，如果您希望將日期和時間分開輸出，可以這樣做：\n",
    "date_str = datetime_obj.strftime('%Y-%m-%d')\n",
    "time_str = datetime_obj.strftime('%H:%M:%S')\n",
    "print(\"調整後的日期:\", date_str)\n",
    "print(\"調整後的時間:\", time_str)\n",
    "\n",
    "post_YYYY = int(date_str.split('-')[0])\n",
    "post_MM = int(date_str.split('-')[1])\n",
    "post_DD = int(date_str.split('-')[2])\n",
    "\n",
    "day_str = datetime(post_YYYY, post_MM, post_DD)\n",
    "day_str = day_str.strftime(\"%w\")\n",
    "if day_str == \"0\":\n",
    "    day_str = \"7\"\n",
    "\n",
    "print(date_str, \" \", day_str, \" \", time_str)\n"
   ]
  },
  {
   "cell_type": "code",
   "execution_count": 16,
   "id": "d0268696",
   "metadata": {
    "scrolled": true
   },
   "outputs": [
    {
     "name": "stdout",
     "output_type": "stream",
     "text": [
      "web_bt_ori:  https://l.facebook.com/l.php?u=https%3A%2F%2Fbit.ly%2F3ELxYSA&h=AT1dNaLwIXR0gkxJ4Tll9rkd4ndOG1P_o9lnfD9465pprAHdJi9zRtgCE41dyMNURVjHhfy7EdieFN5eJTP2veWmnBxaeipx3TfSU3tPyBOSEsNaS_NePT7V9o4Kd_7fWyahEM7jrmz0SkARpRUNeGavwTBOFFg1&__tn__=R]-R&c[0]=AT1_ca4nMMxvJz2C-Wo4zPPawycmUbm2DPqdpj_dqIW0QULMjiZgWVygLxNl9L1-0HSmRXqAR5JC8Oh0rgMA0XdWRZ2G3KtmzLAhH22m9oKUpSmjwWgam8ffk7_ui8KUFSes_T3BHPruCbmkd2Ly9At1wph4LYYRor0NoZ36I9r5o9e3dt0wF1_n_E1WZIPHNaA\n",
      "https://bit.ly/3ELxYSA\n",
      "True\n"
     ]
    }
   ],
   "source": [
    "## 20230802\n",
    "\n",
    "# web_bt_all = WebDriverWait(driver_fb, 5).until(EC.presence_of_element_located((By.XPATH, \"//div[@class='_4eeo']\")))\n",
    "## test1\n",
    "# web_bt_ori = driver_fb.find_element_by_xpath('//div[@class=\"x1lliihq xjkvuk6 x1iorvi4\"]/span/div/div[2]/a').get_attribute('href')\n",
    "\n",
    "## test2\n",
    "web_bt_ori = driver_fb.find_element_by_xpath('//div[@class=\"x4xrfw5 x9f619 x78zum5 xdt5ytf x1iyjqo2 xl56j7k x889kno xn6708d x1a8lsjc x1ye3gou xh8yej3\"]/a').get_attribute('href')\n",
    "\n",
    "\n",
    "print(\"web_bt_ori: \", web_bt_ori)\n",
    "\n",
    "parsed_url = urllib.parse.urlparse(web_bt_ori)\n",
    "query_params = urllib.parse.parse_qs(parsed_url.query)\n",
    "bt_link = query_params[\"u\"][0]\n",
    "\n",
    "print(bt_link)\n",
    "print(('www.businesstoday.com.tw' in bt_link ) or ('bit.ly' in bt_link))"
   ]
  },
  {
   "cell_type": "code",
   "execution_count": 17,
   "id": "a1db7eb1",
   "metadata": {},
   "outputs": [
    {
     "name": "stdout",
     "output_type": "stream",
     "text": [
      "https://bit.ly/3ELxYSA\n"
     ]
    }
   ],
   "source": [
    "## 20230920\n",
    "\n",
    "if \"peview\" in bt_link:\n",
    "    print(\"wrong link: \", bt_link)\n",
    "    bt_link = bt_link.replace(\"peview\", \"post\")\n",
    "\n",
    "elif ('www.businesstoday.com.tw' in bt_link ) or ('bit.ly' in bt_link):\n",
    "    bt_link = bt_link\n",
    "    \n",
    "    print(bt_link)\n",
    "\n",
    "else:\n",
    "    headers={\"user-agent\":\"Mozilla/5.0 (Windows NT 10.0; Win64; x64) AppleWebKit/537.36 (KHTML, like Gecko) Chrome/113.0.0.0 Safari/537.36\"}\n",
    "    other_response = requests.get(bt_link)\n",
    "\n",
    "    other_url = BeautifulSoup(other_response.text, \"lxml\")\n",
    "\n",
    "    all_a = other_url.find_all('a')\n",
    "\n",
    "    for item in all_a:\n",
    "\n",
    "        if 'businesstoday' in item.get('href'):\n",
    "\n",
    "            bt_link = item.get('href')\n",
    "            print(\"Different url to original link:\", bt_link)"
   ]
  },
  {
   "cell_type": "code",
   "execution_count": 5,
   "id": "25effb3e",
   "metadata": {
    "scrolled": true
   },
   "outputs": [
    {
     "ename": "TimeoutException",
     "evalue": "Message: \n",
     "output_type": "error",
     "traceback": [
      "\u001b[1;31m---------------------------------------------------------------------------\u001b[0m",
      "\u001b[1;31mTimeoutException\u001b[0m                          Traceback (most recent call last)",
      "Cell \u001b[1;32mIn[5], line 2\u001b[0m\n\u001b[0;32m      1\u001b[0m \u001b[38;5;66;03m# Click comment button\u001b[39;00m\n\u001b[1;32m----> 2\u001b[0m comment_button \u001b[38;5;241m=\u001b[39m \u001b[43mWebDriverWait\u001b[49m\u001b[43m(\u001b[49m\u001b[43mdriver_fb\u001b[49m\u001b[43m,\u001b[49m\u001b[43m \u001b[49m\u001b[38;5;241;43m5\u001b[39;49m\u001b[43m)\u001b[49m\u001b[38;5;241;43m.\u001b[39;49m\u001b[43muntil\u001b[49m\u001b[43m(\u001b[49m\u001b[43mEC\u001b[49m\u001b[38;5;241;43m.\u001b[39;49m\u001b[43mpresence_of_element_located\u001b[49m\u001b[43m(\u001b[49m\u001b[43m(\u001b[49m\u001b[43mBy\u001b[49m\u001b[38;5;241;43m.\u001b[39;49m\u001b[43mXPATH\u001b[49m\u001b[43m,\u001b[49m\u001b[43m \u001b[49m\u001b[38;5;124;43m\"\u001b[39;49m\u001b[38;5;124;43m//span[@class=\u001b[39;49m\u001b[38;5;124;43m'\u001b[39;49m\u001b[38;5;124;43m_1whp _4vn2\u001b[39;49m\u001b[38;5;124;43m'\u001b[39;49m\u001b[38;5;124;43m]\u001b[39;49m\u001b[38;5;124;43m\"\u001b[39;49m\u001b[43m)\u001b[49m\u001b[43m)\u001b[49m\u001b[43m)\u001b[49m\n\u001b[0;32m      4\u001b[0m \u001b[38;5;66;03m# comment_button = driver_fb.find_element_by_xpath(\"//span[@class='_1whp _4vn2']\")\u001b[39;00m\n\u001b[0;32m      6\u001b[0m comment_button\u001b[38;5;241m.\u001b[39mclick()\n",
      "File \u001b[1;32m~\\anaconda3\\lib\\site-packages\\selenium\\webdriver\\support\\wait.py:80\u001b[0m, in \u001b[0;36mWebDriverWait.until\u001b[1;34m(self, method, message)\u001b[0m\n\u001b[0;32m     78\u001b[0m     \u001b[38;5;28;01mif\u001b[39;00m time\u001b[38;5;241m.\u001b[39mtime() \u001b[38;5;241m>\u001b[39m end_time:\n\u001b[0;32m     79\u001b[0m         \u001b[38;5;28;01mbreak\u001b[39;00m\n\u001b[1;32m---> 80\u001b[0m \u001b[38;5;28;01mraise\u001b[39;00m TimeoutException(message, screen, stacktrace)\n",
      "\u001b[1;31mTimeoutException\u001b[0m: Message: \n"
     ]
    }
   ],
   "source": [
    "\n",
    "\n",
    "# # Click comment button\n",
    "# comment_button = WebDriverWait(driver_fb, 5).until(EC.presence_of_element_located((By.XPATH, \"//span[@class='_1whp _4vn2']\")))\n",
    "\n",
    "# # comment_button = driver_fb.find_element_by_xpath(\"//span[@class='_1whp _4vn2']\")\n",
    "\n",
    "# comment_button.click()\n",
    "\n",
    "# # 2023/06/14 換成抓留言區的連結\n",
    "\n",
    "# # lst_fb_comment_all = WebDriverWait(driver_fb, 5).until(EC.presence_of_element_located((By.XPATH, \"//div[@class='_72vr']\")))\n",
    "\n",
    "time.sleep(1)\n",
    "lst_fb_comment_all = driver_fb.find_elements_by_xpath(\"//div[@class='_72vr']\")\n",
    "\n",
    "lst_web_href = []\n",
    "\n",
    "for comment_num in range(len(lst_fb_comment_all)):\n",
    "    \n",
    "    print(comment_num)\n",
    "    try:\n",
    "        print(lst_fb_comment_all[comment_num].find_element_by_xpath(\".//a\").text)\n",
    "    \n",
    "        if lst_fb_comment_all[comment_num].find_element_by_xpath(\".//a\").text == \"今周刊\":\n",
    "            \n",
    "            # 抓取今周刊留言的資料\n",
    "    #                 bt_comment = lst_fb_comment_all[comment_num].text\n",
    "    \n",
    "            lst_fb_href = lst_fb_comment_all[comment_num].find_elements_by_xpath(\".//span/span/a\")\n",
    "            \n",
    "            for fb_href in lst_fb_href:\n",
    "                lst_web_href.append(fb_href.get_attribute(\"href\"))\n",
    "#                 print(a_href)\n",
    "#                 if \"businesstoday\" in a_href:\n",
    "#                     bt_comment = a_href\n",
    "#             bt_comment = lst_fb_comment_all[comment_num].find_element_by_xpath(\".//span/span/a\").get_attribute(\"href\")\n",
    "        break\n",
    "    \n",
    "    except:\n",
    "        pass\n",
    "\n",
    "print(lst_web_href)\n",
    "\n",
    "# web_bt = bt_comment\n",
    "\n",
    "# driver_fb.quit()"
   ]
  },
  {
   "cell_type": "code",
   "execution_count": 12,
   "id": "7d50338f",
   "metadata": {},
   "outputs": [
    {
     "name": "stdout",
     "output_type": "stream",
     "text": [
      "https://l.facebook.com/l.php?u=https%3A%2F%2Fbit.ly%2F3ORaNg6&h=AT0hoyrL1ggH8cuw98Dt8pj505AJUnTOZycYnNq6rSw593Dk0HSQvU67vCrBwlgbowH9guJbBCW331iLuTlNsyYlt_jXNUoNhMF5s6MVSesBmYxGjNq_MoRGG9peI2q_3znmB5UbDBfYrb4rLaRd\n"
     ]
    }
   ],
   "source": [
    "web_bt = ['https://www.facebook.com/hashtag/%E7%A7%9F%E9%87%91%E8%A3%9C%E8%B2%BC?__eep__=6&hc_location=ufi',\"https://l.facebook.com/l.php?u=https%3A%2F%2Fbit.ly%2F3ORaNg6&h=AT0hoyrL1ggH8cuw98Dt8pj505AJUnTOZycYnNq6rSw593Dk0HSQvU67vCrBwlgbowH9guJbBCW331iLuTlNsyYlt_jXNUoNhMF5s6MVSesBmYxGjNq_MoRGG9peI2q_3znmB5UbDBfYrb4rLaRd\"]\n",
    "\n",
    "for item in web_bt:\n",
    "    \n",
    "    if \"hashtag\" not in item:\n",
    "#             print(web_bt)\n",
    "\n",
    "        print(item)"
   ]
  },
  {
   "cell_type": "code",
   "execution_count": null,
   "id": "9d6ee01c",
   "metadata": {},
   "outputs": [],
   "source": [
    "\n",
    "# Click comment button\n",
    "comment_button = WebDriverWait(driver_fb, 5).until(EC.presence_of_element_located((By.XPATH, \"//span[@class='_1whp _4vn2']\")))\n",
    "\n",
    "# comment_button = driver_fb.find_element_by_xpath(\"//span[@class='_1whp _4vn2']\")\n",
    "\n",
    "comment_button.click()"
   ]
  },
  {
   "cell_type": "code",
   "execution_count": null,
   "id": "ca75c7cf",
   "metadata": {},
   "outputs": [],
   "source": [
    "lst_fb_comment_all = driver_fb.find_elements_by_xpath(\"//div[@class='_72vr']\")\n",
    "\n",
    "for comment_num in range(len(lst_fb_comment_all)):\n",
    "    \n",
    "    print(comment_num)\n",
    "    try:\n",
    "        print(lst_fb_comment_all[comment_num].find_element_by_xpath(\".//a\").text)\n",
    "    \n",
    "        if lst_fb_comment_all[comment_num].find_element_by_xpath(\".//a\").text == \"今周刊\":\n",
    "            \n",
    "            # 抓取今周刊留言的資料\n",
    "    #                 bt_comment = lst_fb_comment_all[comment_num].text\n",
    "    \n",
    "            lst_fb_href = lst_fb_comment_all[comment_num].find_elements_by_xpath(\".//span/span/a\")\n",
    "            \n",
    "            for fb_href in lst_fb_href:\n",
    "                a_href = fb_href.get_attribute(\"href\")\n",
    "#                 print(a_href)\n",
    "                if \"businesstoday\" in a_href:\n",
    "                    bt_comment = a_href\n",
    "#             bt_comment = lst_fb_comment_all[comment_num].find_element_by_xpath(\".//span/span/a\").get_attribute(\"href\")\n",
    "        break\n",
    "    \n",
    "    except:\n",
    "        pass\n",
    "\n",
    "print(bt_comment)\n",
    "\n",
    "web_bt = bt_comment"
   ]
  },
  {
   "cell_type": "code",
   "execution_count": null,
   "id": "527e7efa",
   "metadata": {},
   "outputs": [],
   "source": [
    "# type(a_href)"
   ]
  },
  {
   "cell_type": "code",
   "execution_count": null,
   "id": "eca5cc3b",
   "metadata": {},
   "outputs": [],
   "source": [
    "# fb_comment_all.text[:3] == \"今周刊\"\n",
    "\n",
    "# bt_comment = fb_comment_all.text"
   ]
  },
  {
   "cell_type": "code",
   "execution_count": null,
   "id": "765d6cee",
   "metadata": {},
   "outputs": [],
   "source": [
    "# bt_comment_lst = bt_comment.split(\"\\n\")\n",
    "# print(bt_comment_lst)"
   ]
  },
  {
   "cell_type": "code",
   "execution_count": null,
   "id": "6e36e10e",
   "metadata": {},
   "outputs": [],
   "source": [
    "# url_extract_pattern = \"https?:\\\\/\\\\/(?:www\\\\.)?[-a-zA-Z0-9@:%._\\\\+~#=]{1,256}\\\\.[a-zA-Z0-9()]{1,6}\\\\b(?:[-a-zA-Z0-9()@:%_\\\\+.~#?&\\\\/=]*)\"\n",
    "\n",
    "# for item in bt_comment_lst:\n",
    "# #     print(item)\n",
    "#     bt_web_url = re.findall(url_extract_pattern, item)\n",
    "#     if bt_web_url != \"\":\n",
    "#         print(type(bt_web_url))"
   ]
  },
  {
   "cell_type": "code",
   "execution_count": null,
   "id": "4a0d351d",
   "metadata": {},
   "outputs": [],
   "source": [
    "# bt_comment_lst"
   ]
  },
  {
   "cell_type": "code",
   "execution_count": null,
   "id": "6f75edb7",
   "metadata": {},
   "outputs": [],
   "source": [
    "# def extract_urls(url_list):\n",
    "#     http_pattern = re.compile(r'^https?://', re.IGNORECASE)\n",
    "#     wb_url = None\n",
    "\n",
    "#     for data in url_list:\n",
    "#         if http_pattern.match(data):\n",
    "#             wb_url = data\n",
    "#             break\n",
    "\n",
    "#     return wb_url\n",
    "\n",
    "# # # 測試資料\n",
    "# # data_list = ['www.example.com', 'https://www.example.com', 'http://www.example.com', 'ftp://www.example.com']\n",
    "\n",
    "# # 抓取符合條件的URL\n",
    "# wb_url = extract_urls(bt_comment_lst)\n",
    "\n",
    "# # 輸出結果\n",
    "# print(wb_url)\n"
   ]
  },
  {
   "cell_type": "code",
   "execution_count": null,
   "id": "44f29db1",
   "metadata": {},
   "outputs": [],
   "source": [
    "# # Get article link\n",
    "\n",
    "# web_bt_all = WebDriverWait(driver_fb, 5).until(EC.presence_of_element_located((By.XPATH, \"//div[@class='_4eeo']\")))\n",
    "# web_bt = web_bt_all.find_element_by_xpath(\"//div[@class='_3mvv']/a\").get_attribute('href')\n",
    "# print(web_bt)\n",
    "\n"
   ]
  },
  {
   "cell_type": "code",
   "execution_count": 18,
   "id": "ca794fc8",
   "metadata": {},
   "outputs": [],
   "source": [
    "driver_fb.quit()"
   ]
  },
  {
   "cell_type": "code",
   "execution_count": null,
   "id": "7740812c",
   "metadata": {},
   "outputs": [],
   "source": [
    "driver_bt = webdriver.Chrome(path)\n",
    "\n",
    "driver_bt.get(web_bt)\n",
    "\n",
    "driver_bt.maximize_window()\n"
   ]
  },
  {
   "cell_type": "code",
   "execution_count": null,
   "id": "0f0a6023",
   "metadata": {},
   "outputs": [],
   "source": [
    "# find article classification\n",
    "article_class = driver_bt.find_element_by_xpath(\"//p[@class='context__info-item context__info-item--type']\").text\n",
    "print(article_class)\n"
   ]
  },
  {
   "cell_type": "code",
   "execution_count": null,
   "id": "91aeea93",
   "metadata": {},
   "outputs": [],
   "source": [
    "driver_bt.quit()"
   ]
  },
  {
   "cell_type": "code",
   "execution_count": null,
   "id": "de900c07",
   "metadata": {},
   "outputs": [],
   "source": []
  }
 ],
 "metadata": {
  "kernelspec": {
   "display_name": "Python 3 (ipykernel)",
   "language": "python",
   "name": "python3"
  },
  "language_info": {
   "codemirror_mode": {
    "name": "ipython",
    "version": 3
   },
   "file_extension": ".py",
   "mimetype": "text/x-python",
   "name": "python",
   "nbconvert_exporter": "python",
   "pygments_lexer": "ipython3",
   "version": "3.10.9"
  }
 },
 "nbformat": 4,
 "nbformat_minor": 5
}
